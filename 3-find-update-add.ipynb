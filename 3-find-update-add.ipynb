{
 "cells": [
  {
   "cell_type": "code",
   "execution_count": 1,
   "id": "68dec792",
   "metadata": {},
   "outputs": [],
   "source": [
    "import pandas as pd"
   ]
  },
  {
   "cell_type": "code",
   "execution_count": 2,
   "id": "ed863390",
   "metadata": {},
   "outputs": [],
   "source": [
    "european_cities_list = [\n",
    "    [\"Istanbul\",15000000],\n",
    "    [\"Moscow\",12000000],\n",
    "    [\"Paris\",11000000],\n",
    "    [\"London\",9000000],\n",
    "    [\"Madrid\",6000000]\n",
    "]\n",
    "df = pd.DataFrame(european_cities_list, columns=[\"cities\",\"population\"])"
   ]
  },
  {
   "cell_type": "markdown",
   "id": "9ea00b89",
   "metadata": {},
   "source": [
    "# 1. Find a specific row - based on a search string\n",
    "\n",
    "We want to find a row/ rows where the cities column is \"Paris\".\n",
    "- This will return a DataFrame"
   ]
  },
  {
   "cell_type": "code",
   "execution_count": 3,
   "id": "e5e484c4",
   "metadata": {},
   "outputs": [
    {
     "data": {
      "text/html": [
       "<div>\n",
       "<style scoped>\n",
       "    .dataframe tbody tr th:only-of-type {\n",
       "        vertical-align: middle;\n",
       "    }\n",
       "\n",
       "    .dataframe tbody tr th {\n",
       "        vertical-align: top;\n",
       "    }\n",
       "\n",
       "    .dataframe thead th {\n",
       "        text-align: right;\n",
       "    }\n",
       "</style>\n",
       "<table border=\"1\" class=\"dataframe\">\n",
       "  <thead>\n",
       "    <tr style=\"text-align: right;\">\n",
       "      <th></th>\n",
       "      <th>cities</th>\n",
       "      <th>population</th>\n",
       "    </tr>\n",
       "  </thead>\n",
       "  <tbody>\n",
       "    <tr>\n",
       "      <th>2</th>\n",
       "      <td>Paris</td>\n",
       "      <td>11000000</td>\n",
       "    </tr>\n",
       "  </tbody>\n",
       "</table>\n",
       "</div>"
      ],
      "text/plain": [
       "  cities  population\n",
       "2  Paris    11000000"
      ]
     },
     "execution_count": 3,
     "metadata": {},
     "output_type": "execute_result"
    }
   ],
   "source": [
    "df[df[\"cities\"] == \"Paris\"]"
   ]
  },
  {
   "cell_type": "markdown",
   "id": "af77cd53",
   "metadata": {},
   "source": [
    "# 2. Find rows based on str.contains (similar to SQL like)\n",
    "- Here we want to find companies that have profit losses in billions (marked with a B).\n",
    "- We can use str.contains to filter strings."
   ]
  },
  {
   "cell_type": "code",
   "execution_count": 4,
   "id": "79765260",
   "metadata": {},
   "outputs": [
    {
     "data": {
      "text/html": [
       "<div>\n",
       "<style scoped>\n",
       "    .dataframe tbody tr th:only-of-type {\n",
       "        vertical-align: middle;\n",
       "    }\n",
       "\n",
       "    .dataframe tbody tr th {\n",
       "        vertical-align: top;\n",
       "    }\n",
       "\n",
       "    .dataframe thead th {\n",
       "        text-align: right;\n",
       "    }\n",
       "</style>\n",
       "<table border=\"1\" class=\"dataframe\">\n",
       "  <thead>\n",
       "    <tr style=\"text-align: right;\">\n",
       "      <th></th>\n",
       "      <th>company</th>\n",
       "      <th>sales</th>\n",
       "      <th>profit</th>\n",
       "    </tr>\n",
       "  </thead>\n",
       "  <tbody>\n",
       "    <tr>\n",
       "      <th>1</th>\n",
       "      <td>CompB</td>\n",
       "      <td>$94.2 M</td>\n",
       "      <td>$-2.5 B</td>\n",
       "    </tr>\n",
       "  </tbody>\n",
       "</table>\n",
       "</div>"
      ],
      "text/plain": [
       "  company    sales   profit\n",
       "1   CompB  $94.2 M  $-2.5 B"
      ]
     },
     "execution_count": 4,
     "metadata": {},
     "output_type": "execute_result"
    }
   ],
   "source": [
    "df_global_sales = pd.DataFrame(\n",
    "    {\n",
    "        \"company\":[\"CompA\",\"CompB\"],\n",
    "        \"sales\":[\"$12.2 B\",\"$94.2 M\"],\n",
    "        \"profit\":[\"$3.2 B\",\"$-2.5 B\"]\n",
    "    }\n",
    ")\n",
    "df_global_sales[df_global_sales['profit'].str.contains('-') & df_global_sales['profit'].str.contains('B')]"
   ]
  },
  {
   "cell_type": "markdown",
   "id": "2a042302",
   "metadata": {},
   "source": [
    "# 3. Find rows based on filtering numbers (greater than)"
   ]
  },
  {
   "cell_type": "code",
   "execution_count": 5,
   "id": "b1eb010d",
   "metadata": {},
   "outputs": [
    {
     "data": {
      "text/html": [
       "<div>\n",
       "<style scoped>\n",
       "    .dataframe tbody tr th:only-of-type {\n",
       "        vertical-align: middle;\n",
       "    }\n",
       "\n",
       "    .dataframe tbody tr th {\n",
       "        vertical-align: top;\n",
       "    }\n",
       "\n",
       "    .dataframe thead th {\n",
       "        text-align: right;\n",
       "    }\n",
       "</style>\n",
       "<table border=\"1\" class=\"dataframe\">\n",
       "  <thead>\n",
       "    <tr style=\"text-align: right;\">\n",
       "      <th></th>\n",
       "      <th>cities</th>\n",
       "      <th>population</th>\n",
       "    </tr>\n",
       "  </thead>\n",
       "  <tbody>\n",
       "    <tr>\n",
       "      <th>0</th>\n",
       "      <td>Istanbul</td>\n",
       "      <td>15000000</td>\n",
       "    </tr>\n",
       "    <tr>\n",
       "      <th>1</th>\n",
       "      <td>Moscow</td>\n",
       "      <td>12000000</td>\n",
       "    </tr>\n",
       "    <tr>\n",
       "      <th>2</th>\n",
       "      <td>Paris</td>\n",
       "      <td>11000000</td>\n",
       "    </tr>\n",
       "  </tbody>\n",
       "</table>\n",
       "</div>"
      ],
      "text/plain": [
       "     cities  population\n",
       "0  Istanbul    15000000\n",
       "1    Moscow    12000000\n",
       "2     Paris    11000000"
      ]
     },
     "execution_count": 5,
     "metadata": {},
     "output_type": "execute_result"
    }
   ],
   "source": [
    "df[df['population'] > 10000000]"
   ]
  },
  {
   "cell_type": "markdown",
   "id": "fe120157",
   "metadata": {},
   "source": [
    "#  4. Find a specific row - based on Index Number\n",
    "- Here you can find row data based on index number."
   ]
  },
  {
   "cell_type": "code",
   "execution_count": 6,
   "id": "ffc06ce6",
   "metadata": {},
   "outputs": [
    {
     "data": {
      "text/plain": [
       "cities           Paris\n",
       "population    11000000\n",
       "Name: 2, dtype: object"
      ]
     },
     "execution_count": 6,
     "metadata": {},
     "output_type": "execute_result"
    }
   ],
   "source": [
    "# Returns a <class 'pandas.core.series.Series'>\n",
    "df.loc[2]"
   ]
  },
  {
   "cell_type": "markdown",
   "id": "cd13590a",
   "metadata": {},
   "source": [
    "# 5. Find specific cell data - based on Index Number"
   ]
  },
  {
   "cell_type": "code",
   "execution_count": 7,
   "id": "64327eba",
   "metadata": {},
   "outputs": [
    {
     "data": {
      "text/plain": [
       "11000000"
      ]
     },
     "execution_count": 7,
     "metadata": {},
     "output_type": "execute_result"
    }
   ],
   "source": [
    "df.loc[2][\"population\"]"
   ]
  },
  {
   "cell_type": "markdown",
   "id": "17f0ea54",
   "metadata": {},
   "source": [
    "# 6. Find index numbers - based on a search"
   ]
  },
  {
   "cell_type": "markdown",
   "id": "1426d493",
   "metadata": {},
   "source": [
    "- Here we find only the 'Sales Total' results for the 'Salesperson' named 'Paul'.\n",
    "- The steps are broken down to show how the types returned."
   ]
  },
  {
   "cell_type": "code",
   "execution_count": 8,
   "id": "948b41f2",
   "metadata": {},
   "outputs": [
    {
     "data": {
      "text/html": [
       "<div>\n",
       "<style scoped>\n",
       "    .dataframe tbody tr th:only-of-type {\n",
       "        vertical-align: middle;\n",
       "    }\n",
       "\n",
       "    .dataframe tbody tr th {\n",
       "        vertical-align: top;\n",
       "    }\n",
       "\n",
       "    .dataframe thead th {\n",
       "        text-align: right;\n",
       "    }\n",
       "</style>\n",
       "<table border=\"1\" class=\"dataframe\">\n",
       "  <thead>\n",
       "    <tr style=\"text-align: right;\">\n",
       "      <th></th>\n",
       "      <th>Salesperson</th>\n",
       "      <th>Sales Total</th>\n",
       "    </tr>\n",
       "  </thead>\n",
       "  <tbody>\n",
       "    <tr>\n",
       "      <th>0</th>\n",
       "      <td>Paul</td>\n",
       "      <td>50</td>\n",
       "    </tr>\n",
       "    <tr>\n",
       "      <th>1</th>\n",
       "      <td>Stacy</td>\n",
       "      <td>100</td>\n",
       "    </tr>\n",
       "    <tr>\n",
       "      <th>2</th>\n",
       "      <td>Paul</td>\n",
       "      <td>80</td>\n",
       "    </tr>\n",
       "  </tbody>\n",
       "</table>\n",
       "</div>"
      ],
      "text/plain": [
       "  Salesperson  Sales Total\n",
       "0        Paul           50\n",
       "1       Stacy          100\n",
       "2        Paul           80"
      ]
     },
     "execution_count": 8,
     "metadata": {},
     "output_type": "execute_result"
    }
   ],
   "source": [
    "df_sp = pd.DataFrame([[\"Paul\",50],[\"Stacy\",100],[\"Paul\",80]], columns=[\"Salesperson\",\"Sales Total\"])\n",
    "df_sp"
   ]
  },
  {
   "cell_type": "code",
   "execution_count": 9,
   "id": "547724b7",
   "metadata": {},
   "outputs": [
    {
     "name": "stdout",
     "output_type": "stream",
     "text": [
      "<class 'pandas.core.indexes.numeric.Int64Index'>\n",
      "Int64Index([0, 2], dtype='int64')\n"
     ]
    }
   ],
   "source": [
    "# Get all index numbers where \"Salesperson\" == \"Paul\"\n",
    "paul_rows = df_sp[df_sp[\"Salesperson\"] == \"Paul\"].index\n",
    "print(type(paul_rows))\n",
    "print(paul_rows)"
   ]
  },
  {
   "cell_type": "markdown",
   "id": "0e3db229",
   "metadata": {},
   "source": [
    "# 7. Find specific cell data - from a list of multiple Index Numbers"
   ]
  },
  {
   "cell_type": "code",
   "execution_count": 10,
   "id": "fa0a7bd0",
   "metadata": {},
   "outputs": [
    {
     "name": "stdout",
     "output_type": "stream",
     "text": [
      "<class 'pandas.core.series.Series'>\n",
      "0    50\n",
      "2    80\n",
      "Name: Sales Total, dtype: int64\n"
     ]
    }
   ],
   "source": [
    "# Pass \"paul_rows\" index numbers to 'df.loc[]' to return a series\n",
    "paul_sales_totals = df_sp.loc[paul_rows][\"Sales Total\"]\n",
    "print(type(paul_sales_totals))\n",
    "print(paul_sales_totals)"
   ]
  },
  {
   "cell_type": "markdown",
   "id": "3aa55b17",
   "metadata": {},
   "source": [
    "# 8. Create a Boolean mask (True or False filtering)\n",
    "- Here, we create a mask that returns True or False for every row in the table.\n",
    "- Then we can perform a calculation on all True rows."
   ]
  },
  {
   "cell_type": "code",
   "execution_count": 11,
   "id": "ead4e307",
   "metadata": {},
   "outputs": [
    {
     "data": {
      "text/plain": [
       "0     True\n",
       "1    False\n",
       "2     True\n",
       "Name: Salesperson, dtype: bool"
      ]
     },
     "execution_count": 11,
     "metadata": {},
     "output_type": "execute_result"
    }
   ],
   "source": [
    "# Create Boolean mask - returns True or False for every row if it matches 'Paul'\n",
    "mask = df_sp['Salesperson'] == 'Paul'\n",
    "\n",
    "mask"
   ]
  },
  {
   "cell_type": "code",
   "execution_count": 12,
   "id": "6890a725",
   "metadata": {},
   "outputs": [
    {
     "data": {
      "text/plain": [
       "65.0"
      ]
     },
     "execution_count": 12,
     "metadata": {},
     "output_type": "execute_result"
    }
   ],
   "source": [
    "# Calculate the 'Mean' for all rows that return True\n",
    "df_sp[mask]['Sales Total'].mean() "
   ]
  },
  {
   "cell_type": "markdown",
   "id": "160be5aa",
   "metadata": {},
   "source": [
    "# 9. Series - convert a series to a Dataframe or a List\n",
    "- Getting specific columns returns a series rather than a dataframe\n",
    "- You can also convert a Series to a tuple, set or dictionary"
   ]
  },
  {
   "cell_type": "code",
   "execution_count": 13,
   "id": "df699bc3",
   "metadata": {},
   "outputs": [
    {
     "data": {
      "text/plain": [
       "pandas.core.series.Series"
      ]
     },
     "execution_count": 13,
     "metadata": {},
     "output_type": "execute_result"
    }
   ],
   "source": [
    "series_population = df.loc[[0,1]]['population']\n",
    "type(series_population)"
   ]
  },
  {
   "cell_type": "code",
   "execution_count": 14,
   "id": "c5e825c3",
   "metadata": {},
   "outputs": [
    {
     "data": {
      "text/html": [
       "<div>\n",
       "<style scoped>\n",
       "    .dataframe tbody tr th:only-of-type {\n",
       "        vertical-align: middle;\n",
       "    }\n",
       "\n",
       "    .dataframe tbody tr th {\n",
       "        vertical-align: top;\n",
       "    }\n",
       "\n",
       "    .dataframe thead th {\n",
       "        text-align: right;\n",
       "    }\n",
       "</style>\n",
       "<table border=\"1\" class=\"dataframe\">\n",
       "  <thead>\n",
       "    <tr style=\"text-align: right;\">\n",
       "      <th></th>\n",
       "      <th>population</th>\n",
       "    </tr>\n",
       "  </thead>\n",
       "  <tbody>\n",
       "    <tr>\n",
       "      <th>0</th>\n",
       "      <td>15000000</td>\n",
       "    </tr>\n",
       "    <tr>\n",
       "      <th>1</th>\n",
       "      <td>12000000</td>\n",
       "    </tr>\n",
       "  </tbody>\n",
       "</table>\n",
       "</div>"
      ],
      "text/plain": [
       "   population\n",
       "0    15000000\n",
       "1    12000000"
      ]
     },
     "execution_count": 14,
     "metadata": {},
     "output_type": "execute_result"
    }
   ],
   "source": [
    "# Convert series to a dataframe\n",
    "pd.DataFrame(series_population)"
   ]
  },
  {
   "cell_type": "code",
   "execution_count": 15,
   "id": "b6a6b3ad",
   "metadata": {},
   "outputs": [
    {
     "data": {
      "text/plain": [
       "[15000000, 12000000]"
      ]
     },
     "execution_count": 15,
     "metadata": {},
     "output_type": "execute_result"
    }
   ],
   "source": [
    "# Convert a series to a list - returns list of series values\n",
    "list(series_population)"
   ]
  },
  {
   "cell_type": "markdown",
   "id": "c9bf9466",
   "metadata": {},
   "source": [
    "# 10. Add a row"
   ]
  },
  {
   "cell_type": "code",
   "execution_count": 16,
   "id": "3201782e",
   "metadata": {},
   "outputs": [
    {
     "name": "stdout",
     "output_type": "stream",
     "text": [
      "5\n"
     ]
    },
    {
     "data": {
      "text/html": [
       "<div>\n",
       "<style scoped>\n",
       "    .dataframe tbody tr th:only-of-type {\n",
       "        vertical-align: middle;\n",
       "    }\n",
       "\n",
       "    .dataframe tbody tr th {\n",
       "        vertical-align: top;\n",
       "    }\n",
       "\n",
       "    .dataframe thead th {\n",
       "        text-align: right;\n",
       "    }\n",
       "</style>\n",
       "<table border=\"1\" class=\"dataframe\">\n",
       "  <thead>\n",
       "    <tr style=\"text-align: right;\">\n",
       "      <th></th>\n",
       "      <th>cities</th>\n",
       "      <th>population</th>\n",
       "    </tr>\n",
       "  </thead>\n",
       "  <tbody>\n",
       "    <tr>\n",
       "      <th>0</th>\n",
       "      <td>Istanbul</td>\n",
       "      <td>15000000</td>\n",
       "    </tr>\n",
       "    <tr>\n",
       "      <th>1</th>\n",
       "      <td>Moscow</td>\n",
       "      <td>12000000</td>\n",
       "    </tr>\n",
       "    <tr>\n",
       "      <th>2</th>\n",
       "      <td>Paris</td>\n",
       "      <td>11000000</td>\n",
       "    </tr>\n",
       "    <tr>\n",
       "      <th>3</th>\n",
       "      <td>London</td>\n",
       "      <td>9000000</td>\n",
       "    </tr>\n",
       "    <tr>\n",
       "      <th>4</th>\n",
       "      <td>Madrid</td>\n",
       "      <td>6000000</td>\n",
       "    </tr>\n",
       "    <tr>\n",
       "      <th>5</th>\n",
       "      <td>Berlin</td>\n",
       "      <td>3700000</td>\n",
       "    </tr>\n",
       "  </tbody>\n",
       "</table>\n",
       "</div>"
      ],
      "text/plain": [
       "     cities  population\n",
       "0  Istanbul    15000000\n",
       "1    Moscow    12000000\n",
       "2     Paris    11000000\n",
       "3    London     9000000\n",
       "4    Madrid     6000000\n",
       "5    Berlin     3700000"
      ]
     },
     "execution_count": 16,
     "metadata": {},
     "output_type": "execute_result"
    }
   ],
   "source": [
    "# First get latest row number\n",
    "next_row = len(df) \n",
    "print(next_row)\n",
    "\n",
    "# Create a new row and add data\n",
    "df.loc[next_row] = ['Berlin',3700000]\n",
    "df"
   ]
  },
  {
   "cell_type": "markdown",
   "id": "10d756f4",
   "metadata": {},
   "source": [
    "# 11. Add a row - based on previous row data"
   ]
  },
  {
   "cell_type": "markdown",
   "id": "0c2aa779",
   "metadata": {},
   "source": [
    "- Here we take the previous 'Investment Total' figure.\n",
    "- We round it down to the nearest hundred.\n",
    "- We calculate 2% of the rounded number.\n",
    "- We then add the 2% to the previous 'Investment Total' in a newly created row:"
   ]
  },
  {
   "cell_type": "code",
   "execution_count": 18,
   "id": "49c4484b",
   "metadata": {},
   "outputs": [
    {
     "data": {
      "text/plain": [
       "23700"
      ]
     },
     "execution_count": 18,
     "metadata": {},
     "output_type": "execute_result"
    }
   ],
   "source": [
    "import math\n",
    "\n",
    "# Function to round figure down to the nearest hundred\n",
    "def round_down_to_hundred(total):\n",
    "    if total < 100:\n",
    "        return 0\n",
    "    total_reduced = str(math.floor(total/100))\n",
    "    return int(total_reduced + \"00\")\n",
    "\n",
    "#Test function works\n",
    "round_down_to_hundred(23706.0)"
   ]
  },
  {
   "cell_type": "code",
   "execution_count": 19,
   "id": "8063467b",
   "metadata": {},
   "outputs": [
    {
     "data": {
      "text/html": [
       "<div>\n",
       "<style scoped>\n",
       "    .dataframe tbody tr th:only-of-type {\n",
       "        vertical-align: middle;\n",
       "    }\n",
       "\n",
       "    .dataframe tbody tr th {\n",
       "        vertical-align: top;\n",
       "    }\n",
       "\n",
       "    .dataframe thead th {\n",
       "        text-align: right;\n",
       "    }\n",
       "</style>\n",
       "<table border=\"1\" class=\"dataframe\">\n",
       "  <thead>\n",
       "    <tr style=\"text-align: right;\">\n",
       "      <th></th>\n",
       "      <th>Investment Total</th>\n",
       "    </tr>\n",
       "  </thead>\n",
       "  <tbody>\n",
       "    <tr>\n",
       "      <th>0</th>\n",
       "      <td>45625.0</td>\n",
       "    </tr>\n",
       "    <tr>\n",
       "      <th>1</th>\n",
       "      <td>45735.0</td>\n",
       "    </tr>\n",
       "    <tr>\n",
       "      <th>2</th>\n",
       "      <td>46649.0</td>\n",
       "    </tr>\n",
       "  </tbody>\n",
       "</table>\n",
       "</div>"
      ],
      "text/plain": [
       "   Investment Total\n",
       "0           45625.0\n",
       "1           45735.0\n",
       "2           46649.0"
      ]
     },
     "execution_count": 19,
     "metadata": {},
     "output_type": "execute_result"
    }
   ],
   "source": [
    "# New data frame\n",
    "df_investment = pd.DataFrame([[45625],[45735]], columns=[\"Investment Total\"])\n",
    "\n",
    "# Get 'Investment Total' from most recent row\n",
    "current_total = df_investment.loc[len(df_investment)-1]['Investment Total']\n",
    "\n",
    "# Get next row number\n",
    "next_row = len(df_investment)\n",
    "\n",
    "# Create the next row adding 2% to the current total rounded down to the nearest hundred\n",
    "df_investment.loc[next_row] = [current_total + ((round_down_to_hundred(current_total)) * 0.02)]\n",
    "\n",
    "df_investment"
   ]
  },
  {
   "cell_type": "markdown",
   "id": "181e000d",
   "metadata": {},
   "source": [
    "# 12. Update a cell - based on Index Number"
   ]
  },
  {
   "cell_type": "code",
   "execution_count": 21,
   "id": "51c7cf41",
   "metadata": {},
   "outputs": [
    {
     "name": "stdout",
     "output_type": "stream",
     "text": [
      "     cities  population\n",
      "0  Istanbul     5000000\n",
      "1    Moscow    12000000\n",
      "2     Paris    11000000\n",
      "3    London     9000000\n",
      "4    Madrid     6000000\n",
      "5    Berlin     3700000\n"
     ]
    },
    {
     "data": {
      "text/html": [
       "<div>\n",
       "<style scoped>\n",
       "    .dataframe tbody tr th:only-of-type {\n",
       "        vertical-align: middle;\n",
       "    }\n",
       "\n",
       "    .dataframe tbody tr th {\n",
       "        vertical-align: top;\n",
       "    }\n",
       "\n",
       "    .dataframe thead th {\n",
       "        text-align: right;\n",
       "    }\n",
       "</style>\n",
       "<table border=\"1\" class=\"dataframe\">\n",
       "  <thead>\n",
       "    <tr style=\"text-align: right;\">\n",
       "      <th></th>\n",
       "      <th>cities</th>\n",
       "      <th>population</th>\n",
       "    </tr>\n",
       "  </thead>\n",
       "  <tbody>\n",
       "    <tr>\n",
       "      <th>0</th>\n",
       "      <td>Istanbul</td>\n",
       "      <td>6000000</td>\n",
       "    </tr>\n",
       "    <tr>\n",
       "      <th>1</th>\n",
       "      <td>Moscow</td>\n",
       "      <td>12000000</td>\n",
       "    </tr>\n",
       "    <tr>\n",
       "      <th>2</th>\n",
       "      <td>Paris</td>\n",
       "      <td>11000000</td>\n",
       "    </tr>\n",
       "    <tr>\n",
       "      <th>3</th>\n",
       "      <td>London</td>\n",
       "      <td>9000000</td>\n",
       "    </tr>\n",
       "    <tr>\n",
       "      <th>4</th>\n",
       "      <td>Madrid</td>\n",
       "      <td>6000000</td>\n",
       "    </tr>\n",
       "    <tr>\n",
       "      <th>5</th>\n",
       "      <td>Berlin</td>\n",
       "      <td>3700000</td>\n",
       "    </tr>\n",
       "  </tbody>\n",
       "</table>\n",
       "</div>"
      ],
      "text/plain": [
       "     cities  population\n",
       "0  Istanbul     6000000\n",
       "1    Moscow    12000000\n",
       "2     Paris    11000000\n",
       "3    London     9000000\n",
       "4    Madrid     6000000\n",
       "5    Berlin     3700000"
      ]
     },
     "execution_count": 21,
     "metadata": {},
     "output_type": "execute_result"
    }
   ],
   "source": [
    "# Update Istanbul population and change it back.\n",
    "df.at[0,'population'] = 5000000\n",
    "print(df)\n",
    "df.at[0,'population'] = 6000000\n",
    "df"
   ]
  }
 ],
 "metadata": {
  "kernelspec": {
   "display_name": "Python 3 (ipykernel)",
   "language": "python",
   "name": "python3"
  },
  "language_info": {
   "codemirror_mode": {
    "name": "ipython",
    "version": 3
   },
   "file_extension": ".py",
   "mimetype": "text/x-python",
   "name": "python",
   "nbconvert_exporter": "python",
   "pygments_lexer": "ipython3",
   "version": "3.9.7"
  }
 },
 "nbformat": 4,
 "nbformat_minor": 5
}
