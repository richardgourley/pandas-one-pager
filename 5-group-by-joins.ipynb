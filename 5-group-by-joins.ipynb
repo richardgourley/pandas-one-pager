{
 "cells": [
  {
   "cell_type": "code",
   "execution_count": 1,
   "id": "6ca7f926",
   "metadata": {},
   "outputs": [],
   "source": [
    "import pandas as pd"
   ]
  },
  {
   "cell_type": "code",
   "execution_count": 2,
   "id": "6da5b288",
   "metadata": {},
   "outputs": [
    {
     "data": {
      "text/html": [
       "<div>\n",
       "<style scoped>\n",
       "    .dataframe tbody tr th:only-of-type {\n",
       "        vertical-align: middle;\n",
       "    }\n",
       "\n",
       "    .dataframe tbody tr th {\n",
       "        vertical-align: top;\n",
       "    }\n",
       "\n",
       "    .dataframe thead th {\n",
       "        text-align: right;\n",
       "    }\n",
       "</style>\n",
       "<table border=\"1\" class=\"dataframe\">\n",
       "  <thead>\n",
       "    <tr style=\"text-align: right;\">\n",
       "      <th></th>\n",
       "      <th>employee</th>\n",
       "      <th>department</th>\n",
       "      <th>salary</th>\n",
       "    </tr>\n",
       "  </thead>\n",
       "  <tbody>\n",
       "    <tr>\n",
       "      <th>0</th>\n",
       "      <td>Bob Jenkins</td>\n",
       "      <td>Marketing</td>\n",
       "      <td>44000.0</td>\n",
       "    </tr>\n",
       "    <tr>\n",
       "      <th>1</th>\n",
       "      <td>Jane Willis</td>\n",
       "      <td>HR</td>\n",
       "      <td>48000.0</td>\n",
       "    </tr>\n",
       "    <tr>\n",
       "      <th>2</th>\n",
       "      <td>Sally Turner</td>\n",
       "      <td>IT</td>\n",
       "      <td>30000.0</td>\n",
       "    </tr>\n",
       "    <tr>\n",
       "      <th>3</th>\n",
       "      <td>William Jones</td>\n",
       "      <td>Marketing</td>\n",
       "      <td>38000.0</td>\n",
       "    </tr>\n",
       "    <tr>\n",
       "      <th>4</th>\n",
       "      <td>Steven Jobson</td>\n",
       "      <td>Marketing</td>\n",
       "      <td>38000.0</td>\n",
       "    </tr>\n",
       "  </tbody>\n",
       "</table>\n",
       "</div>"
      ],
      "text/plain": [
       "        employee department   salary\n",
       "0    Bob Jenkins  Marketing  44000.0\n",
       "1    Jane Willis         HR  48000.0\n",
       "2   Sally Turner         IT  30000.0\n",
       "3  William Jones  Marketing  38000.0\n",
       "4  Steven Jobson  Marketing  38000.0"
      ]
     },
     "execution_count": 2,
     "metadata": {},
     "output_type": "execute_result"
    }
   ],
   "source": [
    "df_nans = pd.DataFrame({\n",
    "    'employee':['Bob Jenkins','Jane Willis','Sally Turner','William Jones','Steven Jobson'],\n",
    "    'department':['Marketing','HR','IT','Marketing','Marketing'],\n",
    "    'salary':[44000,48000,None,38000,38000]\n",
    "})\n",
    "\n",
    "df_nans['salary'] = df_nans['salary'].fillna(30000)\n",
    "df_nans"
   ]
  },
  {
   "cell_type": "markdown",
   "id": "8c89a11d",
   "metadata": {},
   "source": [
    "# 1. Group By - counting columns"
   ]
  },
  {
   "cell_type": "markdown",
   "id": "d7d96ca1",
   "metadata": {},
   "source": [
    "- Similar to SQL COUNT(*)"
   ]
  },
  {
   "cell_type": "code",
   "execution_count": 3,
   "id": "a32a6bc1",
   "metadata": {},
   "outputs": [
    {
     "data": {
      "text/plain": [
       "Marketing    3\n",
       "HR           1\n",
       "IT           1\n",
       "Name: department, dtype: int64"
      ]
     },
     "execution_count": 3,
     "metadata": {},
     "output_type": "execute_result"
    }
   ],
   "source": [
    "df_nans['department'].value_counts()"
   ]
  },
  {
   "cell_type": "code",
   "execution_count": 4,
   "id": "41317928",
   "metadata": {},
   "outputs": [
    {
     "data": {
      "text/plain": [
       "38000.0    2\n",
       "44000.0    1\n",
       "48000.0    1\n",
       "30000.0    1\n",
       "Name: salary, dtype: int64"
      ]
     },
     "execution_count": 4,
     "metadata": {},
     "output_type": "execute_result"
    }
   ],
   "source": [
    "df_nans['salary'].value_counts()"
   ]
  },
  {
   "cell_type": "markdown",
   "id": "cffba821",
   "metadata": {},
   "source": [
    "# 2. Group By - counting by percentage"
   ]
  },
  {
   "cell_type": "markdown",
   "id": "4fee6872",
   "metadata": {},
   "source": [
    "- In this example, normalize=True returns the percentage of the count \n",
    "- We then perform a sum and create a percentage string to tidy the results"
   ]
  },
  {
   "cell_type": "code",
   "execution_count": 5,
   "id": "01f4dcd9",
   "metadata": {},
   "outputs": [
    {
     "data": {
      "text/plain": [
       "Marketing    0.6\n",
       "HR           0.2\n",
       "IT           0.2\n",
       "Name: department, dtype: float64"
      ]
     },
     "execution_count": 5,
     "metadata": {},
     "output_type": "execute_result"
    }
   ],
   "source": [
    "department_percentage = df_nans['department'].value_counts(normalize=True)\n",
    "department_percentage"
   ]
  },
  {
   "cell_type": "code",
   "execution_count": 6,
   "id": "58ccb77c",
   "metadata": {},
   "outputs": [
    {
     "data": {
      "text/html": [
       "<div>\n",
       "<style scoped>\n",
       "    .dataframe tbody tr th:only-of-type {\n",
       "        vertical-align: middle;\n",
       "    }\n",
       "\n",
       "    .dataframe tbody tr th {\n",
       "        vertical-align: top;\n",
       "    }\n",
       "\n",
       "    .dataframe thead th {\n",
       "        text-align: right;\n",
       "    }\n",
       "</style>\n",
       "<table border=\"1\" class=\"dataframe\">\n",
       "  <thead>\n",
       "    <tr style=\"text-align: right;\">\n",
       "      <th></th>\n",
       "      <th>Percentage</th>\n",
       "    </tr>\n",
       "  </thead>\n",
       "  <tbody>\n",
       "    <tr>\n",
       "      <th>Marketing</th>\n",
       "      <td>60%</td>\n",
       "    </tr>\n",
       "    <tr>\n",
       "      <th>HR</th>\n",
       "      <td>20%</td>\n",
       "    </tr>\n",
       "    <tr>\n",
       "      <th>IT</th>\n",
       "      <td>20%</td>\n",
       "    </tr>\n",
       "  </tbody>\n",
       "</table>\n",
       "</div>"
      ],
      "text/plain": [
       "          Percentage\n",
       "Marketing        60%\n",
       "HR               20%\n",
       "IT               20%"
      ]
     },
     "execution_count": 6,
     "metadata": {},
     "output_type": "execute_result"
    }
   ],
   "source": [
    "# Convert raw percentage to a % string....\n",
    "\n",
    "# Convert to a dataframe, get percentage as string and delete original percentage figure\n",
    "def convert_percentage_string(x):\n",
    "    try:\n",
    "        x = round(x * 100)\n",
    "        return str(x) + '%'\n",
    "    except:\n",
    "        return x\n",
    "    \n",
    "department_percentage = pd.DataFrame(department_percentage)\n",
    "department_percentage['Percentage'] = department_percentage['department'].apply(convert_percentage_string)\n",
    "\n",
    "del department_percentage['department']\n",
    "\n",
    "department_percentage"
   ]
  },
  {
   "cell_type": "markdown",
   "id": "5c893086",
   "metadata": {},
   "source": [
    "# 3. Group By - SUM of a group"
   ]
  },
  {
   "cell_type": "code",
   "execution_count": 7,
   "id": "1f611e11",
   "metadata": {},
   "outputs": [
    {
     "data": {
      "text/html": [
       "<div>\n",
       "<style scoped>\n",
       "    .dataframe tbody tr th:only-of-type {\n",
       "        vertical-align: middle;\n",
       "    }\n",
       "\n",
       "    .dataframe tbody tr th {\n",
       "        vertical-align: top;\n",
       "    }\n",
       "\n",
       "    .dataframe thead th {\n",
       "        text-align: right;\n",
       "    }\n",
       "</style>\n",
       "<table border=\"1\" class=\"dataframe\">\n",
       "  <thead>\n",
       "    <tr style=\"text-align: right;\">\n",
       "      <th></th>\n",
       "      <th>department</th>\n",
       "      <th>salary</th>\n",
       "    </tr>\n",
       "  </thead>\n",
       "  <tbody>\n",
       "    <tr>\n",
       "      <th>0</th>\n",
       "      <td>HR</td>\n",
       "      <td>48000.0</td>\n",
       "    </tr>\n",
       "    <tr>\n",
       "      <th>1</th>\n",
       "      <td>IT</td>\n",
       "      <td>30000.0</td>\n",
       "    </tr>\n",
       "    <tr>\n",
       "      <th>2</th>\n",
       "      <td>Marketing</td>\n",
       "      <td>120000.0</td>\n",
       "    </tr>\n",
       "  </tbody>\n",
       "</table>\n",
       "</div>"
      ],
      "text/plain": [
       "  department    salary\n",
       "0         HR   48000.0\n",
       "1         IT   30000.0\n",
       "2  Marketing  120000.0"
      ]
     },
     "execution_count": 7,
     "metadata": {},
     "output_type": "execute_result"
    }
   ],
   "source": [
    "# Group By Department (and sum salaries)\n",
    "df_salary_totals = df_nans.groupby('department').sum()\n",
    "\n",
    "# Reset Index\n",
    "df_salary_totals.reset_index(inplace=True)\n",
    "\n",
    "df_salary_totals"
   ]
  },
  {
   "cell_type": "markdown",
   "id": "be5734b1",
   "metadata": {},
   "source": [
    "# 4. Group By - AVERAGE of a group"
   ]
  },
  {
   "cell_type": "code",
   "execution_count": 8,
   "id": "231cb55a",
   "metadata": {},
   "outputs": [
    {
     "data": {
      "text/html": [
       "<div>\n",
       "<style scoped>\n",
       "    .dataframe tbody tr th:only-of-type {\n",
       "        vertical-align: middle;\n",
       "    }\n",
       "\n",
       "    .dataframe tbody tr th {\n",
       "        vertical-align: top;\n",
       "    }\n",
       "\n",
       "    .dataframe thead th {\n",
       "        text-align: right;\n",
       "    }\n",
       "</style>\n",
       "<table border=\"1\" class=\"dataframe\">\n",
       "  <thead>\n",
       "    <tr style=\"text-align: right;\">\n",
       "      <th></th>\n",
       "      <th>department</th>\n",
       "      <th>salary</th>\n",
       "    </tr>\n",
       "  </thead>\n",
       "  <tbody>\n",
       "    <tr>\n",
       "      <th>0</th>\n",
       "      <td>HR</td>\n",
       "      <td>48000.0</td>\n",
       "    </tr>\n",
       "    <tr>\n",
       "      <th>1</th>\n",
       "      <td>IT</td>\n",
       "      <td>30000.0</td>\n",
       "    </tr>\n",
       "    <tr>\n",
       "      <th>2</th>\n",
       "      <td>Marketing</td>\n",
       "      <td>40000.0</td>\n",
       "    </tr>\n",
       "  </tbody>\n",
       "</table>\n",
       "</div>"
      ],
      "text/plain": [
       "  department   salary\n",
       "0         HR  48000.0\n",
       "1         IT  30000.0\n",
       "2  Marketing  40000.0"
      ]
     },
     "execution_count": 8,
     "metadata": {},
     "output_type": "execute_result"
    }
   ],
   "source": [
    "# Group By Department (and sum salaries)\n",
    "df_salary_averages = df_nans.groupby('department').mean()\n",
    "\n",
    "# Reset Index\n",
    "df_salary_averages.reset_index(inplace=True)\n",
    "\n",
    "df_salary_averages"
   ]
  },
  {
   "cell_type": "markdown",
   "id": "34462a6b",
   "metadata": {},
   "source": [
    "# 5. Joins - Inner Join dataframes"
   ]
  },
  {
   "cell_type": "markdown",
   "id": "26109ed4",
   "metadata": {},
   "source": [
    "- We have 3 dataframes\n",
    "- A salespeople dataframe , a products dataframe and a sales dataframe.\n",
    "- The sales dataframe records the salesperson_id and product_id for each sale.\n",
    "- We can use **pd.merge()** to perform joins in a similar way we would with SQL."
   ]
  },
  {
   "cell_type": "code",
   "execution_count": 9,
   "id": "c43040a6",
   "metadata": {},
   "outputs": [
    {
     "data": {
      "text/html": [
       "<div>\n",
       "<style scoped>\n",
       "    .dataframe tbody tr th:only-of-type {\n",
       "        vertical-align: middle;\n",
       "    }\n",
       "\n",
       "    .dataframe tbody tr th {\n",
       "        vertical-align: top;\n",
       "    }\n",
       "\n",
       "    .dataframe thead th {\n",
       "        text-align: right;\n",
       "    }\n",
       "</style>\n",
       "<table border=\"1\" class=\"dataframe\">\n",
       "  <thead>\n",
       "    <tr style=\"text-align: right;\">\n",
       "      <th></th>\n",
       "      <th>salesperson_id</th>\n",
       "      <th>name</th>\n",
       "    </tr>\n",
       "  </thead>\n",
       "  <tbody>\n",
       "    <tr>\n",
       "      <th>0</th>\n",
       "      <td>1</td>\n",
       "      <td>Bob</td>\n",
       "    </tr>\n",
       "    <tr>\n",
       "      <th>1</th>\n",
       "      <td>2</td>\n",
       "      <td>Janet</td>\n",
       "    </tr>\n",
       "    <tr>\n",
       "      <th>2</th>\n",
       "      <td>3</td>\n",
       "      <td>Claire</td>\n",
       "    </tr>\n",
       "    <tr>\n",
       "      <th>3</th>\n",
       "      <td>4</td>\n",
       "      <td>Steve</td>\n",
       "    </tr>\n",
       "  </tbody>\n",
       "</table>\n",
       "</div>"
      ],
      "text/plain": [
       "   salesperson_id    name\n",
       "0               1     Bob\n",
       "1               2   Janet\n",
       "2               3  Claire\n",
       "3               4   Steve"
      ]
     },
     "execution_count": 9,
     "metadata": {},
     "output_type": "execute_result"
    }
   ],
   "source": [
    "salespeople = {\n",
    "    \"salesperson_id\":[1,2,3,4],\n",
    "    \"name\":[\"Bob\",\"Janet\",\"Claire\",\"Steve\"],\n",
    "}\n",
    "df_salespeople = pd.DataFrame(\n",
    "    salespeople\n",
    ")\n",
    "\n",
    "df_salespeople"
   ]
  },
  {
   "cell_type": "code",
   "execution_count": 10,
   "id": "fab4f309",
   "metadata": {},
   "outputs": [
    {
     "data": {
      "text/html": [
       "<div>\n",
       "<style scoped>\n",
       "    .dataframe tbody tr th:only-of-type {\n",
       "        vertical-align: middle;\n",
       "    }\n",
       "\n",
       "    .dataframe tbody tr th {\n",
       "        vertical-align: top;\n",
       "    }\n",
       "\n",
       "    .dataframe thead th {\n",
       "        text-align: right;\n",
       "    }\n",
       "</style>\n",
       "<table border=\"1\" class=\"dataframe\">\n",
       "  <thead>\n",
       "    <tr style=\"text-align: right;\">\n",
       "      <th></th>\n",
       "      <th>product_id</th>\n",
       "      <th>name</th>\n",
       "    </tr>\n",
       "  </thead>\n",
       "  <tbody>\n",
       "    <tr>\n",
       "      <th>0</th>\n",
       "      <td>1</td>\n",
       "      <td>Laptop</td>\n",
       "    </tr>\n",
       "    <tr>\n",
       "      <th>1</th>\n",
       "      <td>2</td>\n",
       "      <td>Desktop PC</td>\n",
       "    </tr>\n",
       "  </tbody>\n",
       "</table>\n",
       "</div>"
      ],
      "text/plain": [
       "   product_id        name\n",
       "0           1      Laptop\n",
       "1           2  Desktop PC"
      ]
     },
     "execution_count": 10,
     "metadata": {},
     "output_type": "execute_result"
    }
   ],
   "source": [
    "products = {\n",
    "    \"product_id\":[1,2],\n",
    "    \"name\":[\"Laptop\",\"Desktop PC\"]\n",
    "}\n",
    "\n",
    "df_products = pd.DataFrame(products)\n",
    "\n",
    "df_products"
   ]
  },
  {
   "cell_type": "code",
   "execution_count": 11,
   "id": "94f5d9c5",
   "metadata": {},
   "outputs": [
    {
     "data": {
      "text/html": [
       "<div>\n",
       "<style scoped>\n",
       "    .dataframe tbody tr th:only-of-type {\n",
       "        vertical-align: middle;\n",
       "    }\n",
       "\n",
       "    .dataframe tbody tr th {\n",
       "        vertical-align: top;\n",
       "    }\n",
       "\n",
       "    .dataframe thead th {\n",
       "        text-align: right;\n",
       "    }\n",
       "</style>\n",
       "<table border=\"1\" class=\"dataframe\">\n",
       "  <thead>\n",
       "    <tr style=\"text-align: right;\">\n",
       "      <th></th>\n",
       "      <th>sales_id</th>\n",
       "      <th>product_id</th>\n",
       "      <th>salesperson_id</th>\n",
       "    </tr>\n",
       "  </thead>\n",
       "  <tbody>\n",
       "    <tr>\n",
       "      <th>0</th>\n",
       "      <td>1</td>\n",
       "      <td>2</td>\n",
       "      <td>3</td>\n",
       "    </tr>\n",
       "    <tr>\n",
       "      <th>1</th>\n",
       "      <td>2</td>\n",
       "      <td>2</td>\n",
       "      <td>4</td>\n",
       "    </tr>\n",
       "    <tr>\n",
       "      <th>2</th>\n",
       "      <td>3</td>\n",
       "      <td>1</td>\n",
       "      <td>2</td>\n",
       "    </tr>\n",
       "  </tbody>\n",
       "</table>\n",
       "</div>"
      ],
      "text/plain": [
       "   sales_id  product_id  salesperson_id\n",
       "0         1           2               3\n",
       "1         2           2               4\n",
       "2         3           1               2"
      ]
     },
     "execution_count": 11,
     "metadata": {},
     "output_type": "execute_result"
    }
   ],
   "source": [
    "sales = {\n",
    "    \"sales_id\":[1,2,3],\n",
    "    \"product_id\":[2,2,1],\n",
    "    \"salesperson_id\":[3,4,2]\n",
    "}\n",
    "\n",
    "df_sales = pd.DataFrame(sales)\n",
    "\n",
    "df_sales"
   ]
  },
  {
   "cell_type": "markdown",
   "id": "1b6e98d8",
   "metadata": {},
   "source": [
    "## Table merging (inner join)"
   ]
  },
  {
   "cell_type": "code",
   "execution_count": 12,
   "id": "ebaf2202",
   "metadata": {},
   "outputs": [
    {
     "data": {
      "text/html": [
       "<div>\n",
       "<style scoped>\n",
       "    .dataframe tbody tr th:only-of-type {\n",
       "        vertical-align: middle;\n",
       "    }\n",
       "\n",
       "    .dataframe tbody tr th {\n",
       "        vertical-align: top;\n",
       "    }\n",
       "\n",
       "    .dataframe thead th {\n",
       "        text-align: right;\n",
       "    }\n",
       "</style>\n",
       "<table border=\"1\" class=\"dataframe\">\n",
       "  <thead>\n",
       "    <tr style=\"text-align: right;\">\n",
       "      <th></th>\n",
       "      <th>sales_id</th>\n",
       "      <th>product_id</th>\n",
       "      <th>salesperson_id</th>\n",
       "      <th>name</th>\n",
       "    </tr>\n",
       "  </thead>\n",
       "  <tbody>\n",
       "    <tr>\n",
       "      <th>0</th>\n",
       "      <td>1</td>\n",
       "      <td>2</td>\n",
       "      <td>3</td>\n",
       "      <td>Claire</td>\n",
       "    </tr>\n",
       "    <tr>\n",
       "      <th>1</th>\n",
       "      <td>2</td>\n",
       "      <td>2</td>\n",
       "      <td>4</td>\n",
       "      <td>Steve</td>\n",
       "    </tr>\n",
       "    <tr>\n",
       "      <th>2</th>\n",
       "      <td>3</td>\n",
       "      <td>1</td>\n",
       "      <td>2</td>\n",
       "      <td>Janet</td>\n",
       "    </tr>\n",
       "  </tbody>\n",
       "</table>\n",
       "</div>"
      ],
      "text/plain": [
       "   sales_id  product_id  salesperson_id    name\n",
       "0         1           2               3  Claire\n",
       "1         2           2               4   Steve\n",
       "2         3           1               2   Janet"
      ]
     },
     "execution_count": 12,
     "metadata": {},
     "output_type": "execute_result"
    }
   ],
   "source": [
    "df_sales_with_salesperson_names = pd.merge(df_sales, df_salespeople, how=\"inner\", on = \"salesperson_id\")\n",
    "df_sales_with_salesperson_names"
   ]
  },
  {
   "cell_type": "code",
   "execution_count": 13,
   "id": "940745e8",
   "metadata": {},
   "outputs": [
    {
     "data": {
      "text/html": [
       "<div>\n",
       "<style scoped>\n",
       "    .dataframe tbody tr th:only-of-type {\n",
       "        vertical-align: middle;\n",
       "    }\n",
       "\n",
       "    .dataframe tbody tr th {\n",
       "        vertical-align: top;\n",
       "    }\n",
       "\n",
       "    .dataframe thead th {\n",
       "        text-align: right;\n",
       "    }\n",
       "</style>\n",
       "<table border=\"1\" class=\"dataframe\">\n",
       "  <thead>\n",
       "    <tr style=\"text-align: right;\">\n",
       "      <th></th>\n",
       "      <th>sales_id</th>\n",
       "      <th>product_id</th>\n",
       "      <th>salesperson_id</th>\n",
       "      <th>name_x</th>\n",
       "      <th>name_y</th>\n",
       "    </tr>\n",
       "  </thead>\n",
       "  <tbody>\n",
       "    <tr>\n",
       "      <th>0</th>\n",
       "      <td>1</td>\n",
       "      <td>2</td>\n",
       "      <td>3</td>\n",
       "      <td>Claire</td>\n",
       "      <td>Desktop PC</td>\n",
       "    </tr>\n",
       "    <tr>\n",
       "      <th>1</th>\n",
       "      <td>2</td>\n",
       "      <td>2</td>\n",
       "      <td>4</td>\n",
       "      <td>Steve</td>\n",
       "      <td>Desktop PC</td>\n",
       "    </tr>\n",
       "    <tr>\n",
       "      <th>2</th>\n",
       "      <td>3</td>\n",
       "      <td>1</td>\n",
       "      <td>2</td>\n",
       "      <td>Janet</td>\n",
       "      <td>Laptop</td>\n",
       "    </tr>\n",
       "  </tbody>\n",
       "</table>\n",
       "</div>"
      ],
      "text/plain": [
       "   sales_id  product_id  salesperson_id  name_x      name_y\n",
       "0         1           2               3  Claire  Desktop PC\n",
       "1         2           2               4   Steve  Desktop PC\n",
       "2         3           1               2   Janet      Laptop"
      ]
     },
     "execution_count": 13,
     "metadata": {},
     "output_type": "execute_result"
    }
   ],
   "source": [
    "df_sales_with_information = pd.merge(df_sales_with_salesperson_names, df_products, how=\"inner\", on=\"product_id\")\n",
    "df_sales_with_information"
   ]
  },
  {
   "cell_type": "markdown",
   "id": "6fe1dbbb",
   "metadata": {},
   "source": [
    "# 6. Joins - Left Join  dataframes"
   ]
  },
  {
   "cell_type": "code",
   "execution_count": 14,
   "id": "89d3a9a9",
   "metadata": {},
   "outputs": [
    {
     "data": {
      "text/html": [
       "<div>\n",
       "<style scoped>\n",
       "    .dataframe tbody tr th:only-of-type {\n",
       "        vertical-align: middle;\n",
       "    }\n",
       "\n",
       "    .dataframe tbody tr th {\n",
       "        vertical-align: top;\n",
       "    }\n",
       "\n",
       "    .dataframe thead th {\n",
       "        text-align: right;\n",
       "    }\n",
       "</style>\n",
       "<table border=\"1\" class=\"dataframe\">\n",
       "  <thead>\n",
       "    <tr style=\"text-align: right;\">\n",
       "      <th></th>\n",
       "      <th>salesperson_id</th>\n",
       "      <th>email</th>\n",
       "    </tr>\n",
       "  </thead>\n",
       "  <tbody>\n",
       "    <tr>\n",
       "      <th>0</th>\n",
       "      <td>1</td>\n",
       "      <td>bob@team.org</td>\n",
       "    </tr>\n",
       "    <tr>\n",
       "      <th>1</th>\n",
       "      <td>2</td>\n",
       "      <td>janet@team.org</td>\n",
       "    </tr>\n",
       "    <tr>\n",
       "      <th>2</th>\n",
       "      <td>3</td>\n",
       "      <td>claire@team.org</td>\n",
       "    </tr>\n",
       "  </tbody>\n",
       "</table>\n",
       "</div>"
      ],
      "text/plain": [
       "   salesperson_id            email\n",
       "0               1     bob@team.org\n",
       "1               2   janet@team.org\n",
       "2               3  claire@team.org"
      ]
     },
     "execution_count": 14,
     "metadata": {},
     "output_type": "execute_result"
    }
   ],
   "source": [
    "# Salespeople contact details dataframe\n",
    "df_salespeople_emails = pd.DataFrame({\n",
    "    \"salesperson_id\":[1,2,3],\n",
    "    \"email\":[\"bob@team.org\",\"janet@team.org\",\"claire@team.org\"]\n",
    "})\n",
    "df_salespeople_emails"
   ]
  },
  {
   "cell_type": "code",
   "execution_count": 15,
   "id": "9d085894",
   "metadata": {},
   "outputs": [
    {
     "data": {
      "text/html": [
       "<div>\n",
       "<style scoped>\n",
       "    .dataframe tbody tr th:only-of-type {\n",
       "        vertical-align: middle;\n",
       "    }\n",
       "\n",
       "    .dataframe tbody tr th {\n",
       "        vertical-align: top;\n",
       "    }\n",
       "\n",
       "    .dataframe thead th {\n",
       "        text-align: right;\n",
       "    }\n",
       "</style>\n",
       "<table border=\"1\" class=\"dataframe\">\n",
       "  <thead>\n",
       "    <tr style=\"text-align: right;\">\n",
       "      <th></th>\n",
       "      <th>salesperson_id</th>\n",
       "      <th>name</th>\n",
       "      <th>email</th>\n",
       "    </tr>\n",
       "  </thead>\n",
       "  <tbody>\n",
       "    <tr>\n",
       "      <th>0</th>\n",
       "      <td>1</td>\n",
       "      <td>Bob</td>\n",
       "      <td>bob@team.org</td>\n",
       "    </tr>\n",
       "    <tr>\n",
       "      <th>1</th>\n",
       "      <td>2</td>\n",
       "      <td>Janet</td>\n",
       "      <td>janet@team.org</td>\n",
       "    </tr>\n",
       "    <tr>\n",
       "      <th>2</th>\n",
       "      <td>3</td>\n",
       "      <td>Claire</td>\n",
       "      <td>claire@team.org</td>\n",
       "    </tr>\n",
       "    <tr>\n",
       "      <th>3</th>\n",
       "      <td>4</td>\n",
       "      <td>Steve</td>\n",
       "      <td>NaN</td>\n",
       "    </tr>\n",
       "  </tbody>\n",
       "</table>\n",
       "</div>"
      ],
      "text/plain": [
       "   salesperson_id    name            email\n",
       "0               1     Bob     bob@team.org\n",
       "1               2   Janet   janet@team.org\n",
       "2               3  Claire  claire@team.org\n",
       "3               4   Steve              NaN"
      ]
     },
     "execution_count": 15,
     "metadata": {},
     "output_type": "execute_result"
    }
   ],
   "source": [
    "# Left join result showing us which sales people do not have an email address. In this case Steve...\n",
    "df_salespeople_info = pd.merge(df_salespeople, df_salespeople_emails, how=\"left\", on=\"salesperson_id\")\n",
    "df_salespeople_info"
   ]
  }
 ],
 "metadata": {
  "kernelspec": {
   "display_name": "Python 3 (ipykernel)",
   "language": "python",
   "name": "python3"
  },
  "language_info": {
   "codemirror_mode": {
    "name": "ipython",
    "version": 3
   },
   "file_extension": ".py",
   "mimetype": "text/x-python",
   "name": "python",
   "nbconvert_exporter": "python",
   "pygments_lexer": "ipython3",
   "version": "3.9.7"
  }
 },
 "nbformat": 4,
 "nbformat_minor": 5
}
