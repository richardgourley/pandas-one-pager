{
 "cells": [
  {
   "cell_type": "code",
   "execution_count": 1,
   "id": "e77f9ada",
   "metadata": {},
   "outputs": [],
   "source": [
    "import pandas as pd\n",
    "from datetime import datetime\n",
    "from openpyxl import Workbook\n",
    "from openpyxl.utils.dataframe import dataframe_to_rows"
   ]
  },
  {
   "cell_type": "markdown",
   "id": "abc24383",
   "metadata": {},
   "source": []
  },
  {
   "cell_type": "markdown",
   "id": "f273bc76",
   "metadata": {},
   "source": [
    "# 1. Pivot - PIVOT() example\n",
    "- Here, we can create a pivot table to group together shops and items to see how each is performing."
   ]
  },
  {
   "cell_type": "code",
   "execution_count": 2,
   "id": "bd8b0a16",
   "metadata": {},
   "outputs": [
    {
     "data": {
      "text/html": [
       "<div>\n",
       "<style scoped>\n",
       "    .dataframe tbody tr th:only-of-type {\n",
       "        vertical-align: middle;\n",
       "    }\n",
       "\n",
       "    .dataframe tbody tr th {\n",
       "        vertical-align: top;\n",
       "    }\n",
       "\n",
       "    .dataframe thead th {\n",
       "        text-align: right;\n",
       "    }\n",
       "</style>\n",
       "<table border=\"1\" class=\"dataframe\">\n",
       "  <thead>\n",
       "    <tr style=\"text-align: right;\">\n",
       "      <th></th>\n",
       "      <th>Shop</th>\n",
       "      <th>Item</th>\n",
       "      <th>Sales</th>\n",
       "    </tr>\n",
       "  </thead>\n",
       "  <tbody>\n",
       "    <tr>\n",
       "      <th>0</th>\n",
       "      <td>New York</td>\n",
       "      <td>Shoes</td>\n",
       "      <td>3000</td>\n",
       "    </tr>\n",
       "    <tr>\n",
       "      <th>1</th>\n",
       "      <td>New York</td>\n",
       "      <td>Jackets</td>\n",
       "      <td>4000</td>\n",
       "    </tr>\n",
       "    <tr>\n",
       "      <th>2</th>\n",
       "      <td>London</td>\n",
       "      <td>Shoes</td>\n",
       "      <td>2000</td>\n",
       "    </tr>\n",
       "    <tr>\n",
       "      <th>3</th>\n",
       "      <td>London</td>\n",
       "      <td>Jackets</td>\n",
       "      <td>5000</td>\n",
       "    </tr>\n",
       "  </tbody>\n",
       "</table>\n",
       "</div>"
      ],
      "text/plain": [
       "       Shop     Item  Sales\n",
       "0  New York    Shoes   3000\n",
       "1  New York  Jackets   4000\n",
       "2    London    Shoes   2000\n",
       "3    London  Jackets   5000"
      ]
     },
     "execution_count": 2,
     "metadata": {},
     "output_type": "execute_result"
    }
   ],
   "source": [
    "shop_sales = [[\"New York\",\"Shoes\",3000],[\"New York\",\"Jackets\",4000],[\"London\",\"Shoes\",2000],[\"London\",\"Jackets\",5000]]\n",
    "df_shop = pd.DataFrame(shop_sales, columns=[\"Shop\",\"Item\",\"Sales\"])\n",
    "df_shop"
   ]
  },
  {
   "cell_type": "code",
   "execution_count": 3,
   "id": "a5ec97d3",
   "metadata": {},
   "outputs": [
    {
     "data": {
      "text/html": [
       "<div>\n",
       "<style scoped>\n",
       "    .dataframe tbody tr th:only-of-type {\n",
       "        vertical-align: middle;\n",
       "    }\n",
       "\n",
       "    .dataframe tbody tr th {\n",
       "        vertical-align: top;\n",
       "    }\n",
       "\n",
       "    .dataframe thead th {\n",
       "        text-align: right;\n",
       "    }\n",
       "</style>\n",
       "<table border=\"1\" class=\"dataframe\">\n",
       "  <thead>\n",
       "    <tr style=\"text-align: right;\">\n",
       "      <th>Item</th>\n",
       "      <th>Jackets</th>\n",
       "      <th>Shoes</th>\n",
       "    </tr>\n",
       "    <tr>\n",
       "      <th>Shop</th>\n",
       "      <th></th>\n",
       "      <th></th>\n",
       "    </tr>\n",
       "  </thead>\n",
       "  <tbody>\n",
       "    <tr>\n",
       "      <th>London</th>\n",
       "      <td>5000</td>\n",
       "      <td>2000</td>\n",
       "    </tr>\n",
       "    <tr>\n",
       "      <th>New York</th>\n",
       "      <td>4000</td>\n",
       "      <td>3000</td>\n",
       "    </tr>\n",
       "  </tbody>\n",
       "</table>\n",
       "</div>"
      ],
      "text/plain": [
       "Item      Jackets  Shoes\n",
       "Shop                    \n",
       "London       5000   2000\n",
       "New York     4000   3000"
      ]
     },
     "execution_count": 3,
     "metadata": {},
     "output_type": "execute_result"
    }
   ],
   "source": [
    "# See how many items are sold in each shop.\n",
    "df_shop.pivot(index=\"Shop\", columns=\"Item\", values=\"Sales\")"
   ]
  },
  {
   "cell_type": "code",
   "execution_count": 4,
   "id": "3c378d42",
   "metadata": {},
   "outputs": [
    {
     "data": {
      "text/html": [
       "<div>\n",
       "<style scoped>\n",
       "    .dataframe tbody tr th:only-of-type {\n",
       "        vertical-align: middle;\n",
       "    }\n",
       "\n",
       "    .dataframe tbody tr th {\n",
       "        vertical-align: top;\n",
       "    }\n",
       "\n",
       "    .dataframe thead th {\n",
       "        text-align: right;\n",
       "    }\n",
       "</style>\n",
       "<table border=\"1\" class=\"dataframe\">\n",
       "  <thead>\n",
       "    <tr style=\"text-align: right;\">\n",
       "      <th>Shop</th>\n",
       "      <th>London</th>\n",
       "      <th>New York</th>\n",
       "    </tr>\n",
       "    <tr>\n",
       "      <th>Item</th>\n",
       "      <th></th>\n",
       "      <th></th>\n",
       "    </tr>\n",
       "  </thead>\n",
       "  <tbody>\n",
       "    <tr>\n",
       "      <th>Jackets</th>\n",
       "      <td>5000</td>\n",
       "      <td>4000</td>\n",
       "    </tr>\n",
       "    <tr>\n",
       "      <th>Shoes</th>\n",
       "      <td>2000</td>\n",
       "      <td>3000</td>\n",
       "    </tr>\n",
       "  </tbody>\n",
       "</table>\n",
       "</div>"
      ],
      "text/plain": [
       "Shop     London  New York\n",
       "Item                     \n",
       "Jackets    5000      4000\n",
       "Shoes      2000      3000"
      ]
     },
     "execution_count": 4,
     "metadata": {},
     "output_type": "execute_result"
    }
   ],
   "source": [
    "# Here we pivot the other way.\n",
    "df_shop.pivot(index=\"Item\", columns=\"Shop\", values=\"Sales\")"
   ]
  },
  {
   "cell_type": "markdown",
   "id": "dff276f4",
   "metadata": {},
   "source": [
    "# 2. Pivot 2 - PIVOT() example with grouped sales by date"
   ]
  },
  {
   "cell_type": "markdown",
   "id": "7158cb35",
   "metadata": {},
   "source": [
    "- Here we look at how many sales were performed per salesperson per date"
   ]
  },
  {
   "cell_type": "code",
   "execution_count": 5,
   "id": "3b74a708",
   "metadata": {},
   "outputs": [
    {
     "data": {
      "text/html": [
       "<div>\n",
       "<style scoped>\n",
       "    .dataframe tbody tr th:only-of-type {\n",
       "        vertical-align: middle;\n",
       "    }\n",
       "\n",
       "    .dataframe tbody tr th {\n",
       "        vertical-align: top;\n",
       "    }\n",
       "\n",
       "    .dataframe thead th {\n",
       "        text-align: right;\n",
       "    }\n",
       "</style>\n",
       "<table border=\"1\" class=\"dataframe\">\n",
       "  <thead>\n",
       "    <tr style=\"text-align: right;\">\n",
       "      <th></th>\n",
       "      <th>Salesperson</th>\n",
       "      <th>Date</th>\n",
       "      <th>Sales</th>\n",
       "    </tr>\n",
       "  </thead>\n",
       "  <tbody>\n",
       "    <tr>\n",
       "      <th>0</th>\n",
       "      <td>Dave</td>\n",
       "      <td>2021-11-17</td>\n",
       "      <td>40</td>\n",
       "    </tr>\n",
       "    <tr>\n",
       "      <th>1</th>\n",
       "      <td>Sally</td>\n",
       "      <td>2021-11-17</td>\n",
       "      <td>0</td>\n",
       "    </tr>\n",
       "    <tr>\n",
       "      <th>2</th>\n",
       "      <td>Bob</td>\n",
       "      <td>2021-11-17</td>\n",
       "      <td>200</td>\n",
       "    </tr>\n",
       "    <tr>\n",
       "      <th>3</th>\n",
       "      <td>Dave</td>\n",
       "      <td>2021-11-18</td>\n",
       "      <td>30</td>\n",
       "    </tr>\n",
       "    <tr>\n",
       "      <th>4</th>\n",
       "      <td>Sally</td>\n",
       "      <td>2021-11-18</td>\n",
       "      <td>10</td>\n",
       "    </tr>\n",
       "    <tr>\n",
       "      <th>5</th>\n",
       "      <td>Bob</td>\n",
       "      <td>2021-11-18</td>\n",
       "      <td>210</td>\n",
       "    </tr>\n",
       "    <tr>\n",
       "      <th>6</th>\n",
       "      <td>Dave</td>\n",
       "      <td>2021-11-19</td>\n",
       "      <td>40</td>\n",
       "    </tr>\n",
       "    <tr>\n",
       "      <th>7</th>\n",
       "      <td>Sally</td>\n",
       "      <td>2021-11-19</td>\n",
       "      <td>390</td>\n",
       "    </tr>\n",
       "    <tr>\n",
       "      <th>8</th>\n",
       "      <td>Bob</td>\n",
       "      <td>2021-11-19</td>\n",
       "      <td>140</td>\n",
       "    </tr>\n",
       "  </tbody>\n",
       "</table>\n",
       "</div>"
      ],
      "text/plain": [
       "  Salesperson        Date  Sales\n",
       "0        Dave  2021-11-17     40\n",
       "1       Sally  2021-11-17      0\n",
       "2         Bob  2021-11-17    200\n",
       "3        Dave  2021-11-18     30\n",
       "4       Sally  2021-11-18     10\n",
       "5         Bob  2021-11-18    210\n",
       "6        Dave  2021-11-19     40\n",
       "7       Sally  2021-11-19    390\n",
       "8         Bob  2021-11-19    140"
      ]
     },
     "execution_count": 5,
     "metadata": {},
     "output_type": "execute_result"
    }
   ],
   "source": [
    "df_dates_arr = [\n",
    "    [\"Dave\",'2021-11-17',40],\n",
    "    [\"Sally\",'2021-11-17',0],\n",
    "    [\"Bob\",'2021-11-17',200],\n",
    "    [\"Dave\",'2021-11-18',30],\n",
    "    [\"Sally\",'2021-11-18',10],\n",
    "    [\"Bob\",'2021-11-18',210],\n",
    "    [\"Dave\",'2021-11-19',40],\n",
    "    [\"Sally\",'2021-11-19',390],\n",
    "    [\"Bob\",'2021-11-19',140]\n",
    "]\n",
    "df_dates = pd.DataFrame(df_dates_arr, columns=[\"Salesperson\",\"Date\",\"Sales\"])\n",
    "df_dates"
   ]
  },
  {
   "cell_type": "code",
   "execution_count": 6,
   "id": "7cd8dcd8",
   "metadata": {},
   "outputs": [
    {
     "data": {
      "text/html": [
       "<div>\n",
       "<style scoped>\n",
       "    .dataframe tbody tr th:only-of-type {\n",
       "        vertical-align: middle;\n",
       "    }\n",
       "\n",
       "    .dataframe tbody tr th {\n",
       "        vertical-align: top;\n",
       "    }\n",
       "\n",
       "    .dataframe thead th {\n",
       "        text-align: right;\n",
       "    }\n",
       "</style>\n",
       "<table border=\"1\" class=\"dataframe\">\n",
       "  <thead>\n",
       "    <tr style=\"text-align: right;\">\n",
       "      <th>Salesperson</th>\n",
       "      <th>Bob</th>\n",
       "      <th>Dave</th>\n",
       "      <th>Sally</th>\n",
       "    </tr>\n",
       "    <tr>\n",
       "      <th>Date</th>\n",
       "      <th></th>\n",
       "      <th></th>\n",
       "      <th></th>\n",
       "    </tr>\n",
       "  </thead>\n",
       "  <tbody>\n",
       "    <tr>\n",
       "      <th>2021-11-17</th>\n",
       "      <td>200</td>\n",
       "      <td>40</td>\n",
       "      <td>0</td>\n",
       "    </tr>\n",
       "    <tr>\n",
       "      <th>2021-11-18</th>\n",
       "      <td>210</td>\n",
       "      <td>30</td>\n",
       "      <td>10</td>\n",
       "    </tr>\n",
       "    <tr>\n",
       "      <th>2021-11-19</th>\n",
       "      <td>140</td>\n",
       "      <td>40</td>\n",
       "      <td>390</td>\n",
       "    </tr>\n",
       "  </tbody>\n",
       "</table>\n",
       "</div>"
      ],
      "text/plain": [
       "Salesperson  Bob  Dave  Sally\n",
       "Date                         \n",
       "2021-11-17   200    40      0\n",
       "2021-11-18   210    30     10\n",
       "2021-11-19   140    40    390"
      ]
     },
     "execution_count": 6,
     "metadata": {},
     "output_type": "execute_result"
    }
   ],
   "source": [
    "df_dates.pivot(index=\"Date\", columns=\"Salesperson\", values=\"Sales\")"
   ]
  },
  {
   "cell_type": "code",
   "execution_count": 7,
   "id": "fc91c976",
   "metadata": {},
   "outputs": [
    {
     "data": {
      "text/html": [
       "<div>\n",
       "<style scoped>\n",
       "    .dataframe tbody tr th:only-of-type {\n",
       "        vertical-align: middle;\n",
       "    }\n",
       "\n",
       "    .dataframe tbody tr th {\n",
       "        vertical-align: top;\n",
       "    }\n",
       "\n",
       "    .dataframe thead th {\n",
       "        text-align: right;\n",
       "    }\n",
       "</style>\n",
       "<table border=\"1\" class=\"dataframe\">\n",
       "  <thead>\n",
       "    <tr style=\"text-align: right;\">\n",
       "      <th>Date</th>\n",
       "      <th>2021-11-17</th>\n",
       "      <th>2021-11-18</th>\n",
       "      <th>2021-11-19</th>\n",
       "    </tr>\n",
       "    <tr>\n",
       "      <th>Salesperson</th>\n",
       "      <th></th>\n",
       "      <th></th>\n",
       "      <th></th>\n",
       "    </tr>\n",
       "  </thead>\n",
       "  <tbody>\n",
       "    <tr>\n",
       "      <th>Bob</th>\n",
       "      <td>200</td>\n",
       "      <td>210</td>\n",
       "      <td>140</td>\n",
       "    </tr>\n",
       "    <tr>\n",
       "      <th>Dave</th>\n",
       "      <td>40</td>\n",
       "      <td>30</td>\n",
       "      <td>40</td>\n",
       "    </tr>\n",
       "    <tr>\n",
       "      <th>Sally</th>\n",
       "      <td>0</td>\n",
       "      <td>10</td>\n",
       "      <td>390</td>\n",
       "    </tr>\n",
       "  </tbody>\n",
       "</table>\n",
       "</div>"
      ],
      "text/plain": [
       "Date         2021-11-17  2021-11-18  2021-11-19\n",
       "Salesperson                                    \n",
       "Bob                 200         210         140\n",
       "Dave                 40          30          40\n",
       "Sally                 0          10         390"
      ]
     },
     "execution_count": 7,
     "metadata": {},
     "output_type": "execute_result"
    }
   ],
   "source": [
    "# We can also pivot the other way with salesperson as the index\n",
    "df_dates.pivot(index=\"Salesperson\", columns=\"Date\", values=\"Sales\")"
   ]
  },
  {
   "cell_type": "markdown",
   "id": "1e6762ab",
   "metadata": {},
   "source": [
    "# 3. Pivot - PIVOT_TABLE() - aggregated functions"
   ]
  },
  {
   "cell_type": "markdown",
   "id": "01d390ff",
   "metadata": {},
   "source": [
    "- You can easily specify an aggreagate function in pandas pivot tables."
   ]
  },
  {
   "cell_type": "code",
   "execution_count": 8,
   "id": "23c30d23",
   "metadata": {},
   "outputs": [
    {
     "data": {
      "text/html": [
       "<div>\n",
       "<style scoped>\n",
       "    .dataframe tbody tr th:only-of-type {\n",
       "        vertical-align: middle;\n",
       "    }\n",
       "\n",
       "    .dataframe tbody tr th {\n",
       "        vertical-align: top;\n",
       "    }\n",
       "\n",
       "    .dataframe thead th {\n",
       "        text-align: right;\n",
       "    }\n",
       "</style>\n",
       "<table border=\"1\" class=\"dataframe\">\n",
       "  <thead>\n",
       "    <tr style=\"text-align: right;\">\n",
       "      <th></th>\n",
       "      <th>Payment Type</th>\n",
       "      <th>Membership Level</th>\n",
       "      <th>Department</th>\n",
       "      <th>Sales Total</th>\n",
       "    </tr>\n",
       "  </thead>\n",
       "  <tbody>\n",
       "    <tr>\n",
       "      <th>0</th>\n",
       "      <td>Credit Card</td>\n",
       "      <td>Member</td>\n",
       "      <td>Technology</td>\n",
       "      <td>200</td>\n",
       "    </tr>\n",
       "    <tr>\n",
       "      <th>1</th>\n",
       "      <td>Gift Card</td>\n",
       "      <td>Normal</td>\n",
       "      <td>Health and Beauty</td>\n",
       "      <td>100</td>\n",
       "    </tr>\n",
       "    <tr>\n",
       "      <th>2</th>\n",
       "      <td>Cash</td>\n",
       "      <td>Normal</td>\n",
       "      <td>Technology</td>\n",
       "      <td>120</td>\n",
       "    </tr>\n",
       "    <tr>\n",
       "      <th>3</th>\n",
       "      <td>Credit Card</td>\n",
       "      <td>Normal</td>\n",
       "      <td>Technology</td>\n",
       "      <td>300</td>\n",
       "    </tr>\n",
       "    <tr>\n",
       "      <th>4</th>\n",
       "      <td>Credit Card</td>\n",
       "      <td>Member</td>\n",
       "      <td>Health and Beauty</td>\n",
       "      <td>200</td>\n",
       "    </tr>\n",
       "    <tr>\n",
       "      <th>5</th>\n",
       "      <td>Gift Card</td>\n",
       "      <td>Member</td>\n",
       "      <td>Health and Beauty</td>\n",
       "      <td>100</td>\n",
       "    </tr>\n",
       "    <tr>\n",
       "      <th>6</th>\n",
       "      <td>Credit Card</td>\n",
       "      <td>Normal</td>\n",
       "      <td>Garden</td>\n",
       "      <td>100</td>\n",
       "    </tr>\n",
       "    <tr>\n",
       "      <th>7</th>\n",
       "      <td>Cash</td>\n",
       "      <td>Member</td>\n",
       "      <td>Health and Beauty</td>\n",
       "      <td>50</td>\n",
       "    </tr>\n",
       "    <tr>\n",
       "      <th>8</th>\n",
       "      <td>Credit Card</td>\n",
       "      <td>Normal</td>\n",
       "      <td>Garden</td>\n",
       "      <td>60</td>\n",
       "    </tr>\n",
       "    <tr>\n",
       "      <th>9</th>\n",
       "      <td>Gift Card</td>\n",
       "      <td>Member</td>\n",
       "      <td>Technology</td>\n",
       "      <td>120</td>\n",
       "    </tr>\n",
       "    <tr>\n",
       "      <th>10</th>\n",
       "      <td>Cash</td>\n",
       "      <td>Normal</td>\n",
       "      <td>Technology</td>\n",
       "      <td>30</td>\n",
       "    </tr>\n",
       "    <tr>\n",
       "      <th>11</th>\n",
       "      <td>Gift Card</td>\n",
       "      <td>Deluxe</td>\n",
       "      <td>Health and Beauty</td>\n",
       "      <td>300</td>\n",
       "    </tr>\n",
       "  </tbody>\n",
       "</table>\n",
       "</div>"
      ],
      "text/plain": [
       "   Payment Type Membership Level         Department  Sales Total\n",
       "0   Credit Card           Member         Technology          200\n",
       "1     Gift Card           Normal  Health and Beauty          100\n",
       "2          Cash           Normal         Technology          120\n",
       "3   Credit Card           Normal         Technology          300\n",
       "4   Credit Card           Member  Health and Beauty          200\n",
       "5     Gift Card           Member  Health and Beauty          100\n",
       "6   Credit Card           Normal             Garden          100\n",
       "7          Cash           Member  Health and Beauty           50\n",
       "8   Credit Card           Normal             Garden           60\n",
       "9     Gift Card           Member         Technology          120\n",
       "10         Cash           Normal         Technology           30\n",
       "11    Gift Card           Deluxe  Health and Beauty          300"
      ]
     },
     "execution_count": 8,
     "metadata": {},
     "output_type": "execute_result"
    }
   ],
   "source": [
    "sales_data = [\n",
    "    [\"Credit Card\",\"Member\",\"Technology\",200,],\n",
    "    [\"Gift Card\",\"Normal\",\"Health and Beauty\",100],\n",
    "    [\"Cash\",\"Normal\",\"Technology\",120],\n",
    "    [\"Credit Card\",\"Normal\",\"Technology\",300],\n",
    "    [\"Credit Card\",\"Member\",\"Health and Beauty\",200],\n",
    "    [\"Gift Card\",\"Member\",\"Health and Beauty\",100],\n",
    "    [\"Credit Card\",\"Normal\",\"Garden\",100],\n",
    "    [\"Cash\",\"Member\",\"Health and Beauty\",50],\n",
    "    [\"Credit Card\",\"Normal\",\"Garden\",60],\n",
    "    [\"Gift Card\",\"Member\",\"Technology\",120],\n",
    "    [\"Cash\",\"Normal\",\"Technology\",30],\n",
    "    [\"Gift Card\",\"Deluxe\",\"Health and Beauty\",300]\n",
    "]\n",
    "df_sales_data = pd.DataFrame(sales_data, columns=[\"Payment Type\",\"Membership Level\",\"Department\",\"Sales Total\"])\n",
    "df_sales_data"
   ]
  },
  {
   "cell_type": "code",
   "execution_count": 9,
   "id": "cab6cfb5",
   "metadata": {},
   "outputs": [
    {
     "data": {
      "text/html": [
       "<div>\n",
       "<style scoped>\n",
       "    .dataframe tbody tr th:only-of-type {\n",
       "        vertical-align: middle;\n",
       "    }\n",
       "\n",
       "    .dataframe tbody tr th {\n",
       "        vertical-align: top;\n",
       "    }\n",
       "\n",
       "    .dataframe thead th {\n",
       "        text-align: right;\n",
       "    }\n",
       "</style>\n",
       "<table border=\"1\" class=\"dataframe\">\n",
       "  <thead>\n",
       "    <tr style=\"text-align: right;\">\n",
       "      <th></th>\n",
       "      <th>Sales Total</th>\n",
       "    </tr>\n",
       "    <tr>\n",
       "      <th>Payment Type</th>\n",
       "      <th></th>\n",
       "    </tr>\n",
       "  </thead>\n",
       "  <tbody>\n",
       "    <tr>\n",
       "      <th>Credit Card</th>\n",
       "      <td>860</td>\n",
       "    </tr>\n",
       "    <tr>\n",
       "      <th>Gift Card</th>\n",
       "      <td>620</td>\n",
       "    </tr>\n",
       "    <tr>\n",
       "      <th>Cash</th>\n",
       "      <td>200</td>\n",
       "    </tr>\n",
       "  </tbody>\n",
       "</table>\n",
       "</div>"
      ],
      "text/plain": [
       "              Sales Total\n",
       "Payment Type             \n",
       "Credit Card           860\n",
       "Gift Card             620\n",
       "Cash                  200"
      ]
     },
     "execution_count": 9,
     "metadata": {},
     "output_type": "execute_result"
    }
   ],
   "source": [
    "# Payment type totals sorted\n",
    "df_sales_data.pivot_table(index=[\"Payment Type\"],values=[\"Sales Total\"],aggfunc=\"sum\").sort_values(by=\"Sales Total\", ascending=False)"
   ]
  },
  {
   "cell_type": "code",
   "execution_count": 10,
   "id": "b64c9ac9",
   "metadata": {},
   "outputs": [
    {
     "data": {
      "text/html": [
       "<div>\n",
       "<style scoped>\n",
       "    .dataframe tbody tr th:only-of-type {\n",
       "        vertical-align: middle;\n",
       "    }\n",
       "\n",
       "    .dataframe tbody tr th {\n",
       "        vertical-align: top;\n",
       "    }\n",
       "\n",
       "    .dataframe thead th {\n",
       "        text-align: right;\n",
       "    }\n",
       "</style>\n",
       "<table border=\"1\" class=\"dataframe\">\n",
       "  <thead>\n",
       "    <tr style=\"text-align: right;\">\n",
       "      <th></th>\n",
       "      <th>Sales Total</th>\n",
       "    </tr>\n",
       "    <tr>\n",
       "      <th>Department</th>\n",
       "      <th></th>\n",
       "    </tr>\n",
       "  </thead>\n",
       "  <tbody>\n",
       "    <tr>\n",
       "      <th>Technology</th>\n",
       "      <td>770</td>\n",
       "    </tr>\n",
       "  </tbody>\n",
       "</table>\n",
       "</div>"
      ],
      "text/plain": [
       "            Sales Total\n",
       "Department             \n",
       "Technology          770"
      ]
     },
     "execution_count": 10,
     "metadata": {},
     "output_type": "execute_result"
    }
   ],
   "source": [
    "# Departments by sales - get top performing department\n",
    "df_top_dept = df_sales_data.pivot_table(index=[\"Department\"], values=[\"Sales Total\"], aggfunc=\"sum\").sort_values(by=\"Sales Total\",ascending=False)\n",
    "df_top_dept.head(1)"
   ]
  },
  {
   "cell_type": "code",
   "execution_count": 11,
   "id": "1eda901e",
   "metadata": {},
   "outputs": [
    {
     "data": {
      "text/html": [
       "<div>\n",
       "<style scoped>\n",
       "    .dataframe tbody tr th:only-of-type {\n",
       "        vertical-align: middle;\n",
       "    }\n",
       "\n",
       "    .dataframe tbody tr th {\n",
       "        vertical-align: top;\n",
       "    }\n",
       "\n",
       "    .dataframe thead tr th {\n",
       "        text-align: left;\n",
       "    }\n",
       "\n",
       "    .dataframe thead tr:last-of-type th {\n",
       "        text-align: right;\n",
       "    }\n",
       "</style>\n",
       "<table border=\"1\" class=\"dataframe\">\n",
       "  <thead>\n",
       "    <tr>\n",
       "      <th></th>\n",
       "      <th colspan=\"3\" halign=\"left\">Sales Total</th>\n",
       "    </tr>\n",
       "    <tr>\n",
       "      <th>Payment Type</th>\n",
       "      <th>Cash</th>\n",
       "      <th>Credit Card</th>\n",
       "      <th>Gift Card</th>\n",
       "    </tr>\n",
       "    <tr>\n",
       "      <th>Department</th>\n",
       "      <th></th>\n",
       "      <th></th>\n",
       "      <th></th>\n",
       "    </tr>\n",
       "  </thead>\n",
       "  <tbody>\n",
       "    <tr>\n",
       "      <th>Garden</th>\n",
       "      <td>NaN</td>\n",
       "      <td>160.0</td>\n",
       "      <td>NaN</td>\n",
       "    </tr>\n",
       "    <tr>\n",
       "      <th>Health and Beauty</th>\n",
       "      <td>50.0</td>\n",
       "      <td>200.0</td>\n",
       "      <td>500.0</td>\n",
       "    </tr>\n",
       "    <tr>\n",
       "      <th>Technology</th>\n",
       "      <td>150.0</td>\n",
       "      <td>500.0</td>\n",
       "      <td>120.0</td>\n",
       "    </tr>\n",
       "  </tbody>\n",
       "</table>\n",
       "</div>"
      ],
      "text/plain": [
       "                  Sales Total                      \n",
       "Payment Type             Cash Credit Card Gift Card\n",
       "Department                                         \n",
       "Garden                    NaN       160.0       NaN\n",
       "Health and Beauty        50.0       200.0     500.0\n",
       "Technology              150.0       500.0     120.0"
      ]
     },
     "execution_count": 11,
     "metadata": {},
     "output_type": "execute_result"
    }
   ],
   "source": [
    "# Combining groups of results\n",
    "# Here we get the results based on department and payment type\n",
    "by_dept_payment_type = df_sales_data.pivot_table(index=[\"Department\"],columns=[\"Payment Type\"],values=[\"Sales Total\"],aggfunc=sum)\n",
    "by_dept_payment_type"
   ]
  },
  {
   "cell_type": "markdown",
   "id": "a487b944",
   "metadata": {},
   "source": [
    "- The above result has NaN where 0 sales were made in a department... so we can use fillna() again to tidy the results.\n",
    "- We also want to return the totals as ints instead of floats..."
   ]
  },
  {
   "cell_type": "code",
   "execution_count": 12,
   "id": "dc9bb4c1",
   "metadata": {},
   "outputs": [
    {
     "data": {
      "text/html": [
       "<div>\n",
       "<style scoped>\n",
       "    .dataframe tbody tr th:only-of-type {\n",
       "        vertical-align: middle;\n",
       "    }\n",
       "\n",
       "    .dataframe tbody tr th {\n",
       "        vertical-align: top;\n",
       "    }\n",
       "\n",
       "    .dataframe thead tr th {\n",
       "        text-align: left;\n",
       "    }\n",
       "\n",
       "    .dataframe thead tr:last-of-type th {\n",
       "        text-align: right;\n",
       "    }\n",
       "</style>\n",
       "<table border=\"1\" class=\"dataframe\">\n",
       "  <thead>\n",
       "    <tr>\n",
       "      <th></th>\n",
       "      <th colspan=\"3\" halign=\"left\">Sales Total</th>\n",
       "    </tr>\n",
       "    <tr>\n",
       "      <th>Payment Type</th>\n",
       "      <th>Cash</th>\n",
       "      <th>Credit Card</th>\n",
       "      <th>Gift Card</th>\n",
       "    </tr>\n",
       "    <tr>\n",
       "      <th>Department</th>\n",
       "      <th></th>\n",
       "      <th></th>\n",
       "      <th></th>\n",
       "    </tr>\n",
       "  </thead>\n",
       "  <tbody>\n",
       "    <tr>\n",
       "      <th>Garden</th>\n",
       "      <td>0</td>\n",
       "      <td>160</td>\n",
       "      <td>0</td>\n",
       "    </tr>\n",
       "    <tr>\n",
       "      <th>Health and Beauty</th>\n",
       "      <td>50</td>\n",
       "      <td>200</td>\n",
       "      <td>500</td>\n",
       "    </tr>\n",
       "    <tr>\n",
       "      <th>Technology</th>\n",
       "      <td>150</td>\n",
       "      <td>500</td>\n",
       "      <td>120</td>\n",
       "    </tr>\n",
       "  </tbody>\n",
       "</table>\n",
       "</div>"
      ],
      "text/plain": [
       "                  Sales Total                      \n",
       "Payment Type             Cash Credit Card Gift Card\n",
       "Department                                         \n",
       "Garden                      0         160         0\n",
       "Health and Beauty          50         200       500\n",
       "Technology                150         500       120"
      ]
     },
     "execution_count": 12,
     "metadata": {},
     "output_type": "execute_result"
    }
   ],
   "source": [
    "by_dept_payment_type.fillna(0, inplace=True)\n",
    "by_dept_payment_type[\"Sales Total\"] = by_dept_payment_type[\"Sales Total\"].astype(int)\n",
    "by_dept_payment_type"
   ]
  },
  {
   "cell_type": "markdown",
   "id": "9f969317",
   "metadata": {},
   "source": [
    "# 4. Pivot table example - FLOAT to 2 decimal places (percentages)"
   ]
  },
  {
   "cell_type": "markdown",
   "id": "c7e6faa9",
   "metadata": {},
   "source": [
    "- Here we create a pivot table to see how the percentage each payment type accounted for.\n",
    "- Then we create a column calculating percentage of sales and rounding down and converting to a string."
   ]
  },
  {
   "cell_type": "code",
   "execution_count": 13,
   "id": "48c7635c",
   "metadata": {},
   "outputs": [
    {
     "data": {
      "text/html": [
       "<div>\n",
       "<style scoped>\n",
       "    .dataframe tbody tr th:only-of-type {\n",
       "        vertical-align: middle;\n",
       "    }\n",
       "\n",
       "    .dataframe tbody tr th {\n",
       "        vertical-align: top;\n",
       "    }\n",
       "\n",
       "    .dataframe thead th {\n",
       "        text-align: right;\n",
       "    }\n",
       "</style>\n",
       "<table border=\"1\" class=\"dataframe\">\n",
       "  <thead>\n",
       "    <tr style=\"text-align: right;\">\n",
       "      <th></th>\n",
       "      <th>Sales Total</th>\n",
       "    </tr>\n",
       "    <tr>\n",
       "      <th>Membership Level</th>\n",
       "      <th></th>\n",
       "    </tr>\n",
       "  </thead>\n",
       "  <tbody>\n",
       "    <tr>\n",
       "      <th>Normal</th>\n",
       "      <td>710</td>\n",
       "    </tr>\n",
       "    <tr>\n",
       "      <th>Member</th>\n",
       "      <td>670</td>\n",
       "    </tr>\n",
       "    <tr>\n",
       "      <th>Deluxe</th>\n",
       "      <td>300</td>\n",
       "    </tr>\n",
       "  </tbody>\n",
       "</table>\n",
       "</div>"
      ],
      "text/plain": [
       "                  Sales Total\n",
       "Membership Level             \n",
       "Normal                    710\n",
       "Member                    670\n",
       "Deluxe                    300"
      ]
     },
     "execution_count": 13,
     "metadata": {},
     "output_type": "execute_result"
    }
   ],
   "source": [
    "df_membership_level = df_sales_data.pivot_table(index=[\"Membership Level\"],values=[\"Sales Total\"],aggfunc=\"sum\").sort_values(by=\"Sales Total\", ascending=False)\n",
    "df_membership_level"
   ]
  },
  {
   "cell_type": "code",
   "execution_count": 14,
   "id": "d47dd0fa",
   "metadata": {},
   "outputs": [
    {
     "data": {
      "text/html": [
       "<div>\n",
       "<style scoped>\n",
       "    .dataframe tbody tr th:only-of-type {\n",
       "        vertical-align: middle;\n",
       "    }\n",
       "\n",
       "    .dataframe tbody tr th {\n",
       "        vertical-align: top;\n",
       "    }\n",
       "\n",
       "    .dataframe thead th {\n",
       "        text-align: right;\n",
       "    }\n",
       "</style>\n",
       "<table border=\"1\" class=\"dataframe\">\n",
       "  <thead>\n",
       "    <tr style=\"text-align: right;\">\n",
       "      <th></th>\n",
       "      <th>Sales Total</th>\n",
       "      <th>Percentage of sales</th>\n",
       "    </tr>\n",
       "    <tr>\n",
       "      <th>Membership Level</th>\n",
       "      <th></th>\n",
       "      <th></th>\n",
       "    </tr>\n",
       "  </thead>\n",
       "  <tbody>\n",
       "    <tr>\n",
       "      <th>Normal</th>\n",
       "      <td>710</td>\n",
       "      <td>42.26 %</td>\n",
       "    </tr>\n",
       "    <tr>\n",
       "      <th>Member</th>\n",
       "      <td>670</td>\n",
       "      <td>39.88 %</td>\n",
       "    </tr>\n",
       "    <tr>\n",
       "      <th>Deluxe</th>\n",
       "      <td>300</td>\n",
       "      <td>17.86 %</td>\n",
       "    </tr>\n",
       "  </tbody>\n",
       "</table>\n",
       "</div>"
      ],
      "text/plain": [
       "                  Sales Total Percentage of sales\n",
       "Membership Level                                 \n",
       "Normal                    710             42.26 %\n",
       "Member                    670             39.88 %\n",
       "Deluxe                    300             17.86 %"
      ]
     },
     "execution_count": 14,
     "metadata": {},
     "output_type": "execute_result"
    }
   ],
   "source": [
    "# Create a new column with a percentage of sales \n",
    "df_membership_level['Percentage of sales'] = round((df_membership_level['Sales Total'] / df_membership_level['Sales Total'].sum() * 100),2).astype(str) + \" %\"\n",
    "df_membership_level"
   ]
  },
  {
   "cell_type": "markdown",
   "id": "1c49173f",
   "metadata": {},
   "source": [
    "# 5. openpyxl - Save Dataframes to different Excel workbook sheets"
   ]
  },
  {
   "cell_type": "markdown",
   "id": "15f2aaf6",
   "metadata": {},
   "source": [
    "- Here we will save 2 dataframes to 2 separate sheets in zan Excel workbook.\n",
    "- With openpyxl you can use the dataframe_to_rows function to copy a dataframe to a new sheet"
   ]
  },
  {
   "cell_type": "code",
   "execution_count": 15,
   "id": "bfcad6a9",
   "metadata": {},
   "outputs": [],
   "source": [
    "# Create a workbook\n",
    "wb = Workbook()"
   ]
  },
  {
   "cell_type": "code",
   "execution_count": 16,
   "id": "54cb97b1",
   "metadata": {},
   "outputs": [],
   "source": [
    "# Create a new sheet\n",
    "department_and_payment_type = wb.create_sheet(title=\"Department and Payment Type\")"
   ]
  },
  {
   "cell_type": "code",
   "execution_count": 17,
   "id": "b7da6ae9",
   "metadata": {},
   "outputs": [],
   "source": [
    "# Here we append rows from the 'by_dept_payment_type' dataframe to the excel sheet\n",
    "for r in dataframe_to_rows(by_dept_payment_type, index=True, header=False):\n",
    "    department_and_payment_type.append(r)"
   ]
  },
  {
   "cell_type": "code",
   "execution_count": 18,
   "id": "8c04d0b9",
   "metadata": {},
   "outputs": [],
   "source": [
    "# Create a new sheet\n",
    "membership_level_sales_percentage = wb.create_sheet(title=\"Membership Sales Percentage\")"
   ]
  },
  {
   "cell_type": "code",
   "execution_count": 19,
   "id": "d29fc794",
   "metadata": {},
   "outputs": [],
   "source": [
    "# Here we append rows from the 'by_dept_payment_type' dataframe to the excel sheet\n",
    "for r in dataframe_to_rows(df_membership_level, index=True, header=False):\n",
    "    membership_level_sales_percentage.append(r)"
   ]
  },
  {
   "cell_type": "markdown",
   "id": "cfb52138",
   "metadata": {},
   "source": [
    "- Finally, save the workbook as a workbook named 'sales_analysis.xlsx'.  The workbook should have the 2 dataframes above saved into the 2 sheets named above."
   ]
  },
  {
   "cell_type": "code",
   "execution_count": 20,
   "id": "2f45e58e",
   "metadata": {},
   "outputs": [],
   "source": [
    "wb.save(\"sales_analysis.xlsx\")"
   ]
  }
 ],
 "metadata": {
  "kernelspec": {
   "display_name": "Python 3 (ipykernel)",
   "language": "python",
   "name": "python3"
  },
  "language_info": {
   "codemirror_mode": {
    "name": "ipython",
    "version": 3
   },
   "file_extension": ".py",
   "mimetype": "text/x-python",
   "name": "python",
   "nbconvert_exporter": "python",
   "pygments_lexer": "ipython3",
   "version": "3.9.7"
  }
 },
 "nbformat": 4,
 "nbformat_minor": 5
}
