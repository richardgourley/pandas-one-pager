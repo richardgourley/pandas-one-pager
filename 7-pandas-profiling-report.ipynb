{
 "cells": [
  {
   "cell_type": "code",
   "execution_count": 3,
   "id": "4bb276ec",
   "metadata": {},
   "outputs": [],
   "source": [
    "import pandas as pd\n",
    "from datetime import datetime\n",
    "from pandas_profiling import ProfileReport"
   ]
  },
  {
   "cell_type": "markdown",
   "id": "32b67871",
   "metadata": {},
   "source": [
    "- Advanced Profiling can be done with the ProfileReport class.\n",
    "- You can get valuable and detailed information about each column in a dataframe such as correlation between columns, missing values, columns with uniform distribution, cardinality level, if each column is categorical, distinct counts, zero counts, mean size, max size, min size and also details about the memory size for each column."
   ]
  },
  {
   "cell_type": "code",
   "execution_count": 36,
   "id": "8dfec86f",
   "metadata": {},
   "outputs": [
    {
     "data": {
      "text/html": [
       "<div>\n",
       "<style scoped>\n",
       "    .dataframe tbody tr th:only-of-type {\n",
       "        vertical-align: middle;\n",
       "    }\n",
       "\n",
       "    .dataframe tbody tr th {\n",
       "        vertical-align: top;\n",
       "    }\n",
       "\n",
       "    .dataframe thead th {\n",
       "        text-align: right;\n",
       "    }\n",
       "</style>\n",
       "<table border=\"1\" class=\"dataframe\">\n",
       "  <thead>\n",
       "    <tr style=\"text-align: right;\">\n",
       "      <th></th>\n",
       "      <th>Order ID</th>\n",
       "      <th>Order Date</th>\n",
       "      <th>In Store or Online</th>\n",
       "      <th>Customer Name</th>\n",
       "      <th>Product ID</th>\n",
       "      <th>Product Name</th>\n",
       "      <th>Category</th>\n",
       "      <th>Sub-Category</th>\n",
       "      <th>Sales</th>\n",
       "      <th>Quantity</th>\n",
       "      <th>Profit</th>\n",
       "    </tr>\n",
       "  </thead>\n",
       "  <tbody>\n",
       "    <tr>\n",
       "      <th>0</th>\n",
       "      <td>1</td>\n",
       "      <td>2021-02-10</td>\n",
       "      <td>Online</td>\n",
       "      <td>Brian</td>\n",
       "      <td>1</td>\n",
       "      <td>Navy Suit</td>\n",
       "      <td>Clothes</td>\n",
       "      <td>Suits</td>\n",
       "      <td>240.0</td>\n",
       "      <td>2</td>\n",
       "      <td>75.0</td>\n",
       "    </tr>\n",
       "    <tr>\n",
       "      <th>1</th>\n",
       "      <td>2</td>\n",
       "      <td>2021-02-10</td>\n",
       "      <td>Online</td>\n",
       "      <td>Carrie</td>\n",
       "      <td>2</td>\n",
       "      <td>Leather Jacket</td>\n",
       "      <td>Clothes</td>\n",
       "      <td>Jackets</td>\n",
       "      <td>195.0</td>\n",
       "      <td>1</td>\n",
       "      <td>65.0</td>\n",
       "    </tr>\n",
       "    <tr>\n",
       "      <th>2</th>\n",
       "      <td>3</td>\n",
       "      <td>2021-02-11</td>\n",
       "      <td>In Store</td>\n",
       "      <td>Carrie</td>\n",
       "      <td>2</td>\n",
       "      <td>Leather Jacket</td>\n",
       "      <td>Clothes</td>\n",
       "      <td>Jackets</td>\n",
       "      <td>195.0</td>\n",
       "      <td>1</td>\n",
       "      <td>65.0</td>\n",
       "    </tr>\n",
       "    <tr>\n",
       "      <th>3</th>\n",
       "      <td>4</td>\n",
       "      <td>2021-02-13</td>\n",
       "      <td>Online</td>\n",
       "      <td>Paula</td>\n",
       "      <td>3</td>\n",
       "      <td>Necklace</td>\n",
       "      <td>Jewellery</td>\n",
       "      <td>Necklaces</td>\n",
       "      <td>70.0</td>\n",
       "      <td>2</td>\n",
       "      <td>-10.0</td>\n",
       "    </tr>\n",
       "    <tr>\n",
       "      <th>4</th>\n",
       "      <td>5</td>\n",
       "      <td>2021-02-13</td>\n",
       "      <td>In Store</td>\n",
       "      <td>Simon</td>\n",
       "      <td>4</td>\n",
       "      <td>Gold Ring</td>\n",
       "      <td>Jewellery</td>\n",
       "      <td>Rings</td>\n",
       "      <td>180.0</td>\n",
       "      <td>2</td>\n",
       "      <td>20.0</td>\n",
       "    </tr>\n",
       "    <tr>\n",
       "      <th>5</th>\n",
       "      <td>6</td>\n",
       "      <td>2021-02-24</td>\n",
       "      <td>In Store</td>\n",
       "      <td>Jenny</td>\n",
       "      <td>5</td>\n",
       "      <td>Laptop</td>\n",
       "      <td>Electronics</td>\n",
       "      <td>Computers</td>\n",
       "      <td>600.0</td>\n",
       "      <td>1</td>\n",
       "      <td>130.0</td>\n",
       "    </tr>\n",
       "    <tr>\n",
       "      <th>6</th>\n",
       "      <td>7</td>\n",
       "      <td>2021-03-15</td>\n",
       "      <td>Online</td>\n",
       "      <td>Malcolm</td>\n",
       "      <td>1</td>\n",
       "      <td>Navy Suit</td>\n",
       "      <td>Clothes</td>\n",
       "      <td>Suits</td>\n",
       "      <td>120.0</td>\n",
       "      <td>1</td>\n",
       "      <td>25.0</td>\n",
       "    </tr>\n",
       "    <tr>\n",
       "      <th>7</th>\n",
       "      <td>8</td>\n",
       "      <td>2021-03-21</td>\n",
       "      <td>In Store</td>\n",
       "      <td>Jack</td>\n",
       "      <td>1</td>\n",
       "      <td>Navy Suit</td>\n",
       "      <td>Clothes</td>\n",
       "      <td>Suits</td>\n",
       "      <td>120.0</td>\n",
       "      <td>1</td>\n",
       "      <td>25.0</td>\n",
       "    </tr>\n",
       "    <tr>\n",
       "      <th>8</th>\n",
       "      <td>9</td>\n",
       "      <td>2021-03-23</td>\n",
       "      <td>Online</td>\n",
       "      <td>Sally</td>\n",
       "      <td>1</td>\n",
       "      <td>Navy Suit</td>\n",
       "      <td>Clothes</td>\n",
       "      <td>Suits</td>\n",
       "      <td>120.0</td>\n",
       "      <td>1</td>\n",
       "      <td>25.0</td>\n",
       "    </tr>\n",
       "    <tr>\n",
       "      <th>9</th>\n",
       "      <td>10</td>\n",
       "      <td>2021-03-24</td>\n",
       "      <td>Online</td>\n",
       "      <td>Oliver</td>\n",
       "      <td>1</td>\n",
       "      <td>Navy Suit</td>\n",
       "      <td>Clothes</td>\n",
       "      <td>Suits</td>\n",
       "      <td>240.0</td>\n",
       "      <td>2</td>\n",
       "      <td>75.0</td>\n",
       "    </tr>\n",
       "    <tr>\n",
       "      <th>10</th>\n",
       "      <td>11</td>\n",
       "      <td>2021-03-25</td>\n",
       "      <td>Online</td>\n",
       "      <td>Janice</td>\n",
       "      <td>5</td>\n",
       "      <td>Laptop</td>\n",
       "      <td>Electronics</td>\n",
       "      <td>Computers</td>\n",
       "      <td>1800.0</td>\n",
       "      <td>3</td>\n",
       "      <td>390.0</td>\n",
       "    </tr>\n",
       "  </tbody>\n",
       "</table>\n",
       "</div>"
      ],
      "text/plain": [
       "    Order ID Order Date In Store or Online Customer Name  Product ID  \\\n",
       "0          1 2021-02-10             Online         Brian           1   \n",
       "1          2 2021-02-10             Online        Carrie           2   \n",
       "2          3 2021-02-11           In Store        Carrie           2   \n",
       "3          4 2021-02-13             Online         Paula           3   \n",
       "4          5 2021-02-13           In Store         Simon           4   \n",
       "5          6 2021-02-24           In Store         Jenny           5   \n",
       "6          7 2021-03-15             Online       Malcolm           1   \n",
       "7          8 2021-03-21           In Store          Jack           1   \n",
       "8          9 2021-03-23             Online         Sally           1   \n",
       "9         10 2021-03-24             Online        Oliver           1   \n",
       "10        11 2021-03-25             Online        Janice           5   \n",
       "\n",
       "      Product Name     Category Sub-Category   Sales  Quantity  Profit  \n",
       "0        Navy Suit      Clothes        Suits   240.0         2    75.0  \n",
       "1   Leather Jacket      Clothes      Jackets   195.0         1    65.0  \n",
       "2   Leather Jacket      Clothes      Jackets   195.0         1    65.0  \n",
       "3         Necklace    Jewellery    Necklaces    70.0         2   -10.0  \n",
       "4        Gold Ring    Jewellery        Rings   180.0         2    20.0  \n",
       "5           Laptop  Electronics    Computers   600.0         1   130.0  \n",
       "6        Navy Suit      Clothes        Suits   120.0         1    25.0  \n",
       "7        Navy Suit      Clothes        Suits   120.0         1    25.0  \n",
       "8        Navy Suit      Clothes        Suits   120.0         1    25.0  \n",
       "9        Navy Suit      Clothes        Suits   240.0         2    75.0  \n",
       "10          Laptop  Electronics    Computers  1800.0         3   390.0  "
      ]
     },
     "execution_count": 36,
     "metadata": {},
     "output_type": "execute_result"
    }
   ],
   "source": [
    "# Create a demo sales_data dataframe...\n",
    "sales_data = [\n",
    "    [1,datetime(2021,2,10),\"Online\",\"Brian\",1,\"Navy Suit\",\"Clothes\",\"Suits\",240.00,2,75.00],\n",
    "    [2,datetime(2021,2,10),\"Online\",\"Carrie\",2,\"Leather Jacket\",\"Clothes\",\"Jackets\",195.00,1,65.00],\n",
    "    [3,datetime(2021,2,11),\"In Store\",\"Carrie\",2,\"Leather Jacket\",\"Clothes\",\"Jackets\",195.00,1,65.00],\n",
    "    [4,datetime(2021,2,13),\"Online\",\"Paula\",3,\"Necklace\",\"Jewellery\",\"Necklaces\",70.00,2,-10.00],\n",
    "    [5,datetime(2021,2,13),\"In Store\",\"Simon\",4,\"Gold Ring\",\"Jewellery\",\"Rings\",180.00,2,20.00],\n",
    "    [6,datetime(2021,2,24),\"In Store\",\"Jenny\",5,\"Laptop\",\"Electronics\",\"Computers\",600.00,1,130.00],\n",
    "    [7,datetime(2021,3,15),\"Online\",\"Malcolm\",1,\"Navy Suit\",\"Clothes\",\"Suits\",120.00,1,25.00],\n",
    "    [8,datetime(2021,3,21),\"In Store\",\"Jack\",1,\"Navy Suit\",\"Clothes\",\"Suits\",120.00,1,25.00],\n",
    "    [9,datetime(2021,3,23),\"Online\",\"Sally\",1,\"Navy Suit\",\"Clothes\",\"Suits\",120.00,1,25.00],\n",
    "    [10,datetime(2021,3,24),\"Online\",\"Oliver\",1,\"Navy Suit\",\"Clothes\",\"Suits\",240.00,2,75.00],\n",
    "    [11,datetime(2021,3,25),\"Online\",\"Janice\",5,\"Laptop\",\"Electronics\",\"Computers\",1800.00,3,390.00]\n",
    "]\n",
    "\n",
    "df = pd.DataFrame(sales_data, \n",
    "    columns=[\n",
    "        \"Order ID\",\n",
    "        \"Order Date\",\n",
    "        \"In Store or Online\",\n",
    "        \"Customer Name\",\n",
    "        \"Product ID\",\n",
    "        \"Product Name\",\n",
    "        \"Category\",\n",
    "        \"Sub-Category\",\n",
    "        \"Sales\",\n",
    "        \"Quantity\",\n",
    "        \"Profit\"\n",
    "])\n",
    "df"
   ]
  },
  {
   "cell_type": "markdown",
   "id": "2689da33",
   "metadata": {},
   "source": [
    "# 1. Advanced Profiling"
   ]
  },
  {
   "cell_type": "code",
   "execution_count": 33,
   "id": "b5a19cef",
   "metadata": {},
   "outputs": [],
   "source": [
    "# Profile Report\n",
    "profile_report = ProfileReport(df, title=\"Sales Data Profiling\")"
   ]
  },
  {
   "cell_type": "code",
   "execution_count": 34,
   "id": "5273a5d3",
   "metadata": {},
   "outputs": [
    {
     "data": {
      "application/vnd.jupyter.widget-view+json": {
       "model_id": "84a48f87788b4332b9232168d1fba928",
       "version_major": 2,
       "version_minor": 0
      },
      "text/plain": [
       "Summarize dataset:   0%|          | 0/25 [00:00<?, ?it/s]"
      ]
     },
     "metadata": {},
     "output_type": "display_data"
    },
    {
     "data": {
      "application/vnd.jupyter.widget-view+json": {
       "model_id": "bcae68eaa6644699944ed67c6f8815d9",
       "version_major": 2,
       "version_minor": 0
      },
      "text/plain": [
       "Generate report structure:   0%|          | 0/1 [00:00<?, ?it/s]"
      ]
     },
     "metadata": {},
     "output_type": "display_data"
    },
    {
     "data": {
      "application/vnd.jupyter.widget-view+json": {
       "model_id": "",
       "version_major": 2,
       "version_minor": 0
      },
      "text/plain": [
       "Render widgets:   0%|          | 0/1 [00:00<?, ?it/s]"
      ]
     },
     "metadata": {},
     "output_type": "display_data"
    },
    {
     "data": {
      "application/vnd.jupyter.widget-view+json": {
       "model_id": "284fb316153d4e3f8ea1e1dfa731c4a6",
       "version_major": 2,
       "version_minor": 0
      },
      "text/plain": [
       "VBox(children=(Tab(children=(Tab(children=(GridBox(children=(VBox(children=(GridspecLayout(children=(HTML(valu…"
      ]
     },
     "metadata": {},
     "output_type": "display_data"
    }
   ],
   "source": [
    "# View profile report in this notebook\n",
    "profile_report.to_widgets()"
   ]
  },
  {
   "cell_type": "code",
   "execution_count": 35,
   "id": "8256a7d3",
   "metadata": {},
   "outputs": [
    {
     "data": {
      "application/vnd.jupyter.widget-view+json": {
       "model_id": "510c82b0ae2940fb877ee06d4633365c",
       "version_major": 2,
       "version_minor": 0
      },
      "text/plain": [
       "Render HTML:   0%|          | 0/1 [00:00<?, ?it/s]"
      ]
     },
     "metadata": {},
     "output_type": "display_data"
    },
    {
     "data": {
      "application/vnd.jupyter.widget-view+json": {
       "model_id": "b5b39d80f8b34c3f9704bf07a2bcc5ca",
       "version_major": 2,
       "version_minor": 0
      },
      "text/plain": [
       "Export report to file:   0%|          | 0/1 [00:00<?, ?it/s]"
      ]
     },
     "metadata": {},
     "output_type": "display_data"
    }
   ],
   "source": [
    "# The report can also be published as a web page (with menu options)\n",
    "profile_report.to_file(\"sales_data_profiling.html\")"
   ]
  }
 ],
 "metadata": {
  "kernelspec": {
   "display_name": "Python 3 (ipykernel)",
   "language": "python",
   "name": "python3"
  },
  "language_info": {
   "codemirror_mode": {
    "name": "ipython",
    "version": 3
   },
   "file_extension": ".py",
   "mimetype": "text/x-python",
   "name": "python",
   "nbconvert_exporter": "python",
   "pygments_lexer": "ipython3",
   "version": "3.9.7"
  }
 },
 "nbformat": 4,
 "nbformat_minor": 5
}
