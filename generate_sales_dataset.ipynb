{
 "cells": [
  {
   "cell_type": "markdown",
   "id": "03577431",
   "metadata": {},
   "source": [
    "## Generate Sales Dataset"
   ]
  },
  {
   "cell_type": "markdown",
   "id": "3bd7ca79",
   "metadata": {},
   "source": [
    "- The code here was used to create the 1000 row demo data for files 7 and 8 in the repo.\n",
    "- It is included so users can easily increase the number of rows to practice performing analysis on a large dataset.\n",
    "\n",
    "\n",
    "- When generated, the dataset deliberately has more products in Category 1 than Category 2 and the Profit is deliberately higher for Online sales for Category 2 products."
   ]
  },
  {
   "cell_type": "code",
   "execution_count": null,
   "id": "e7d36729",
   "metadata": {},
   "outputs": [],
   "source": [
    "# Generate a simple 1000 row sales_data dataset to demonstrate using ProfileReport\n",
    "\n",
    "first_names = [\"Ben\", \"Claire\", \"Steve\", \"Jenny\", \"Simon\", \"Geoff\", \"Sandra\", \"Terry\", \"Janet\", \"Josephine\", \"Gillian\", \"Barry\"]\n",
    "surnames = [\"Smith\", \"Jones\", \"Wilson\", \"Cox\", \"Jackson\", \"Davis\", \"Carter\", \"Brown\", \"Green\", \"Harper\", \"Gill\", \"Sedgewick\"]\n",
    "in_store_or_online = [\"In Store\", \"Online\"]\n",
    "\n",
    "sales_data = []\n",
    "\n",
    "for i in range(1,1000):\n",
    "    sales_data_row = []\n",
    "    \n",
    "    order_id = i\n",
    "    year = random.randint(2019,2022)\n",
    "    month = random.randint(1,13)\n",
    "    \n",
    "    if month == 2:\n",
    "        day = random.randint(1,29)\n",
    "    elif month in [4,6,9,11]:\n",
    "        day = random.randint(1,31)\n",
    "    else:\n",
    "        day = 31\n",
    "        \n",
    "    date = datetime(year, month, day)\n",
    "    \n",
    "    store_or_online = in_store_or_online[random.randint(0,2)]\n",
    "    \n",
    "    customer_name = f\"{first_names[random.randint(0,len(first_names))]} {surnames[random.randint(0,len(surnames))]}\"\n",
    "        \n",
    "    random_product_id_number = random.randint(1,500)\n",
    "    \n",
    "    product_name = f\"Product {random_product_id_number}\"\n",
    "    \n",
    "    # The majority of products (1-350 out of 500) will be in Category 1\n",
    "    \n",
    "    if random_product_id_number < 350:\n",
    "        category_name = \"Category 1\"\n",
    "    else:\n",
    "        category_name = \"Category 2\"\n",
    "        \n",
    "    sales_amount = random.randint(10,500)\n",
    "    quantity = random.randint(1,10)\n",
    "    \n",
    "    # Profit per sale is improved if the sale is Online and Category 2 - 30-50%\n",
    "    # Profit per sale is less if the sale is In Store or Category 1 - -5-20%\n",
    "    \n",
    "    if store_or_online == \"Online\" and category_name == \"Category 2\":\n",
    "        profit_based_on_sales_amount = ceil( sales_amount * ( random.randint( 30, 50 ) / 100 ) )\n",
    "    else:\n",
    "        profit_based_on_sales_amount = ceil( sales_amount * ( random.randint( -5, 20 ) / 100 ) )\n",
    "    \n",
    "    sales_data.append([\n",
    "        order_id, \n",
    "        date, \n",
    "        store_or_online, \n",
    "        customer_name, \n",
    "        random_product_id_number, \n",
    "        product_name, \n",
    "        category_name, \n",
    "        sales_amount, \n",
    "        quantity, \n",
    "        profit_based_on_sales_amount\n",
    "    ])\n",
    "    \n",
    "    \n",
    "df = pd.DataFrame(sales_data, \n",
    "    columns=[\n",
    "        \"Order ID\",\n",
    "        \"Order Date\",\n",
    "        \"In Store or Online\",\n",
    "        \"Customer Name\",\n",
    "        \"Product ID\",\n",
    "        \"Product Name\",\n",
    "        \"Category\",\n",
    "        \"Sales\",\n",
    "        \"Quantity\",\n",
    "        \"Profit\"\n",
    "])\n",
    "df.head(10)"
   ]
  },
  {
   "cell_type": "code",
   "execution_count": null,
   "id": "302b8cd6",
   "metadata": {},
   "outputs": [],
   "source": [
    "# Save file to csv\n",
    "df.to_csv('Sales_Dataset.csv')"
   ]
  }
 ],
 "metadata": {
  "kernelspec": {
   "display_name": "Python 3 (ipykernel)",
   "language": "python",
   "name": "python3"
  },
  "language_info": {
   "codemirror_mode": {
    "name": "ipython",
    "version": 3
   },
   "file_extension": ".py",
   "mimetype": "text/x-python",
   "name": "python",
   "nbconvert_exporter": "python",
   "pygments_lexer": "ipython3",
   "version": "3.9.7"
  }
 },
 "nbformat": 4,
 "nbformat_minor": 5
}
