{
 "cells": [
  {
   "cell_type": "code",
   "execution_count": 1,
   "id": "dbe847c2",
   "metadata": {},
   "outputs": [],
   "source": [
    "import pandas as pd\n",
    "from datetime import datetime\n",
    "from openpyxl import Workbook\n",
    "from openpyxl.utils.dataframe import dataframe_to_rows"
   ]
  },
  {
   "cell_type": "markdown",
   "id": "71bb9787",
   "metadata": {},
   "source": [
    "## CONTENTS:\n",
    "1. Data Frame - Creation with a Dictionary\n",
    "2. Date Frame - Creation from a list of lists\n",
    "3. Data Frame - Creation from a list of lists - with unique Index\n",
    "4. Data Frame - Creation from a CSV or Excel spreadsheet\n",
    "5. Data Types - exploring column data types\n",
    "6. Columns - Remove an unnecessary column\n",
    "7. Sort - apply a sort to an existing dataframe\n",
    "8. Index - reset index numbers after a sort\n",
    "9. Index - Drop an Index from a dataframe when exporting\n",
    "10. Find a specific row - based on a search string\n",
    "11. Find rows based on filtering numbers (greater than)\n",
    "12. Find rows based on str.contains (similar to SQL like)\n",
    "12. Find a specific row - based on Index Number\n",
    "13. Find specific cell data - based on Index Number\n",
    "14. Find specific cell data - based on a search\n",
    "15. Series - convert a series to Dataframe and a List\n",
    "16. Add a row\n",
    "17. Add a row - based on previous row data\n",
    "18. Update a cell - based on Index Number\n",
    "19. Columns - adding a new Column\n",
    "20. Columns - deleting a column\n",
    "21. Columns - create a new column from a sum\n",
    "22. Columns - create a new column with the APPLY() method\n",
    "23. Columns - change data type - FLOAT to INTEGER\n",
    "24. Columns - create a new string column based on logic in APPLY() method\n",
    "25. Columns and Dates - create a year and month column from a date\n",
    "26. Columns - change the names of your columns\n",
    "27. Data Frame - use the APPLY() method with a LAMBDA function on an entire dataframe\n",
    "27. NaN - use ISNULL() to find null values\n",
    "27. NaN - use na=False to find NaN AND non-string values\n",
    "28. NaN - convert missing numerical data to 0 with FILLNA()\n",
    "29. Group By - counting columns\n",
    "30. Group By - counting by percentage\n",
    "31. Pivot - PIVOT() example\n",
    "32. Pivot 2 - PIVOT() example with grouped dates sales\n",
    "33. Head and Tail\n",
    "34. Pivot - PIVOT_TABLE() - aggregated functions\n",
    "35. Pivot table percentages - FLOAT to 2 decimal places\n",
    "36. openpyxl - save dataframes to different Excel workbook sheets"
   ]
  },
  {
   "cell_type": "markdown",
   "id": "02cd3db1",
   "metadata": {},
   "source": [
    "# 1. Data Frame - Creation with a Dictionary\n",
    "When using a dictionary to create a dataframe, the key becomes a column name. The array assigned to each key is the column data."
   ]
  },
  {
   "cell_type": "code",
   "execution_count": 2,
   "id": "132bb5ae",
   "metadata": {},
   "outputs": [
    {
     "data": {
      "text/html": [
       "<div>\n",
       "<style scoped>\n",
       "    .dataframe tbody tr th:only-of-type {\n",
       "        vertical-align: middle;\n",
       "    }\n",
       "\n",
       "    .dataframe tbody tr th {\n",
       "        vertical-align: top;\n",
       "    }\n",
       "\n",
       "    .dataframe thead th {\n",
       "        text-align: right;\n",
       "    }\n",
       "</style>\n",
       "<table border=\"1\" class=\"dataframe\">\n",
       "  <thead>\n",
       "    <tr style=\"text-align: right;\">\n",
       "      <th></th>\n",
       "      <th>cities</th>\n",
       "      <th>population</th>\n",
       "    </tr>\n",
       "  </thead>\n",
       "  <tbody>\n",
       "    <tr>\n",
       "      <th>0</th>\n",
       "      <td>Istanbul</td>\n",
       "      <td>15000000</td>\n",
       "    </tr>\n",
       "    <tr>\n",
       "      <th>1</th>\n",
       "      <td>Moscow</td>\n",
       "      <td>12000000</td>\n",
       "    </tr>\n",
       "    <tr>\n",
       "      <th>2</th>\n",
       "      <td>Paris</td>\n",
       "      <td>11000000</td>\n",
       "    </tr>\n",
       "    <tr>\n",
       "      <th>3</th>\n",
       "      <td>London</td>\n",
       "      <td>9000000</td>\n",
       "    </tr>\n",
       "    <tr>\n",
       "      <th>4</th>\n",
       "      <td>Madrid</td>\n",
       "      <td>6000000</td>\n",
       "    </tr>\n",
       "  </tbody>\n",
       "</table>\n",
       "</div>"
      ],
      "text/plain": [
       "     cities  population\n",
       "0  Istanbul    15000000\n",
       "1    Moscow    12000000\n",
       "2     Paris    11000000\n",
       "3    London     9000000\n",
       "4    Madrid     6000000"
      ]
     },
     "execution_count": 2,
     "metadata": {},
     "output_type": "execute_result"
    }
   ],
   "source": [
    "european_cities = {\n",
    "    \"cities\":[\"Istanbul\",\"Moscow\",\"Paris\",\"London\",\"Madrid\"],\n",
    "    \"population\":[15000000,12000000,11000000,9000000,6000000]\n",
    "}\n",
    "df = pd.DataFrame(european_cities)\n",
    "df"
   ]
  },
  {
   "cell_type": "markdown",
   "id": "b7f3f7f2",
   "metadata": {},
   "source": [
    "# 2. Date Frame - Creation from a list of lists"
   ]
  },
  {
   "cell_type": "code",
   "execution_count": 3,
   "id": "5ca33fef",
   "metadata": {},
   "outputs": [
    {
     "data": {
      "text/html": [
       "<div>\n",
       "<style scoped>\n",
       "    .dataframe tbody tr th:only-of-type {\n",
       "        vertical-align: middle;\n",
       "    }\n",
       "\n",
       "    .dataframe tbody tr th {\n",
       "        vertical-align: top;\n",
       "    }\n",
       "\n",
       "    .dataframe thead th {\n",
       "        text-align: right;\n",
       "    }\n",
       "</style>\n",
       "<table border=\"1\" class=\"dataframe\">\n",
       "  <thead>\n",
       "    <tr style=\"text-align: right;\">\n",
       "      <th></th>\n",
       "      <th>cities</th>\n",
       "      <th>population</th>\n",
       "    </tr>\n",
       "  </thead>\n",
       "  <tbody>\n",
       "    <tr>\n",
       "      <th>0</th>\n",
       "      <td>Istanbul</td>\n",
       "      <td>15000000</td>\n",
       "    </tr>\n",
       "    <tr>\n",
       "      <th>1</th>\n",
       "      <td>Moscow</td>\n",
       "      <td>12000000</td>\n",
       "    </tr>\n",
       "    <tr>\n",
       "      <th>2</th>\n",
       "      <td>Paris</td>\n",
       "      <td>11000000</td>\n",
       "    </tr>\n",
       "    <tr>\n",
       "      <th>3</th>\n",
       "      <td>London</td>\n",
       "      <td>9000000</td>\n",
       "    </tr>\n",
       "    <tr>\n",
       "      <th>4</th>\n",
       "      <td>Madrid</td>\n",
       "      <td>6000000</td>\n",
       "    </tr>\n",
       "  </tbody>\n",
       "</table>\n",
       "</div>"
      ],
      "text/plain": [
       "     cities  population\n",
       "0  Istanbul    15000000\n",
       "1    Moscow    12000000\n",
       "2     Paris    11000000\n",
       "3    London     9000000\n",
       "4    Madrid     6000000"
      ]
     },
     "execution_count": 3,
     "metadata": {},
     "output_type": "execute_result"
    }
   ],
   "source": [
    "european_cities_list = [\n",
    "    [\"Istanbul\",15000000],\n",
    "    [\"Moscow\",12000000],\n",
    "    [\"Paris\",11000000],\n",
    "    [\"London\",9000000],\n",
    "    [\"Madrid\",6000000]\n",
    "]\n",
    "df = pd.DataFrame(european_cities_list, columns=[\"cities\",\"population\"])\n",
    "df"
   ]
  },
  {
   "cell_type": "markdown",
   "id": "d7d9c47d",
   "metadata": {},
   "source": [
    "# 3. Data Frame - Creation from a list of lists - with unique Index\n",
    "You can setup the dataframe to have a unique index instead of an auto incremented number."
   ]
  },
  {
   "cell_type": "code",
   "execution_count": 4,
   "id": "bebfd061",
   "metadata": {},
   "outputs": [
    {
     "data": {
      "text/html": [
       "<div>\n",
       "<style scoped>\n",
       "    .dataframe tbody tr th:only-of-type {\n",
       "        vertical-align: middle;\n",
       "    }\n",
       "\n",
       "    .dataframe tbody tr th {\n",
       "        vertical-align: top;\n",
       "    }\n",
       "\n",
       "    .dataframe thead th {\n",
       "        text-align: right;\n",
       "    }\n",
       "</style>\n",
       "<table border=\"1\" class=\"dataframe\">\n",
       "  <thead>\n",
       "    <tr style=\"text-align: right;\">\n",
       "      <th></th>\n",
       "      <th>population</th>\n",
       "    </tr>\n",
       "  </thead>\n",
       "  <tbody>\n",
       "    <tr>\n",
       "      <th>Istanbul</th>\n",
       "      <td>15000000</td>\n",
       "    </tr>\n",
       "    <tr>\n",
       "      <th>Moscow</th>\n",
       "      <td>12000000</td>\n",
       "    </tr>\n",
       "    <tr>\n",
       "      <th>Paris</th>\n",
       "      <td>11000000</td>\n",
       "    </tr>\n",
       "  </tbody>\n",
       "</table>\n",
       "</div>"
      ],
      "text/plain": [
       "          population\n",
       "Istanbul    15000000\n",
       "Moscow      12000000\n",
       "Paris       11000000"
      ]
     },
     "execution_count": 4,
     "metadata": {},
     "output_type": "execute_result"
    }
   ],
   "source": [
    "df_unq_index = pd.DataFrame(\n",
    "    [[15000000],[12000000],[11000000]], \n",
    "    index=['Istanbul','Moscow','Paris'], columns=['population'])\n",
    "df_unq_index"
   ]
  },
  {
   "cell_type": "markdown",
   "id": "5271969a",
   "metadata": {},
   "source": [
    "# 4. Data Frame - Creation from a CSV or Excel spreadsheet"
   ]
  },
  {
   "cell_type": "markdown",
   "id": "2f108fe4",
   "metadata": {},
   "source": [
    "- See below for more options working with Excel using openpyxl.\n",
    "- See 'Drop an Index from a dataframe when exporting' to drop an index when exporting to CSV or XLSX files."
   ]
  },
  {
   "cell_type": "code",
   "execution_count": 5,
   "id": "afe07ecb",
   "metadata": {},
   "outputs": [
    {
     "data": {
      "text/html": [
       "<div>\n",
       "<style scoped>\n",
       "    .dataframe tbody tr th:only-of-type {\n",
       "        vertical-align: middle;\n",
       "    }\n",
       "\n",
       "    .dataframe tbody tr th {\n",
       "        vertical-align: top;\n",
       "    }\n",
       "\n",
       "    .dataframe thead th {\n",
       "        text-align: right;\n",
       "    }\n",
       "</style>\n",
       "<table border=\"1\" class=\"dataframe\">\n",
       "  <thead>\n",
       "    <tr style=\"text-align: right;\">\n",
       "      <th></th>\n",
       "      <th>Unnamed: 0</th>\n",
       "      <th>cities</th>\n",
       "      <th>population</th>\n",
       "    </tr>\n",
       "  </thead>\n",
       "  <tbody>\n",
       "    <tr>\n",
       "      <th>0</th>\n",
       "      <td>0</td>\n",
       "      <td>Istanbul</td>\n",
       "      <td>15000000</td>\n",
       "    </tr>\n",
       "    <tr>\n",
       "      <th>1</th>\n",
       "      <td>1</td>\n",
       "      <td>Moscow</td>\n",
       "      <td>12000000</td>\n",
       "    </tr>\n",
       "    <tr>\n",
       "      <th>2</th>\n",
       "      <td>2</td>\n",
       "      <td>Paris</td>\n",
       "      <td>11000000</td>\n",
       "    </tr>\n",
       "    <tr>\n",
       "      <th>3</th>\n",
       "      <td>3</td>\n",
       "      <td>London</td>\n",
       "      <td>9000000</td>\n",
       "    </tr>\n",
       "    <tr>\n",
       "      <th>4</th>\n",
       "      <td>4</td>\n",
       "      <td>Madrid</td>\n",
       "      <td>6000000</td>\n",
       "    </tr>\n",
       "  </tbody>\n",
       "</table>\n",
       "</div>"
      ],
      "text/plain": [
       "   Unnamed: 0    cities  population\n",
       "0           0  Istanbul    15000000\n",
       "1           1    Moscow    12000000\n",
       "2           2     Paris    11000000\n",
       "3           3    London     9000000\n",
       "4           4    Madrid     6000000"
      ]
     },
     "execution_count": 5,
     "metadata": {},
     "output_type": "execute_result"
    }
   ],
   "source": [
    "# Save the population dataframe to a csv\n",
    "df.to_csv('populations.csv')\n",
    "# OPEN from a csv file\n",
    "df = pd.read_csv('populations.csv')\n",
    "df"
   ]
  },
  {
   "cell_type": "markdown",
   "id": "85d5b08e",
   "metadata": {},
   "source": [
    "# 5. Data Types - exploring column data types"
   ]
  },
  {
   "cell_type": "markdown",
   "id": "7ec8527d",
   "metadata": {},
   "source": [
    "- Strings are classed as 'object'"
   ]
  },
  {
   "cell_type": "code",
   "execution_count": 6,
   "id": "1d9920d3",
   "metadata": {},
   "outputs": [
    {
     "data": {
      "text/plain": [
       "Product                       object\n",
       "Price                          int64\n",
       "Discount                     float64\n",
       "In stock                        bool\n",
       "Next delivery date    datetime64[ns]\n",
       "dtype: object"
      ]
     },
     "execution_count": 6,
     "metadata": {},
     "output_type": "execute_result"
    }
   ],
   "source": [
    "df_food = pd.DataFrame(\n",
    "    [[\"Chicken\",3,14.5,False,datetime(2022,2,15)],[\"Carrots\",2,23.5,True,datetime(2022,2,15)],[\"Bread\",1,18,True,datetime(2022,2,15)]], \n",
    "    columns=[\"Product\",\"Price\",\"Discount\",\"In stock\",\"Next delivery date\"]\n",
    ")\n",
    "df_food.dtypes"
   ]
  },
  {
   "cell_type": "markdown",
   "id": "6b4f10b9",
   "metadata": {},
   "source": [
    "# 6. Columns - Remove an unnecessary column"
   ]
  },
  {
   "cell_type": "markdown",
   "id": "394a5d8a",
   "metadata": {},
   "source": [
    "- See 'Index' below for how to drop an index when exporting to csv or xlsx files."
   ]
  },
  {
   "cell_type": "code",
   "execution_count": 7,
   "id": "91912c77",
   "metadata": {},
   "outputs": [
    {
     "data": {
      "text/html": [
       "<div>\n",
       "<style scoped>\n",
       "    .dataframe tbody tr th:only-of-type {\n",
       "        vertical-align: middle;\n",
       "    }\n",
       "\n",
       "    .dataframe tbody tr th {\n",
       "        vertical-align: top;\n",
       "    }\n",
       "\n",
       "    .dataframe thead th {\n",
       "        text-align: right;\n",
       "    }\n",
       "</style>\n",
       "<table border=\"1\" class=\"dataframe\">\n",
       "  <thead>\n",
       "    <tr style=\"text-align: right;\">\n",
       "      <th></th>\n",
       "      <th>cities</th>\n",
       "      <th>population</th>\n",
       "    </tr>\n",
       "  </thead>\n",
       "  <tbody>\n",
       "    <tr>\n",
       "      <th>0</th>\n",
       "      <td>Istanbul</td>\n",
       "      <td>15000000</td>\n",
       "    </tr>\n",
       "    <tr>\n",
       "      <th>1</th>\n",
       "      <td>Moscow</td>\n",
       "      <td>12000000</td>\n",
       "    </tr>\n",
       "    <tr>\n",
       "      <th>2</th>\n",
       "      <td>Paris</td>\n",
       "      <td>11000000</td>\n",
       "    </tr>\n",
       "    <tr>\n",
       "      <th>3</th>\n",
       "      <td>London</td>\n",
       "      <td>9000000</td>\n",
       "    </tr>\n",
       "    <tr>\n",
       "      <th>4</th>\n",
       "      <td>Madrid</td>\n",
       "      <td>6000000</td>\n",
       "    </tr>\n",
       "  </tbody>\n",
       "</table>\n",
       "</div>"
      ],
      "text/plain": [
       "     cities  population\n",
       "0  Istanbul    15000000\n",
       "1    Moscow    12000000\n",
       "2     Paris    11000000\n",
       "3    London     9000000\n",
       "4    Madrid     6000000"
      ]
     },
     "execution_count": 7,
     "metadata": {},
     "output_type": "execute_result"
    }
   ],
   "source": [
    "del df['Unnamed: 0']\n",
    "df"
   ]
  },
  {
   "cell_type": "markdown",
   "id": "509bdcbb",
   "metadata": {},
   "source": [
    "# 7. Sort - apply a sort to existing dataframe"
   ]
  },
  {
   "cell_type": "code",
   "execution_count": 8,
   "id": "a0704a9b",
   "metadata": {},
   "outputs": [
    {
     "data": {
      "text/html": [
       "<div>\n",
       "<style scoped>\n",
       "    .dataframe tbody tr th:only-of-type {\n",
       "        vertical-align: middle;\n",
       "    }\n",
       "\n",
       "    .dataframe tbody tr th {\n",
       "        vertical-align: top;\n",
       "    }\n",
       "\n",
       "    .dataframe thead th {\n",
       "        text-align: right;\n",
       "    }\n",
       "</style>\n",
       "<table border=\"1\" class=\"dataframe\">\n",
       "  <thead>\n",
       "    <tr style=\"text-align: right;\">\n",
       "      <th></th>\n",
       "      <th>cities</th>\n",
       "      <th>population</th>\n",
       "    </tr>\n",
       "  </thead>\n",
       "  <tbody>\n",
       "    <tr>\n",
       "      <th>4</th>\n",
       "      <td>Madrid</td>\n",
       "      <td>6000000</td>\n",
       "    </tr>\n",
       "    <tr>\n",
       "      <th>3</th>\n",
       "      <td>London</td>\n",
       "      <td>9000000</td>\n",
       "    </tr>\n",
       "    <tr>\n",
       "      <th>2</th>\n",
       "      <td>Paris</td>\n",
       "      <td>11000000</td>\n",
       "    </tr>\n",
       "    <tr>\n",
       "      <th>1</th>\n",
       "      <td>Moscow</td>\n",
       "      <td>12000000</td>\n",
       "    </tr>\n",
       "    <tr>\n",
       "      <th>0</th>\n",
       "      <td>Istanbul</td>\n",
       "      <td>15000000</td>\n",
       "    </tr>\n",
       "  </tbody>\n",
       "</table>\n",
       "</div>"
      ],
      "text/plain": [
       "     cities  population\n",
       "4    Madrid     6000000\n",
       "3    London     9000000\n",
       "2     Paris    11000000\n",
       "1    Moscow    12000000\n",
       "0  Istanbul    15000000"
      ]
     },
     "execution_count": 8,
     "metadata": {},
     "output_type": "execute_result"
    }
   ],
   "source": [
    "df.sort_values(by=[\"population\"], ascending=True, inplace=True)\n",
    "df"
   ]
  },
  {
   "cell_type": "markdown",
   "id": "28ff6e66",
   "metadata": {},
   "source": [
    "# 8. Index - reset index numbers after a sort (or any function)"
   ]
  },
  {
   "cell_type": "code",
   "execution_count": 9,
   "id": "00f07c9b",
   "metadata": {},
   "outputs": [
    {
     "data": {
      "text/html": [
       "<div>\n",
       "<style scoped>\n",
       "    .dataframe tbody tr th:only-of-type {\n",
       "        vertical-align: middle;\n",
       "    }\n",
       "\n",
       "    .dataframe tbody tr th {\n",
       "        vertical-align: top;\n",
       "    }\n",
       "\n",
       "    .dataframe thead th {\n",
       "        text-align: right;\n",
       "    }\n",
       "</style>\n",
       "<table border=\"1\" class=\"dataframe\">\n",
       "  <thead>\n",
       "    <tr style=\"text-align: right;\">\n",
       "      <th></th>\n",
       "      <th>cities</th>\n",
       "      <th>population</th>\n",
       "    </tr>\n",
       "  </thead>\n",
       "  <tbody>\n",
       "    <tr>\n",
       "      <th>0</th>\n",
       "      <td>Madrid</td>\n",
       "      <td>6000000</td>\n",
       "    </tr>\n",
       "    <tr>\n",
       "      <th>1</th>\n",
       "      <td>London</td>\n",
       "      <td>9000000</td>\n",
       "    </tr>\n",
       "    <tr>\n",
       "      <th>2</th>\n",
       "      <td>Paris</td>\n",
       "      <td>11000000</td>\n",
       "    </tr>\n",
       "    <tr>\n",
       "      <th>3</th>\n",
       "      <td>Moscow</td>\n",
       "      <td>12000000</td>\n",
       "    </tr>\n",
       "    <tr>\n",
       "      <th>4</th>\n",
       "      <td>Istanbul</td>\n",
       "      <td>15000000</td>\n",
       "    </tr>\n",
       "  </tbody>\n",
       "</table>\n",
       "</div>"
      ],
      "text/plain": [
       "     cities  population\n",
       "0    Madrid     6000000\n",
       "1    London     9000000\n",
       "2     Paris    11000000\n",
       "3    Moscow    12000000\n",
       "4  Istanbul    15000000"
      ]
     },
     "execution_count": 9,
     "metadata": {},
     "output_type": "execute_result"
    }
   ],
   "source": [
    "df.reset_index(drop=True, inplace=True)\n",
    "df"
   ]
  },
  {
   "cell_type": "markdown",
   "id": "d1087f15",
   "metadata": {},
   "source": [
    "# 9. Index - Drop an Index from a dataframe when exporting\n",
    "- Before saving a dataframe to another format such as an Excel spreadsheet, you may want to remove the index from the data frame."
   ]
  },
  {
   "cell_type": "code",
   "execution_count": 10,
   "id": "e76f1b5b",
   "metadata": {},
   "outputs": [],
   "source": [
    "df.to_csv('populations2.csv', index=False)"
   ]
  },
  {
   "cell_type": "markdown",
   "id": "a1849adf",
   "metadata": {},
   "source": [
    "# 10. Find a specific row - based on a search string\n",
    "\n",
    "We want to find a row/ rows where the cities column is \"Paris\".\n",
    "- This will return a DataFrame"
   ]
  },
  {
   "cell_type": "code",
   "execution_count": 11,
   "id": "e388de92",
   "metadata": {},
   "outputs": [
    {
     "data": {
      "text/html": [
       "<div>\n",
       "<style scoped>\n",
       "    .dataframe tbody tr th:only-of-type {\n",
       "        vertical-align: middle;\n",
       "    }\n",
       "\n",
       "    .dataframe tbody tr th {\n",
       "        vertical-align: top;\n",
       "    }\n",
       "\n",
       "    .dataframe thead th {\n",
       "        text-align: right;\n",
       "    }\n",
       "</style>\n",
       "<table border=\"1\" class=\"dataframe\">\n",
       "  <thead>\n",
       "    <tr style=\"text-align: right;\">\n",
       "      <th></th>\n",
       "      <th>cities</th>\n",
       "      <th>population</th>\n",
       "    </tr>\n",
       "  </thead>\n",
       "  <tbody>\n",
       "    <tr>\n",
       "      <th>2</th>\n",
       "      <td>Paris</td>\n",
       "      <td>11000000</td>\n",
       "    </tr>\n",
       "  </tbody>\n",
       "</table>\n",
       "</div>"
      ],
      "text/plain": [
       "  cities  population\n",
       "2  Paris    11000000"
      ]
     },
     "execution_count": 11,
     "metadata": {},
     "output_type": "execute_result"
    }
   ],
   "source": [
    "df[df[\"cities\"] == \"Paris\"]"
   ]
  },
  {
   "cell_type": "markdown",
   "id": "1b6e0ba8",
   "metadata": {},
   "source": [
    "# 11. Find rows based on str.contains (similar to SQL like)\n",
    "- Here we want to find companies that have profit losses in billions (marked with a B).\n",
    "- We can use str.contains to filter strings."
   ]
  },
  {
   "cell_type": "code",
   "execution_count": 12,
   "id": "906882b5",
   "metadata": {},
   "outputs": [
    {
     "data": {
      "text/html": [
       "<div>\n",
       "<style scoped>\n",
       "    .dataframe tbody tr th:only-of-type {\n",
       "        vertical-align: middle;\n",
       "    }\n",
       "\n",
       "    .dataframe tbody tr th {\n",
       "        vertical-align: top;\n",
       "    }\n",
       "\n",
       "    .dataframe thead th {\n",
       "        text-align: right;\n",
       "    }\n",
       "</style>\n",
       "<table border=\"1\" class=\"dataframe\">\n",
       "  <thead>\n",
       "    <tr style=\"text-align: right;\">\n",
       "      <th></th>\n",
       "      <th>company</th>\n",
       "      <th>sales</th>\n",
       "      <th>profit</th>\n",
       "    </tr>\n",
       "  </thead>\n",
       "  <tbody>\n",
       "    <tr>\n",
       "      <th>1</th>\n",
       "      <td>CompB</td>\n",
       "      <td>$94.2 M</td>\n",
       "      <td>$-2.5 B</td>\n",
       "    </tr>\n",
       "  </tbody>\n",
       "</table>\n",
       "</div>"
      ],
      "text/plain": [
       "  company    sales   profit\n",
       "1   CompB  $94.2 M  $-2.5 B"
      ]
     },
     "execution_count": 12,
     "metadata": {},
     "output_type": "execute_result"
    }
   ],
   "source": [
    "df_global_sales = pd.DataFrame(\n",
    "    {\n",
    "        \"company\":[\"CompA\",\"CompB\"],\n",
    "        \"sales\":[\"$12.2 B\",\"$94.2 M\"],\n",
    "        \"profit\":[\"$3.2 B\",\"$-2.5 B\"]\n",
    "    }\n",
    ")\n",
    "df_global_sales[df_global_sales['profit'].str.contains('-') & df_global_sales['profit'].str.contains('B')]"
   ]
  },
  {
   "cell_type": "markdown",
   "id": "e497d613",
   "metadata": {},
   "source": [
    "# 12. Find rows based on filtering numbers (greater than)"
   ]
  },
  {
   "cell_type": "code",
   "execution_count": 13,
   "id": "3e90541c",
   "metadata": {},
   "outputs": [
    {
     "data": {
      "text/html": [
       "<div>\n",
       "<style scoped>\n",
       "    .dataframe tbody tr th:only-of-type {\n",
       "        vertical-align: middle;\n",
       "    }\n",
       "\n",
       "    .dataframe tbody tr th {\n",
       "        vertical-align: top;\n",
       "    }\n",
       "\n",
       "    .dataframe thead th {\n",
       "        text-align: right;\n",
       "    }\n",
       "</style>\n",
       "<table border=\"1\" class=\"dataframe\">\n",
       "  <thead>\n",
       "    <tr style=\"text-align: right;\">\n",
       "      <th></th>\n",
       "      <th>cities</th>\n",
       "      <th>population</th>\n",
       "    </tr>\n",
       "  </thead>\n",
       "  <tbody>\n",
       "    <tr>\n",
       "      <th>2</th>\n",
       "      <td>Paris</td>\n",
       "      <td>11000000</td>\n",
       "    </tr>\n",
       "    <tr>\n",
       "      <th>3</th>\n",
       "      <td>Moscow</td>\n",
       "      <td>12000000</td>\n",
       "    </tr>\n",
       "    <tr>\n",
       "      <th>4</th>\n",
       "      <td>Istanbul</td>\n",
       "      <td>15000000</td>\n",
       "    </tr>\n",
       "  </tbody>\n",
       "</table>\n",
       "</div>"
      ],
      "text/plain": [
       "     cities  population\n",
       "2     Paris    11000000\n",
       "3    Moscow    12000000\n",
       "4  Istanbul    15000000"
      ]
     },
     "execution_count": 13,
     "metadata": {},
     "output_type": "execute_result"
    }
   ],
   "source": [
    "df[df['population'] > 10000000]"
   ]
  },
  {
   "cell_type": "code",
   "execution_count": 14,
   "id": "63129253",
   "metadata": {},
   "outputs": [
    {
     "data": {
      "text/html": [
       "<div>\n",
       "<style scoped>\n",
       "    .dataframe tbody tr th:only-of-type {\n",
       "        vertical-align: middle;\n",
       "    }\n",
       "\n",
       "    .dataframe tbody tr th {\n",
       "        vertical-align: top;\n",
       "    }\n",
       "\n",
       "    .dataframe thead th {\n",
       "        text-align: right;\n",
       "    }\n",
       "</style>\n",
       "<table border=\"1\" class=\"dataframe\">\n",
       "  <thead>\n",
       "    <tr style=\"text-align: right;\">\n",
       "      <th></th>\n",
       "      <th>cities</th>\n",
       "      <th>population</th>\n",
       "    </tr>\n",
       "  </thead>\n",
       "  <tbody>\n",
       "    <tr>\n",
       "      <th>2</th>\n",
       "      <td>Paris</td>\n",
       "      <td>11000000</td>\n",
       "    </tr>\n",
       "    <tr>\n",
       "      <th>3</th>\n",
       "      <td>Moscow</td>\n",
       "      <td>12000000</td>\n",
       "    </tr>\n",
       "  </tbody>\n",
       "</table>\n",
       "</div>"
      ],
      "text/plain": [
       "   cities  population\n",
       "2   Paris    11000000\n",
       "3  Moscow    12000000"
      ]
     },
     "execution_count": 14,
     "metadata": {},
     "output_type": "execute_result"
    }
   ],
   "source": [
    "# Multiple statement filtering - separate as tuples\n",
    "df[(df['population'] > 10000000) & (df['cities'] != 'Istanbul')]"
   ]
  },
  {
   "cell_type": "markdown",
   "id": "c80a15a7",
   "metadata": {},
   "source": [
    "# 13. Find a specific row - based on Index Number"
   ]
  },
  {
   "cell_type": "markdown",
   "id": "16f7e03c",
   "metadata": {},
   "source": [
    "Here you can find row data based on index number."
   ]
  },
  {
   "cell_type": "code",
   "execution_count": 15,
   "id": "1c152669",
   "metadata": {},
   "outputs": [
    {
     "data": {
      "text/plain": [
       "cities           Paris\n",
       "population    11000000\n",
       "Name: 2, dtype: object"
      ]
     },
     "execution_count": 15,
     "metadata": {},
     "output_type": "execute_result"
    }
   ],
   "source": [
    "# Returns a <class 'pandas.core.series.Series'>\n",
    "df.loc[2]"
   ]
  },
  {
   "cell_type": "markdown",
   "id": "7d78f6d1",
   "metadata": {},
   "source": [
    "# 14. Find specific cell data - based on Index Number"
   ]
  },
  {
   "cell_type": "code",
   "execution_count": 16,
   "id": "d0813e89",
   "metadata": {},
   "outputs": [
    {
     "data": {
      "text/plain": [
       "11000000"
      ]
     },
     "execution_count": 16,
     "metadata": {},
     "output_type": "execute_result"
    }
   ],
   "source": [
    "df.loc[2][\"population\"]"
   ]
  },
  {
   "cell_type": "markdown",
   "id": "5ef55cca",
   "metadata": {},
   "source": [
    "# 15. Find specific cell data - based on a search"
   ]
  },
  {
   "cell_type": "markdown",
   "id": "e8e22a16",
   "metadata": {},
   "source": [
    "- Here we find only the 'Sales Total' results for the 'Salesperson' named 'Paul'.\n",
    "- The steps are broken down to show how the types returned."
   ]
  },
  {
   "cell_type": "code",
   "execution_count": 17,
   "id": "fded1c2f",
   "metadata": {},
   "outputs": [
    {
     "data": {
      "text/html": [
       "<div>\n",
       "<style scoped>\n",
       "    .dataframe tbody tr th:only-of-type {\n",
       "        vertical-align: middle;\n",
       "    }\n",
       "\n",
       "    .dataframe tbody tr th {\n",
       "        vertical-align: top;\n",
       "    }\n",
       "\n",
       "    .dataframe thead th {\n",
       "        text-align: right;\n",
       "    }\n",
       "</style>\n",
       "<table border=\"1\" class=\"dataframe\">\n",
       "  <thead>\n",
       "    <tr style=\"text-align: right;\">\n",
       "      <th></th>\n",
       "      <th>Salesperson</th>\n",
       "      <th>Sales Total</th>\n",
       "    </tr>\n",
       "  </thead>\n",
       "  <tbody>\n",
       "    <tr>\n",
       "      <th>0</th>\n",
       "      <td>Paul</td>\n",
       "      <td>50</td>\n",
       "    </tr>\n",
       "    <tr>\n",
       "      <th>1</th>\n",
       "      <td>Stacy</td>\n",
       "      <td>100</td>\n",
       "    </tr>\n",
       "    <tr>\n",
       "      <th>2</th>\n",
       "      <td>Paul</td>\n",
       "      <td>80</td>\n",
       "    </tr>\n",
       "  </tbody>\n",
       "</table>\n",
       "</div>"
      ],
      "text/plain": [
       "  Salesperson  Sales Total\n",
       "0        Paul           50\n",
       "1       Stacy          100\n",
       "2        Paul           80"
      ]
     },
     "execution_count": 17,
     "metadata": {},
     "output_type": "execute_result"
    }
   ],
   "source": [
    "df_sp = pd.DataFrame([[\"Paul\",50],[\"Stacy\",100],[\"Paul\",80]], columns=[\"Salesperson\",\"Sales Total\"])\n",
    "df_sp"
   ]
  },
  {
   "cell_type": "code",
   "execution_count": 18,
   "id": "b8dd57cd",
   "metadata": {},
   "outputs": [
    {
     "name": "stdout",
     "output_type": "stream",
     "text": [
      "<class 'pandas.core.indexes.numeric.Int64Index'>\n",
      "Int64Index([0, 2], dtype='int64')\n",
      "<class 'pandas.core.series.Series'>\n",
      "0    50\n",
      "2    80\n",
      "Name: Sales Total, dtype: int64\n"
     ]
    },
    {
     "data": {
      "text/html": [
       "<div>\n",
       "<style scoped>\n",
       "    .dataframe tbody tr th:only-of-type {\n",
       "        vertical-align: middle;\n",
       "    }\n",
       "\n",
       "    .dataframe tbody tr th {\n",
       "        vertical-align: top;\n",
       "    }\n",
       "\n",
       "    .dataframe thead th {\n",
       "        text-align: right;\n",
       "    }\n",
       "</style>\n",
       "<table border=\"1\" class=\"dataframe\">\n",
       "  <thead>\n",
       "    <tr style=\"text-align: right;\">\n",
       "      <th></th>\n",
       "      <th>Sales Total</th>\n",
       "    </tr>\n",
       "  </thead>\n",
       "  <tbody>\n",
       "    <tr>\n",
       "      <th>0</th>\n",
       "      <td>50</td>\n",
       "    </tr>\n",
       "    <tr>\n",
       "      <th>2</th>\n",
       "      <td>80</td>\n",
       "    </tr>\n",
       "  </tbody>\n",
       "</table>\n",
       "</div>"
      ],
      "text/plain": [
       "   Sales Total\n",
       "0           50\n",
       "2           80"
      ]
     },
     "execution_count": 18,
     "metadata": {},
     "output_type": "execute_result"
    }
   ],
   "source": [
    "# Get all index numbers where \"Salesperson\" == \"Paul\"\n",
    "paul_rows = df_sp[df_sp[\"Salesperson\"] == \"Paul\"].index\n",
    "print(type(paul_rows))\n",
    "print(paul_rows)\n",
    "\n",
    "# Pass \"paul_rows\" index numbers to 'df.loc[]' to return a series\n",
    "paul_sales_totals = df_sp.loc[paul_rows][\"Sales Total\"]\n",
    "print(type(paul_sales_totals))\n",
    "print(paul_sales_totals)\n",
    "\n",
    "#Convert series to a data frame\n",
    "pd.DataFrame(paul_sales_totals)"
   ]
  },
  {
   "cell_type": "markdown",
   "id": "a2869238",
   "metadata": {},
   "source": [
    "# 16. Series - convert a series to Dataframe and a List"
   ]
  },
  {
   "cell_type": "markdown",
   "id": "4264f4c4",
   "metadata": {},
   "source": [
    "- Getting specific columns returns a series rather than a dataframe\n",
    "- You can also convert a Series to a tuple, set or dictionary"
   ]
  },
  {
   "cell_type": "code",
   "execution_count": 19,
   "id": "53ff6247",
   "metadata": {},
   "outputs": [
    {
     "data": {
      "text/plain": [
       "pandas.core.series.Series"
      ]
     },
     "execution_count": 19,
     "metadata": {},
     "output_type": "execute_result"
    }
   ],
   "source": [
    "series_population = df.loc[[0,1]]['population']\n",
    "type(series_population)"
   ]
  },
  {
   "cell_type": "code",
   "execution_count": 20,
   "id": "e55e4e66",
   "metadata": {},
   "outputs": [
    {
     "data": {
      "text/html": [
       "<div>\n",
       "<style scoped>\n",
       "    .dataframe tbody tr th:only-of-type {\n",
       "        vertical-align: middle;\n",
       "    }\n",
       "\n",
       "    .dataframe tbody tr th {\n",
       "        vertical-align: top;\n",
       "    }\n",
       "\n",
       "    .dataframe thead th {\n",
       "        text-align: right;\n",
       "    }\n",
       "</style>\n",
       "<table border=\"1\" class=\"dataframe\">\n",
       "  <thead>\n",
       "    <tr style=\"text-align: right;\">\n",
       "      <th></th>\n",
       "      <th>population</th>\n",
       "    </tr>\n",
       "  </thead>\n",
       "  <tbody>\n",
       "    <tr>\n",
       "      <th>0</th>\n",
       "      <td>6000000</td>\n",
       "    </tr>\n",
       "    <tr>\n",
       "      <th>1</th>\n",
       "      <td>9000000</td>\n",
       "    </tr>\n",
       "  </tbody>\n",
       "</table>\n",
       "</div>"
      ],
      "text/plain": [
       "   population\n",
       "0     6000000\n",
       "1     9000000"
      ]
     },
     "execution_count": 20,
     "metadata": {},
     "output_type": "execute_result"
    }
   ],
   "source": [
    "# Convert series to a dataframe\n",
    "pd.DataFrame(series_population)"
   ]
  },
  {
   "cell_type": "code",
   "execution_count": 21,
   "id": "8a6ea7b8",
   "metadata": {},
   "outputs": [
    {
     "data": {
      "text/plain": [
       "[6000000, 9000000]"
      ]
     },
     "execution_count": 21,
     "metadata": {},
     "output_type": "execute_result"
    }
   ],
   "source": [
    "# Convert a series to a list - returns list of series values\n",
    "list(series_population)"
   ]
  },
  {
   "cell_type": "markdown",
   "id": "470b0cab",
   "metadata": {},
   "source": [
    "# 17. Add a row"
   ]
  },
  {
   "cell_type": "code",
   "execution_count": 22,
   "id": "e66dba93",
   "metadata": {},
   "outputs": [
    {
     "name": "stdout",
     "output_type": "stream",
     "text": [
      "5\n"
     ]
    },
    {
     "data": {
      "text/html": [
       "<div>\n",
       "<style scoped>\n",
       "    .dataframe tbody tr th:only-of-type {\n",
       "        vertical-align: middle;\n",
       "    }\n",
       "\n",
       "    .dataframe tbody tr th {\n",
       "        vertical-align: top;\n",
       "    }\n",
       "\n",
       "    .dataframe thead th {\n",
       "        text-align: right;\n",
       "    }\n",
       "</style>\n",
       "<table border=\"1\" class=\"dataframe\">\n",
       "  <thead>\n",
       "    <tr style=\"text-align: right;\">\n",
       "      <th></th>\n",
       "      <th>cities</th>\n",
       "      <th>population</th>\n",
       "    </tr>\n",
       "  </thead>\n",
       "  <tbody>\n",
       "    <tr>\n",
       "      <th>0</th>\n",
       "      <td>Madrid</td>\n",
       "      <td>6000000</td>\n",
       "    </tr>\n",
       "    <tr>\n",
       "      <th>1</th>\n",
       "      <td>London</td>\n",
       "      <td>9000000</td>\n",
       "    </tr>\n",
       "    <tr>\n",
       "      <th>2</th>\n",
       "      <td>Paris</td>\n",
       "      <td>11000000</td>\n",
       "    </tr>\n",
       "    <tr>\n",
       "      <th>3</th>\n",
       "      <td>Moscow</td>\n",
       "      <td>12000000</td>\n",
       "    </tr>\n",
       "    <tr>\n",
       "      <th>4</th>\n",
       "      <td>Istanbul</td>\n",
       "      <td>15000000</td>\n",
       "    </tr>\n",
       "    <tr>\n",
       "      <th>5</th>\n",
       "      <td>Berlin</td>\n",
       "      <td>3700000</td>\n",
       "    </tr>\n",
       "  </tbody>\n",
       "</table>\n",
       "</div>"
      ],
      "text/plain": [
       "     cities  population\n",
       "0    Madrid     6000000\n",
       "1    London     9000000\n",
       "2     Paris    11000000\n",
       "3    Moscow    12000000\n",
       "4  Istanbul    15000000\n",
       "5    Berlin     3700000"
      ]
     },
     "execution_count": 22,
     "metadata": {},
     "output_type": "execute_result"
    }
   ],
   "source": [
    "# First get latest row number\n",
    "next_row = len(df) \n",
    "print(next_row)\n",
    "# Create a new row and add data\n",
    "df.loc[next_row] = ['Berlin',3700000]\n",
    "df"
   ]
  },
  {
   "cell_type": "markdown",
   "id": "df42eb31",
   "metadata": {},
   "source": [
    "# 18. Add a row - based on previous row data"
   ]
  },
  {
   "cell_type": "markdown",
   "id": "03a6b280",
   "metadata": {},
   "source": [
    "- Here we take the previous 'Investment Total' figure.\n",
    "- We round it down to the nearest hundred.\n",
    "- We calculate 2% of the rounded number.\n",
    "- We then add the 2% to the previous 'Investment Total' in a newly created row:"
   ]
  },
  {
   "cell_type": "code",
   "execution_count": 23,
   "id": "6e06f1b6",
   "metadata": {},
   "outputs": [
    {
     "data": {
      "text/plain": [
       "23700"
      ]
     },
     "execution_count": 23,
     "metadata": {},
     "output_type": "execute_result"
    }
   ],
   "source": [
    "import math\n",
    "\n",
    "# Function to round figure down to the nearest hundred\n",
    "def round_down_to_hundred(total):\n",
    "    if total < 100:\n",
    "        return 0\n",
    "    total_reduced = str(math.floor(total/100))\n",
    "    return int(total_reduced + \"00\")\n",
    "\n",
    "#Test function works\n",
    "round_down_to_hundred(23706.0)"
   ]
  },
  {
   "cell_type": "code",
   "execution_count": 24,
   "id": "cdc3bd9c",
   "metadata": {},
   "outputs": [
    {
     "data": {
      "text/html": [
       "<div>\n",
       "<style scoped>\n",
       "    .dataframe tbody tr th:only-of-type {\n",
       "        vertical-align: middle;\n",
       "    }\n",
       "\n",
       "    .dataframe tbody tr th {\n",
       "        vertical-align: top;\n",
       "    }\n",
       "\n",
       "    .dataframe thead th {\n",
       "        text-align: right;\n",
       "    }\n",
       "</style>\n",
       "<table border=\"1\" class=\"dataframe\">\n",
       "  <thead>\n",
       "    <tr style=\"text-align: right;\">\n",
       "      <th></th>\n",
       "      <th>Investment Total</th>\n",
       "    </tr>\n",
       "  </thead>\n",
       "  <tbody>\n",
       "    <tr>\n",
       "      <th>0</th>\n",
       "      <td>45625.0</td>\n",
       "    </tr>\n",
       "    <tr>\n",
       "      <th>1</th>\n",
       "      <td>45735.0</td>\n",
       "    </tr>\n",
       "    <tr>\n",
       "      <th>2</th>\n",
       "      <td>46649.0</td>\n",
       "    </tr>\n",
       "  </tbody>\n",
       "</table>\n",
       "</div>"
      ],
      "text/plain": [
       "   Investment Total\n",
       "0           45625.0\n",
       "1           45735.0\n",
       "2           46649.0"
      ]
     },
     "execution_count": 24,
     "metadata": {},
     "output_type": "execute_result"
    }
   ],
   "source": [
    "# New data frame\n",
    "df_investment = pd.DataFrame([[45625],[45735]], columns=[\"Investment Total\"])\n",
    "\n",
    "# Get 'Investment Total' from most recent row\n",
    "current_total = df_investment.loc[len(df_investment)-1]['Investment Total']\n",
    "\n",
    "# Get next row number\n",
    "next_row = len(df_investment)\n",
    "\n",
    "# Create the next row adding 2% to the current total rounded down to the nearest hundred\n",
    "df_investment.loc[next_row] = [current_total + ((round_down_to_hundred(current_total)) * 0.02)]\n",
    "\n",
    "df_investment"
   ]
  },
  {
   "cell_type": "markdown",
   "id": "559f9d51",
   "metadata": {},
   "source": [
    "# 19. Update a cell - based on Index Number"
   ]
  },
  {
   "cell_type": "code",
   "execution_count": 25,
   "id": "86fc93a2",
   "metadata": {},
   "outputs": [
    {
     "name": "stdout",
     "output_type": "stream",
     "text": [
      "     cities  population\n",
      "0    Madrid     5000000\n",
      "1    London     9000000\n",
      "2     Paris    11000000\n",
      "3    Moscow    12000000\n",
      "4  Istanbul    15000000\n",
      "5    Berlin     3700000\n"
     ]
    },
    {
     "data": {
      "text/html": [
       "<div>\n",
       "<style scoped>\n",
       "    .dataframe tbody tr th:only-of-type {\n",
       "        vertical-align: middle;\n",
       "    }\n",
       "\n",
       "    .dataframe tbody tr th {\n",
       "        vertical-align: top;\n",
       "    }\n",
       "\n",
       "    .dataframe thead th {\n",
       "        text-align: right;\n",
       "    }\n",
       "</style>\n",
       "<table border=\"1\" class=\"dataframe\">\n",
       "  <thead>\n",
       "    <tr style=\"text-align: right;\">\n",
       "      <th></th>\n",
       "      <th>cities</th>\n",
       "      <th>population</th>\n",
       "    </tr>\n",
       "  </thead>\n",
       "  <tbody>\n",
       "    <tr>\n",
       "      <th>0</th>\n",
       "      <td>Madrid</td>\n",
       "      <td>6000000</td>\n",
       "    </tr>\n",
       "    <tr>\n",
       "      <th>1</th>\n",
       "      <td>London</td>\n",
       "      <td>9000000</td>\n",
       "    </tr>\n",
       "    <tr>\n",
       "      <th>2</th>\n",
       "      <td>Paris</td>\n",
       "      <td>11000000</td>\n",
       "    </tr>\n",
       "    <tr>\n",
       "      <th>3</th>\n",
       "      <td>Moscow</td>\n",
       "      <td>12000000</td>\n",
       "    </tr>\n",
       "    <tr>\n",
       "      <th>4</th>\n",
       "      <td>Istanbul</td>\n",
       "      <td>15000000</td>\n",
       "    </tr>\n",
       "    <tr>\n",
       "      <th>5</th>\n",
       "      <td>Berlin</td>\n",
       "      <td>3700000</td>\n",
       "    </tr>\n",
       "  </tbody>\n",
       "</table>\n",
       "</div>"
      ],
      "text/plain": [
       "     cities  population\n",
       "0    Madrid     6000000\n",
       "1    London     9000000\n",
       "2     Paris    11000000\n",
       "3    Moscow    12000000\n",
       "4  Istanbul    15000000\n",
       "5    Berlin     3700000"
      ]
     },
     "execution_count": 25,
     "metadata": {},
     "output_type": "execute_result"
    }
   ],
   "source": [
    "# Update Madrid population and change it back.\n",
    "df.at[0,'population'] = 5000000\n",
    "print(df)\n",
    "df.at[0,'population'] = 6000000\n",
    "df"
   ]
  },
  {
   "cell_type": "markdown",
   "id": "a184fe71",
   "metadata": {},
   "source": [
    "# 20. Columns - adding a new Column"
   ]
  },
  {
   "cell_type": "code",
   "execution_count": 26,
   "id": "fae669e5",
   "metadata": {},
   "outputs": [
    {
     "data": {
      "text/html": [
       "<div>\n",
       "<style scoped>\n",
       "    .dataframe tbody tr th:only-of-type {\n",
       "        vertical-align: middle;\n",
       "    }\n",
       "\n",
       "    .dataframe tbody tr th {\n",
       "        vertical-align: top;\n",
       "    }\n",
       "\n",
       "    .dataframe thead th {\n",
       "        text-align: right;\n",
       "    }\n",
       "</style>\n",
       "<table border=\"1\" class=\"dataframe\">\n",
       "  <thead>\n",
       "    <tr style=\"text-align: right;\">\n",
       "      <th></th>\n",
       "      <th>Salesperson</th>\n",
       "      <th>Sales Total</th>\n",
       "      <th>Example Column</th>\n",
       "    </tr>\n",
       "  </thead>\n",
       "  <tbody>\n",
       "    <tr>\n",
       "      <th>0</th>\n",
       "      <td>Paul</td>\n",
       "      <td>50</td>\n",
       "      <td>10</td>\n",
       "    </tr>\n",
       "    <tr>\n",
       "      <th>1</th>\n",
       "      <td>Stacy</td>\n",
       "      <td>100</td>\n",
       "      <td>10</td>\n",
       "    </tr>\n",
       "    <tr>\n",
       "      <th>2</th>\n",
       "      <td>Paul</td>\n",
       "      <td>80</td>\n",
       "      <td>10</td>\n",
       "    </tr>\n",
       "  </tbody>\n",
       "</table>\n",
       "</div>"
      ],
      "text/plain": [
       "  Salesperson  Sales Total  Example Column\n",
       "0        Paul           50              10\n",
       "1       Stacy          100              10\n",
       "2        Paul           80              10"
      ]
     },
     "execution_count": 26,
     "metadata": {},
     "output_type": "execute_result"
    }
   ],
   "source": [
    "# Using df_sp (Salesperson sales totals from above)\n",
    "# All columns will have the same data\n",
    "df_sp['Example Column'] = 10\n",
    "df_sp"
   ]
  },
  {
   "cell_type": "markdown",
   "id": "58d9e97f",
   "metadata": {},
   "source": [
    "# 21. Columns - Deleting a column"
   ]
  },
  {
   "cell_type": "code",
   "execution_count": 27,
   "id": "826e948c",
   "metadata": {},
   "outputs": [
    {
     "data": {
      "text/html": [
       "<div>\n",
       "<style scoped>\n",
       "    .dataframe tbody tr th:only-of-type {\n",
       "        vertical-align: middle;\n",
       "    }\n",
       "\n",
       "    .dataframe tbody tr th {\n",
       "        vertical-align: top;\n",
       "    }\n",
       "\n",
       "    .dataframe thead th {\n",
       "        text-align: right;\n",
       "    }\n",
       "</style>\n",
       "<table border=\"1\" class=\"dataframe\">\n",
       "  <thead>\n",
       "    <tr style=\"text-align: right;\">\n",
       "      <th></th>\n",
       "      <th>Salesperson</th>\n",
       "      <th>Sales Total</th>\n",
       "    </tr>\n",
       "  </thead>\n",
       "  <tbody>\n",
       "    <tr>\n",
       "      <th>0</th>\n",
       "      <td>Paul</td>\n",
       "      <td>50</td>\n",
       "    </tr>\n",
       "    <tr>\n",
       "      <th>1</th>\n",
       "      <td>Stacy</td>\n",
       "      <td>100</td>\n",
       "    </tr>\n",
       "    <tr>\n",
       "      <th>2</th>\n",
       "      <td>Paul</td>\n",
       "      <td>80</td>\n",
       "    </tr>\n",
       "  </tbody>\n",
       "</table>\n",
       "</div>"
      ],
      "text/plain": [
       "  Salesperson  Sales Total\n",
       "0        Paul           50\n",
       "1       Stacy          100\n",
       "2        Paul           80"
      ]
     },
     "execution_count": 27,
     "metadata": {},
     "output_type": "execute_result"
    }
   ],
   "source": [
    "del df_sp['Example Column']\n",
    "df_sp"
   ]
  },
  {
   "cell_type": "markdown",
   "id": "4f4a8651",
   "metadata": {},
   "source": [
    "# 22. Columns - create a new column from a sum"
   ]
  },
  {
   "cell_type": "markdown",
   "id": "5c2b5ddc",
   "metadata": {},
   "source": [
    "- Here we are going to create a 'Sales Quantity' column based on an assumption that the items being sold are valued at 5 each."
   ]
  },
  {
   "cell_type": "code",
   "execution_count": 28,
   "id": "2263ea5f",
   "metadata": {},
   "outputs": [
    {
     "data": {
      "text/html": [
       "<div>\n",
       "<style scoped>\n",
       "    .dataframe tbody tr th:only-of-type {\n",
       "        vertical-align: middle;\n",
       "    }\n",
       "\n",
       "    .dataframe tbody tr th {\n",
       "        vertical-align: top;\n",
       "    }\n",
       "\n",
       "    .dataframe thead th {\n",
       "        text-align: right;\n",
       "    }\n",
       "</style>\n",
       "<table border=\"1\" class=\"dataframe\">\n",
       "  <thead>\n",
       "    <tr style=\"text-align: right;\">\n",
       "      <th></th>\n",
       "      <th>Salesperson</th>\n",
       "      <th>Sales Total</th>\n",
       "      <th>Sales Quantity</th>\n",
       "    </tr>\n",
       "  </thead>\n",
       "  <tbody>\n",
       "    <tr>\n",
       "      <th>0</th>\n",
       "      <td>Paul</td>\n",
       "      <td>50</td>\n",
       "      <td>10.0</td>\n",
       "    </tr>\n",
       "    <tr>\n",
       "      <th>1</th>\n",
       "      <td>Stacy</td>\n",
       "      <td>100</td>\n",
       "      <td>20.0</td>\n",
       "    </tr>\n",
       "    <tr>\n",
       "      <th>2</th>\n",
       "      <td>Paul</td>\n",
       "      <td>80</td>\n",
       "      <td>16.0</td>\n",
       "    </tr>\n",
       "  </tbody>\n",
       "</table>\n",
       "</div>"
      ],
      "text/plain": [
       "  Salesperson  Sales Total  Sales Quantity\n",
       "0        Paul           50            10.0\n",
       "1       Stacy          100            20.0\n",
       "2        Paul           80            16.0"
      ]
     },
     "execution_count": 28,
     "metadata": {},
     "output_type": "execute_result"
    }
   ],
   "source": [
    "df_sp['Sales Quantity'] = df_sp['Sales Total'] / 5\n",
    "df_sp"
   ]
  },
  {
   "cell_type": "markdown",
   "id": "ed558c4c",
   "metadata": {},
   "source": [
    "# 23. Columns - create a new column with the APPLY() method"
   ]
  },
  {
   "cell_type": "markdown",
   "id": "f8b3d888",
   "metadata": {},
   "source": [
    "- Here we create a new column based on applying a function to existing column data."
   ]
  },
  {
   "cell_type": "code",
   "execution_count": 29,
   "id": "153f396b",
   "metadata": {},
   "outputs": [
    {
     "data": {
      "text/html": [
       "<div>\n",
       "<style scoped>\n",
       "    .dataframe tbody tr th:only-of-type {\n",
       "        vertical-align: middle;\n",
       "    }\n",
       "\n",
       "    .dataframe tbody tr th {\n",
       "        vertical-align: top;\n",
       "    }\n",
       "\n",
       "    .dataframe thead th {\n",
       "        text-align: right;\n",
       "    }\n",
       "</style>\n",
       "<table border=\"1\" class=\"dataframe\">\n",
       "  <thead>\n",
       "    <tr style=\"text-align: right;\">\n",
       "      <th></th>\n",
       "      <th>Salesperson</th>\n",
       "      <th>Sales Total</th>\n",
       "      <th>Sales Quantity</th>\n",
       "      <th>New Sales Quantity</th>\n",
       "    </tr>\n",
       "  </thead>\n",
       "  <tbody>\n",
       "    <tr>\n",
       "      <th>0</th>\n",
       "      <td>Paul</td>\n",
       "      <td>50</td>\n",
       "      <td>10.0</td>\n",
       "      <td>5.0</td>\n",
       "    </tr>\n",
       "    <tr>\n",
       "      <th>1</th>\n",
       "      <td>Stacy</td>\n",
       "      <td>100</td>\n",
       "      <td>20.0</td>\n",
       "      <td>10.0</td>\n",
       "    </tr>\n",
       "    <tr>\n",
       "      <th>2</th>\n",
       "      <td>Paul</td>\n",
       "      <td>80</td>\n",
       "      <td>16.0</td>\n",
       "      <td>8.0</td>\n",
       "    </tr>\n",
       "  </tbody>\n",
       "</table>\n",
       "</div>"
      ],
      "text/plain": [
       "  Salesperson  Sales Total  Sales Quantity  New Sales Quantity\n",
       "0        Paul           50            10.0                 5.0\n",
       "1       Stacy          100            20.0                10.0\n",
       "2        Paul           80            16.0                 8.0"
      ]
     },
     "execution_count": 29,
     "metadata": {},
     "output_type": "execute_result"
    }
   ],
   "source": [
    "def divide_by_10(sales_total):\n",
    "    return sales_total / 10\n",
    "df_sp['New Sales Quantity'] = df_sp['Sales Total'].apply(divide_by_10)\n",
    "df_sp"
   ]
  },
  {
   "cell_type": "markdown",
   "id": "5fb11997",
   "metadata": {},
   "source": [
    "# 24. Columns - change data type - FLOAT to INTEGER"
   ]
  },
  {
   "cell_type": "markdown",
   "id": "d027b4b8",
   "metadata": {},
   "source": [
    "- We have some columns containing floats and some containing ints after previous column creation with calculations.\n",
    "- In this case, we know the sum result will be an int and we want to convert from float to an int"
   ]
  },
  {
   "cell_type": "code",
   "execution_count": 30,
   "id": "6f19d84f",
   "metadata": {},
   "outputs": [
    {
     "data": {
      "text/plain": [
       "Salesperson            object\n",
       "Sales Total             int64\n",
       "Sales Quantity        float64\n",
       "New Sales Quantity    float64\n",
       "dtype: object"
      ]
     },
     "execution_count": 30,
     "metadata": {},
     "output_type": "execute_result"
    }
   ],
   "source": [
    "df_sp.dtypes"
   ]
  },
  {
   "cell_type": "markdown",
   "id": "e068886a",
   "metadata": {},
   "source": [
    "- We can change the type of columns."
   ]
  },
  {
   "cell_type": "code",
   "execution_count": 31,
   "id": "115553b2",
   "metadata": {},
   "outputs": [
    {
     "data": {
      "text/html": [
       "<div>\n",
       "<style scoped>\n",
       "    .dataframe tbody tr th:only-of-type {\n",
       "        vertical-align: middle;\n",
       "    }\n",
       "\n",
       "    .dataframe tbody tr th {\n",
       "        vertical-align: top;\n",
       "    }\n",
       "\n",
       "    .dataframe thead th {\n",
       "        text-align: right;\n",
       "    }\n",
       "</style>\n",
       "<table border=\"1\" class=\"dataframe\">\n",
       "  <thead>\n",
       "    <tr style=\"text-align: right;\">\n",
       "      <th></th>\n",
       "      <th>Salesperson</th>\n",
       "      <th>Sales Total</th>\n",
       "      <th>Sales Quantity</th>\n",
       "      <th>New Sales Quantity</th>\n",
       "    </tr>\n",
       "  </thead>\n",
       "  <tbody>\n",
       "    <tr>\n",
       "      <th>0</th>\n",
       "      <td>Paul</td>\n",
       "      <td>50</td>\n",
       "      <td>10</td>\n",
       "      <td>5</td>\n",
       "    </tr>\n",
       "    <tr>\n",
       "      <th>1</th>\n",
       "      <td>Stacy</td>\n",
       "      <td>100</td>\n",
       "      <td>20</td>\n",
       "      <td>10</td>\n",
       "    </tr>\n",
       "    <tr>\n",
       "      <th>2</th>\n",
       "      <td>Paul</td>\n",
       "      <td>80</td>\n",
       "      <td>16</td>\n",
       "      <td>8</td>\n",
       "    </tr>\n",
       "  </tbody>\n",
       "</table>\n",
       "</div>"
      ],
      "text/plain": [
       "  Salesperson  Sales Total  Sales Quantity  New Sales Quantity\n",
       "0        Paul           50              10                   5\n",
       "1       Stacy          100              20                  10\n",
       "2        Paul           80              16                   8"
      ]
     },
     "execution_count": 31,
     "metadata": {},
     "output_type": "execute_result"
    }
   ],
   "source": [
    "df_sp['Sales Quantity'] = df_sp['Sales Quantity'].astype(int)\n",
    "df_sp['New Sales Quantity'] = df_sp['New Sales Quantity'].astype(int)\n",
    "df_sp"
   ]
  },
  {
   "cell_type": "markdown",
   "id": "0311b306",
   "metadata": {},
   "source": [
    "# 25. Columns - create a new string column based on logic in APPLY() method"
   ]
  },
  {
   "cell_type": "markdown",
   "id": "11be4005",
   "metadata": {},
   "source": [
    "- Here we create a new string column based on sales performance."
   ]
  },
  {
   "cell_type": "code",
   "execution_count": 32,
   "id": "550dc458",
   "metadata": {},
   "outputs": [
    {
     "data": {
      "text/html": [
       "<div>\n",
       "<style scoped>\n",
       "    .dataframe tbody tr th:only-of-type {\n",
       "        vertical-align: middle;\n",
       "    }\n",
       "\n",
       "    .dataframe tbody tr th {\n",
       "        vertical-align: top;\n",
       "    }\n",
       "\n",
       "    .dataframe thead th {\n",
       "        text-align: right;\n",
       "    }\n",
       "</style>\n",
       "<table border=\"1\" class=\"dataframe\">\n",
       "  <thead>\n",
       "    <tr style=\"text-align: right;\">\n",
       "      <th></th>\n",
       "      <th>Salesperson</th>\n",
       "      <th>Sales Total</th>\n",
       "      <th>Sales Quantity</th>\n",
       "      <th>New Sales Quantity</th>\n",
       "      <th>Performance</th>\n",
       "    </tr>\n",
       "  </thead>\n",
       "  <tbody>\n",
       "    <tr>\n",
       "      <th>0</th>\n",
       "      <td>Paul</td>\n",
       "      <td>50</td>\n",
       "      <td>10</td>\n",
       "      <td>5</td>\n",
       "      <td>Bad</td>\n",
       "    </tr>\n",
       "    <tr>\n",
       "      <th>1</th>\n",
       "      <td>Stacy</td>\n",
       "      <td>100</td>\n",
       "      <td>20</td>\n",
       "      <td>10</td>\n",
       "      <td>Good</td>\n",
       "    </tr>\n",
       "    <tr>\n",
       "      <th>2</th>\n",
       "      <td>Paul</td>\n",
       "      <td>80</td>\n",
       "      <td>16</td>\n",
       "      <td>8</td>\n",
       "      <td>Good</td>\n",
       "    </tr>\n",
       "  </tbody>\n",
       "</table>\n",
       "</div>"
      ],
      "text/plain": [
       "  Salesperson  Sales Total  Sales Quantity  New Sales Quantity Performance\n",
       "0        Paul           50              10                   5         Bad\n",
       "1       Stacy          100              20                  10        Good\n",
       "2        Paul           80              16                   8        Good"
      ]
     },
     "execution_count": 32,
     "metadata": {},
     "output_type": "execute_result"
    }
   ],
   "source": [
    "def good_bad(sales_total):\n",
    "    try:\n",
    "        if sales_total > 60:\n",
    "            return 'Good'\n",
    "        else:\n",
    "            return 'Bad'\n",
    "    except:\n",
    "        return 'N/A'\n",
    "    \n",
    "df_sp['Performance'] = df_sp['Sales Total'].apply(good_bad)\n",
    "df_sp"
   ]
  },
  {
   "cell_type": "markdown",
   "id": "79b8fc9d",
   "metadata": {},
   "source": [
    "# 26. Columns and Dates - create a year and month column from a date"
   ]
  },
  {
   "cell_type": "code",
   "execution_count": 33,
   "id": "e51bb0f3",
   "metadata": {},
   "outputs": [
    {
     "data": {
      "text/html": [
       "<div>\n",
       "<style scoped>\n",
       "    .dataframe tbody tr th:only-of-type {\n",
       "        vertical-align: middle;\n",
       "    }\n",
       "\n",
       "    .dataframe tbody tr th {\n",
       "        vertical-align: top;\n",
       "    }\n",
       "\n",
       "    .dataframe thead th {\n",
       "        text-align: right;\n",
       "    }\n",
       "</style>\n",
       "<table border=\"1\" class=\"dataframe\">\n",
       "  <thead>\n",
       "    <tr style=\"text-align: right;\">\n",
       "      <th></th>\n",
       "      <th>Salesperson</th>\n",
       "      <th>Sales Total</th>\n",
       "      <th>Sales Quantity</th>\n",
       "      <th>New Sales Quantity</th>\n",
       "      <th>Performance</th>\n",
       "      <th>Date</th>\n",
       "    </tr>\n",
       "  </thead>\n",
       "  <tbody>\n",
       "    <tr>\n",
       "      <th>0</th>\n",
       "      <td>Paul</td>\n",
       "      <td>50</td>\n",
       "      <td>10</td>\n",
       "      <td>5</td>\n",
       "      <td>Bad</td>\n",
       "      <td>2022-01-07</td>\n",
       "    </tr>\n",
       "    <tr>\n",
       "      <th>1</th>\n",
       "      <td>Stacy</td>\n",
       "      <td>100</td>\n",
       "      <td>20</td>\n",
       "      <td>10</td>\n",
       "      <td>Good</td>\n",
       "      <td>2022-01-07</td>\n",
       "    </tr>\n",
       "    <tr>\n",
       "      <th>2</th>\n",
       "      <td>Paul</td>\n",
       "      <td>80</td>\n",
       "      <td>16</td>\n",
       "      <td>8</td>\n",
       "      <td>Good</td>\n",
       "      <td>2022-01-07</td>\n",
       "    </tr>\n",
       "  </tbody>\n",
       "</table>\n",
       "</div>"
      ],
      "text/plain": [
       "  Salesperson  Sales Total  Sales Quantity  New Sales Quantity Performance  \\\n",
       "0        Paul           50              10                   5         Bad   \n",
       "1       Stacy          100              20                  10        Good   \n",
       "2        Paul           80              16                   8        Good   \n",
       "\n",
       "        Date  \n",
       "0 2022-01-07  \n",
       "1 2022-01-07  \n",
       "2 2022-01-07  "
      ]
     },
     "execution_count": 33,
     "metadata": {},
     "output_type": "execute_result"
    }
   ],
   "source": [
    "df_sp['Date'] = datetime(2022,1,7)\n",
    "df_sp"
   ]
  },
  {
   "cell_type": "code",
   "execution_count": 34,
   "id": "d1f103c7",
   "metadata": {},
   "outputs": [
    {
     "data": {
      "text/html": [
       "<div>\n",
       "<style scoped>\n",
       "    .dataframe tbody tr th:only-of-type {\n",
       "        vertical-align: middle;\n",
       "    }\n",
       "\n",
       "    .dataframe tbody tr th {\n",
       "        vertical-align: top;\n",
       "    }\n",
       "\n",
       "    .dataframe thead th {\n",
       "        text-align: right;\n",
       "    }\n",
       "</style>\n",
       "<table border=\"1\" class=\"dataframe\">\n",
       "  <thead>\n",
       "    <tr style=\"text-align: right;\">\n",
       "      <th></th>\n",
       "      <th>Salesperson</th>\n",
       "      <th>Sales Total</th>\n",
       "      <th>Sales Quantity</th>\n",
       "      <th>New Sales Quantity</th>\n",
       "      <th>Performance</th>\n",
       "      <th>Date</th>\n",
       "      <th>Month</th>\n",
       "      <th>Year</th>\n",
       "    </tr>\n",
       "  </thead>\n",
       "  <tbody>\n",
       "    <tr>\n",
       "      <th>0</th>\n",
       "      <td>Paul</td>\n",
       "      <td>50</td>\n",
       "      <td>10</td>\n",
       "      <td>5</td>\n",
       "      <td>Bad</td>\n",
       "      <td>2022-01-07</td>\n",
       "      <td>January</td>\n",
       "      <td>2022</td>\n",
       "    </tr>\n",
       "    <tr>\n",
       "      <th>1</th>\n",
       "      <td>Stacy</td>\n",
       "      <td>100</td>\n",
       "      <td>20</td>\n",
       "      <td>10</td>\n",
       "      <td>Good</td>\n",
       "      <td>2022-01-07</td>\n",
       "      <td>January</td>\n",
       "      <td>2022</td>\n",
       "    </tr>\n",
       "    <tr>\n",
       "      <th>2</th>\n",
       "      <td>Paul</td>\n",
       "      <td>80</td>\n",
       "      <td>16</td>\n",
       "      <td>8</td>\n",
       "      <td>Good</td>\n",
       "      <td>2022-01-07</td>\n",
       "      <td>January</td>\n",
       "      <td>2022</td>\n",
       "    </tr>\n",
       "  </tbody>\n",
       "</table>\n",
       "</div>"
      ],
      "text/plain": [
       "  Salesperson  Sales Total  Sales Quantity  New Sales Quantity Performance  \\\n",
       "0        Paul           50              10                   5         Bad   \n",
       "1       Stacy          100              20                  10        Good   \n",
       "2        Paul           80              16                   8        Good   \n",
       "\n",
       "        Date    Month  Year  \n",
       "0 2022-01-07  January  2022  \n",
       "1 2022-01-07  January  2022  \n",
       "2 2022-01-07  January  2022  "
      ]
     },
     "execution_count": 34,
     "metadata": {},
     "output_type": "execute_result"
    }
   ],
   "source": [
    "def return_month(x):\n",
    "    try:\n",
    "        return x.month_name()\n",
    "    except:\n",
    "        return x\n",
    "    \n",
    "def return_year(x):\n",
    "    try:\n",
    "        return x.year\n",
    "    except:\n",
    "        return x\n",
    "\n",
    "df_sp['Month'] = df_sp['Date'].apply(return_month)\n",
    "df_sp['Year'] = df_sp['Date'].apply(return_year)\n",
    "df_sp"
   ]
  },
  {
   "cell_type": "markdown",
   "id": "c1d6a6bb",
   "metadata": {},
   "source": [
    "# 27. Columns - change the names of your columns"
   ]
  },
  {
   "cell_type": "markdown",
   "id": "6c093cc9",
   "metadata": {},
   "source": [
    "- Often, if you've pulled the data fro somewhere else to create a dataframe you might want to rename your columns."
   ]
  },
  {
   "cell_type": "code",
   "execution_count": 35,
   "id": "d4726e52",
   "metadata": {},
   "outputs": [
    {
     "data": {
      "text/html": [
       "<div>\n",
       "<style scoped>\n",
       "    .dataframe tbody tr th:only-of-type {\n",
       "        vertical-align: middle;\n",
       "    }\n",
       "\n",
       "    .dataframe tbody tr th {\n",
       "        vertical-align: top;\n",
       "    }\n",
       "\n",
       "    .dataframe thead th {\n",
       "        text-align: right;\n",
       "    }\n",
       "</style>\n",
       "<table border=\"1\" class=\"dataframe\">\n",
       "  <thead>\n",
       "    <tr style=\"text-align: right;\">\n",
       "      <th></th>\n",
       "      <th>A</th>\n",
       "      <th>B</th>\n",
       "    </tr>\n",
       "  </thead>\n",
       "  <tbody>\n",
       "    <tr>\n",
       "      <th>0</th>\n",
       "      <td>Steve</td>\n",
       "      <td>100</td>\n",
       "    </tr>\n",
       "    <tr>\n",
       "      <th>1</th>\n",
       "      <td>Jenny</td>\n",
       "      <td>120</td>\n",
       "    </tr>\n",
       "  </tbody>\n",
       "</table>\n",
       "</div>"
      ],
      "text/plain": [
       "       A    B\n",
       "0  Steve  100\n",
       "1  Jenny  120"
      ]
     },
     "execution_count": 35,
     "metadata": {},
     "output_type": "execute_result"
    }
   ],
   "source": [
    "df_change_cols = pd.DataFrame([[\"Steve\",100],[\"Jenny\",120]], columns=[\"A\",\"B\"])\n",
    "df_change_cols"
   ]
  },
  {
   "cell_type": "code",
   "execution_count": 36,
   "id": "05cd320c",
   "metadata": {},
   "outputs": [
    {
     "data": {
      "text/html": [
       "<div>\n",
       "<style scoped>\n",
       "    .dataframe tbody tr th:only-of-type {\n",
       "        vertical-align: middle;\n",
       "    }\n",
       "\n",
       "    .dataframe tbody tr th {\n",
       "        vertical-align: top;\n",
       "    }\n",
       "\n",
       "    .dataframe thead th {\n",
       "        text-align: right;\n",
       "    }\n",
       "</style>\n",
       "<table border=\"1\" class=\"dataframe\">\n",
       "  <thead>\n",
       "    <tr style=\"text-align: right;\">\n",
       "      <th></th>\n",
       "      <th>Name</th>\n",
       "      <th>Test Score</th>\n",
       "    </tr>\n",
       "  </thead>\n",
       "  <tbody>\n",
       "    <tr>\n",
       "      <th>0</th>\n",
       "      <td>Steve</td>\n",
       "      <td>100</td>\n",
       "    </tr>\n",
       "    <tr>\n",
       "      <th>1</th>\n",
       "      <td>Jenny</td>\n",
       "      <td>120</td>\n",
       "    </tr>\n",
       "  </tbody>\n",
       "</table>\n",
       "</div>"
      ],
      "text/plain": [
       "    Name  Test Score\n",
       "0  Steve         100\n",
       "1  Jenny         120"
      ]
     },
     "execution_count": 36,
     "metadata": {},
     "output_type": "execute_result"
    }
   ],
   "source": [
    "df_change_cols.columns = [\"Name\", \"Test Score\"]\n",
    "df_change_cols"
   ]
  },
  {
   "cell_type": "markdown",
   "id": "565c90f4",
   "metadata": {},
   "source": [
    "# 28. Data Frame - use the APPLY() method with a LAMBDA function on an entire dataframe"
   ]
  },
  {
   "cell_type": "markdown",
   "id": "50c8656e",
   "metadata": {},
   "source": [
    "- It's more common to use the apply method on individual columns but you can apply functions to an entire dataframe.\n",
    "- NOTE! This doesn't affect the existing dataframe - so you must ASSIGN to a dataframe."
   ]
  },
  {
   "cell_type": "code",
   "execution_count": 37,
   "id": "4226ad5b",
   "metadata": {},
   "outputs": [
    {
     "name": "stdout",
     "output_type": "stream",
     "text": [
      "   A  B\n",
      "0  1  2\n",
      "1  3  4\n"
     ]
    },
    {
     "data": {
      "text/html": [
       "<div>\n",
       "<style scoped>\n",
       "    .dataframe tbody tr th:only-of-type {\n",
       "        vertical-align: middle;\n",
       "    }\n",
       "\n",
       "    .dataframe tbody tr th {\n",
       "        vertical-align: top;\n",
       "    }\n",
       "\n",
       "    .dataframe thead th {\n",
       "        text-align: right;\n",
       "    }\n",
       "</style>\n",
       "<table border=\"1\" class=\"dataframe\">\n",
       "  <thead>\n",
       "    <tr style=\"text-align: right;\">\n",
       "      <th></th>\n",
       "      <th>A</th>\n",
       "      <th>B</th>\n",
       "    </tr>\n",
       "  </thead>\n",
       "  <tbody>\n",
       "    <tr>\n",
       "      <th>0</th>\n",
       "      <td>6</td>\n",
       "      <td>7</td>\n",
       "    </tr>\n",
       "    <tr>\n",
       "      <th>1</th>\n",
       "      <td>8</td>\n",
       "      <td>9</td>\n",
       "    </tr>\n",
       "  </tbody>\n",
       "</table>\n",
       "</div>"
      ],
      "text/plain": [
       "   A  B\n",
       "0  6  7\n",
       "1  8  9"
      ]
     },
     "execution_count": 37,
     "metadata": {},
     "output_type": "execute_result"
    }
   ],
   "source": [
    "df_nums = pd.DataFrame([[1,2],[3,4]], columns=['A','B'])\n",
    "print(df_nums)\n",
    "df_nums = df_nums.apply(lambda x: x + 5)\n",
    "df_nums"
   ]
  },
  {
   "cell_type": "markdown",
   "id": "b682d57e",
   "metadata": {},
   "source": [
    "# 29. NaN - use ISNULL() to find null values\n",
    "- This will only find NaN values BUT see below to find NaN values and non-string values."
   ]
  },
  {
   "cell_type": "code",
   "execution_count": 38,
   "id": "03a87c2c",
   "metadata": {},
   "outputs": [
    {
     "data": {
      "text/html": [
       "<div>\n",
       "<style scoped>\n",
       "    .dataframe tbody tr th:only-of-type {\n",
       "        vertical-align: middle;\n",
       "    }\n",
       "\n",
       "    .dataframe tbody tr th {\n",
       "        vertical-align: top;\n",
       "    }\n",
       "\n",
       "    .dataframe thead th {\n",
       "        text-align: right;\n",
       "    }\n",
       "</style>\n",
       "<table border=\"1\" class=\"dataframe\">\n",
       "  <thead>\n",
       "    <tr style=\"text-align: right;\">\n",
       "      <th></th>\n",
       "      <th>test_col</th>\n",
       "    </tr>\n",
       "  </thead>\n",
       "  <tbody>\n",
       "    <tr>\n",
       "      <th>0</th>\n",
       "      <td>$26 M</td>\n",
       "    </tr>\n",
       "    <tr>\n",
       "      <th>1</th>\n",
       "      <td>$32 B</td>\n",
       "    </tr>\n",
       "    <tr>\n",
       "      <th>2</th>\n",
       "      <td>NaN</td>\n",
       "    </tr>\n",
       "    <tr>\n",
       "      <th>3</th>\n",
       "      <td>0</td>\n",
       "    </tr>\n",
       "  </tbody>\n",
       "</table>\n",
       "</div>"
      ],
      "text/plain": [
       "  test_col\n",
       "0    $26 M\n",
       "1    $32 B\n",
       "2      NaN\n",
       "3        0"
      ]
     },
     "execution_count": 38,
     "metadata": {},
     "output_type": "execute_result"
    }
   ],
   "source": [
    "import numpy as np\n",
    "df_find_nans = pd.DataFrame({\"test_col\":['$26 M','$32 B',np.nan,0]})\n",
    "df_find_nans"
   ]
  },
  {
   "cell_type": "code",
   "execution_count": 39,
   "id": "be59d9cb",
   "metadata": {},
   "outputs": [
    {
     "data": {
      "text/html": [
       "<div>\n",
       "<style scoped>\n",
       "    .dataframe tbody tr th:only-of-type {\n",
       "        vertical-align: middle;\n",
       "    }\n",
       "\n",
       "    .dataframe tbody tr th {\n",
       "        vertical-align: top;\n",
       "    }\n",
       "\n",
       "    .dataframe thead th {\n",
       "        text-align: right;\n",
       "    }\n",
       "</style>\n",
       "<table border=\"1\" class=\"dataframe\">\n",
       "  <thead>\n",
       "    <tr style=\"text-align: right;\">\n",
       "      <th></th>\n",
       "      <th>test_col</th>\n",
       "    </tr>\n",
       "  </thead>\n",
       "  <tbody>\n",
       "    <tr>\n",
       "      <th>2</th>\n",
       "      <td>NaN</td>\n",
       "    </tr>\n",
       "  </tbody>\n",
       "</table>\n",
       "</div>"
      ],
      "text/plain": [
       "  test_col\n",
       "2      NaN"
      ]
     },
     "execution_count": 39,
     "metadata": {},
     "output_type": "execute_result"
    }
   ],
   "source": [
    "# Find null values in a column\n",
    "df_find_nans[df_find_nans['test_col'].isnull()]"
   ]
  },
  {
   "cell_type": "markdown",
   "id": "bb30beec",
   "metadata": {},
   "source": [
    "# 30. NaN - use na=False to find NaN AND non-strings\n",
    "- Here we want to test all strings contain a dollar sign plus M or B.\n",
    "- We have to set nan=false in the str.contains method to return NaN and any non strings."
   ]
  },
  {
   "cell_type": "code",
   "execution_count": 40,
   "id": "a6f6dc76",
   "metadata": {},
   "outputs": [
    {
     "data": {
      "text/html": [
       "<div>\n",
       "<style scoped>\n",
       "    .dataframe tbody tr th:only-of-type {\n",
       "        vertical-align: middle;\n",
       "    }\n",
       "\n",
       "    .dataframe tbody tr th {\n",
       "        vertical-align: top;\n",
       "    }\n",
       "\n",
       "    .dataframe thead th {\n",
       "        text-align: right;\n",
       "    }\n",
       "</style>\n",
       "<table border=\"1\" class=\"dataframe\">\n",
       "  <thead>\n",
       "    <tr style=\"text-align: right;\">\n",
       "      <th></th>\n",
       "      <th>test_col</th>\n",
       "    </tr>\n",
       "  </thead>\n",
       "  <tbody>\n",
       "    <tr>\n",
       "      <th>2</th>\n",
       "      <td>NaN</td>\n",
       "    </tr>\n",
       "    <tr>\n",
       "      <th>3</th>\n",
       "      <td>0</td>\n",
       "    </tr>\n",
       "  </tbody>\n",
       "</table>\n",
       "</div>"
      ],
      "text/plain": [
       "  test_col\n",
       "2      NaN\n",
       "3        0"
      ]
     },
     "execution_count": 40,
     "metadata": {},
     "output_type": "execute_result"
    }
   ],
   "source": [
    "df_find_nans[df_find_nans['test_col'].str.contains('$', na=False) == False]"
   ]
  },
  {
   "cell_type": "markdown",
   "id": "9b2c6bee",
   "metadata": {},
   "source": [
    "# 31. NaN - convert missing numerical data to 0 with FILLNA()\n",
    "- NaN means missing data\n",
    "- Any blank cells from a spreadsheet will be returned as NaN"
   ]
  },
  {
   "cell_type": "code",
   "execution_count": 41,
   "id": "461be42b",
   "metadata": {},
   "outputs": [
    {
     "data": {
      "text/html": [
       "<div>\n",
       "<style scoped>\n",
       "    .dataframe tbody tr th:only-of-type {\n",
       "        vertical-align: middle;\n",
       "    }\n",
       "\n",
       "    .dataframe tbody tr th {\n",
       "        vertical-align: top;\n",
       "    }\n",
       "\n",
       "    .dataframe thead th {\n",
       "        text-align: right;\n",
       "    }\n",
       "</style>\n",
       "<table border=\"1\" class=\"dataframe\">\n",
       "  <thead>\n",
       "    <tr style=\"text-align: right;\">\n",
       "      <th></th>\n",
       "      <th>employee</th>\n",
       "      <th>department</th>\n",
       "      <th>salary</th>\n",
       "    </tr>\n",
       "  </thead>\n",
       "  <tbody>\n",
       "    <tr>\n",
       "      <th>0</th>\n",
       "      <td>Bob Jenkins</td>\n",
       "      <td>Marketing</td>\n",
       "      <td>39000.0</td>\n",
       "    </tr>\n",
       "    <tr>\n",
       "      <th>1</th>\n",
       "      <td>Jane Willis</td>\n",
       "      <td>HR</td>\n",
       "      <td>48000.0</td>\n",
       "    </tr>\n",
       "    <tr>\n",
       "      <th>2</th>\n",
       "      <td>Sally Turner</td>\n",
       "      <td>IT</td>\n",
       "      <td>NaN</td>\n",
       "    </tr>\n",
       "    <tr>\n",
       "      <th>3</th>\n",
       "      <td>William Jones</td>\n",
       "      <td>Marketing</td>\n",
       "      <td>39000.0</td>\n",
       "    </tr>\n",
       "  </tbody>\n",
       "</table>\n",
       "</div>"
      ],
      "text/plain": [
       "        employee department   salary\n",
       "0    Bob Jenkins  Marketing  39000.0\n",
       "1    Jane Willis         HR  48000.0\n",
       "2   Sally Turner         IT      NaN\n",
       "3  William Jones  Marketing  39000.0"
      ]
     },
     "execution_count": 41,
     "metadata": {},
     "output_type": "execute_result"
    }
   ],
   "source": [
    "df_nans = pd.DataFrame({\n",
    "    'employee':['Bob Jenkins','Jane Willis','Sally Turner','William Jones'],\n",
    "    'department':['Marketing','HR','IT','Marketing'],\n",
    "    'salary':[39000,48000,None,39000]\n",
    "})\n",
    "df_nans"
   ]
  },
  {
   "cell_type": "code",
   "execution_count": 42,
   "id": "d0703173",
   "metadata": {},
   "outputs": [
    {
     "data": {
      "text/html": [
       "<div>\n",
       "<style scoped>\n",
       "    .dataframe tbody tr th:only-of-type {\n",
       "        vertical-align: middle;\n",
       "    }\n",
       "\n",
       "    .dataframe tbody tr th {\n",
       "        vertical-align: top;\n",
       "    }\n",
       "\n",
       "    .dataframe thead th {\n",
       "        text-align: right;\n",
       "    }\n",
       "</style>\n",
       "<table border=\"1\" class=\"dataframe\">\n",
       "  <thead>\n",
       "    <tr style=\"text-align: right;\">\n",
       "      <th></th>\n",
       "      <th>employee</th>\n",
       "      <th>department</th>\n",
       "      <th>salary</th>\n",
       "    </tr>\n",
       "  </thead>\n",
       "  <tbody>\n",
       "    <tr>\n",
       "      <th>0</th>\n",
       "      <td>Bob Jenkins</td>\n",
       "      <td>Marketing</td>\n",
       "      <td>39000.0</td>\n",
       "    </tr>\n",
       "    <tr>\n",
       "      <th>1</th>\n",
       "      <td>Jane Willis</td>\n",
       "      <td>HR</td>\n",
       "      <td>48000.0</td>\n",
       "    </tr>\n",
       "    <tr>\n",
       "      <th>2</th>\n",
       "      <td>Sally Turner</td>\n",
       "      <td>IT</td>\n",
       "      <td>30000.0</td>\n",
       "    </tr>\n",
       "    <tr>\n",
       "      <th>3</th>\n",
       "      <td>William Jones</td>\n",
       "      <td>Marketing</td>\n",
       "      <td>39000.0</td>\n",
       "    </tr>\n",
       "  </tbody>\n",
       "</table>\n",
       "</div>"
      ],
      "text/plain": [
       "        employee department   salary\n",
       "0    Bob Jenkins  Marketing  39000.0\n",
       "1    Jane Willis         HR  48000.0\n",
       "2   Sally Turner         IT  30000.0\n",
       "3  William Jones  Marketing  39000.0"
      ]
     },
     "execution_count": 42,
     "metadata": {},
     "output_type": "execute_result"
    }
   ],
   "source": [
    "df_nans['salary'] = df_nans['salary'].fillna(30000)\n",
    "df_nans"
   ]
  },
  {
   "cell_type": "markdown",
   "id": "88020434",
   "metadata": {},
   "source": [
    "# 32. Group By - counting columns"
   ]
  },
  {
   "cell_type": "markdown",
   "id": "f40b2403",
   "metadata": {},
   "source": [
    "- Here we can group instances and count them, simlar to SQL grouping."
   ]
  },
  {
   "cell_type": "code",
   "execution_count": 43,
   "id": "03da4edf",
   "metadata": {},
   "outputs": [
    {
     "data": {
      "text/plain": [
       "Marketing    2\n",
       "HR           1\n",
       "IT           1\n",
       "Name: department, dtype: int64"
      ]
     },
     "execution_count": 43,
     "metadata": {},
     "output_type": "execute_result"
    }
   ],
   "source": [
    "df_nans['department'].value_counts()"
   ]
  },
  {
   "cell_type": "code",
   "execution_count": 44,
   "id": "be363b08",
   "metadata": {},
   "outputs": [
    {
     "data": {
      "text/plain": [
       "39000.0    2\n",
       "48000.0    1\n",
       "30000.0    1\n",
       "Name: salary, dtype: int64"
      ]
     },
     "execution_count": 44,
     "metadata": {},
     "output_type": "execute_result"
    }
   ],
   "source": [
    "df_nans['salary'].value_counts()"
   ]
  },
  {
   "cell_type": "markdown",
   "id": "342408c1",
   "metadata": {},
   "source": [
    "# 33. Group By - counting by percentage"
   ]
  },
  {
   "cell_type": "markdown",
   "id": "d593b5ba",
   "metadata": {},
   "source": [
    "- In this example, normalize=True returns the percentage of the count \n",
    "- We then perform a sum and create a percentage string to tidy the results"
   ]
  },
  {
   "cell_type": "code",
   "execution_count": 45,
   "id": "51115659",
   "metadata": {},
   "outputs": [
    {
     "data": {
      "text/plain": [
       "Marketing    0.50\n",
       "HR           0.25\n",
       "IT           0.25\n",
       "Name: department, dtype: float64"
      ]
     },
     "execution_count": 45,
     "metadata": {},
     "output_type": "execute_result"
    }
   ],
   "source": [
    "department_percentage = df_nans['department'].value_counts(normalize=True)\n",
    "department_percentage"
   ]
  },
  {
   "cell_type": "code",
   "execution_count": 46,
   "id": "bbfea942",
   "metadata": {},
   "outputs": [
    {
     "data": {
      "text/html": [
       "<div>\n",
       "<style scoped>\n",
       "    .dataframe tbody tr th:only-of-type {\n",
       "        vertical-align: middle;\n",
       "    }\n",
       "\n",
       "    .dataframe tbody tr th {\n",
       "        vertical-align: top;\n",
       "    }\n",
       "\n",
       "    .dataframe thead th {\n",
       "        text-align: right;\n",
       "    }\n",
       "</style>\n",
       "<table border=\"1\" class=\"dataframe\">\n",
       "  <thead>\n",
       "    <tr style=\"text-align: right;\">\n",
       "      <th></th>\n",
       "      <th>Percentage</th>\n",
       "    </tr>\n",
       "  </thead>\n",
       "  <tbody>\n",
       "    <tr>\n",
       "      <th>Marketing</th>\n",
       "      <td>50%</td>\n",
       "    </tr>\n",
       "    <tr>\n",
       "      <th>HR</th>\n",
       "      <td>25%</td>\n",
       "    </tr>\n",
       "    <tr>\n",
       "      <th>IT</th>\n",
       "      <td>25%</td>\n",
       "    </tr>\n",
       "  </tbody>\n",
       "</table>\n",
       "</div>"
      ],
      "text/plain": [
       "          Percentage\n",
       "Marketing        50%\n",
       "HR               25%\n",
       "IT               25%"
      ]
     },
     "execution_count": 46,
     "metadata": {},
     "output_type": "execute_result"
    }
   ],
   "source": [
    "# Convert to a dataframe, get percentage as string and delete original percentage figure\n",
    "def convert_percentage_string(x):\n",
    "    try:\n",
    "        x = round(x * 100)\n",
    "        return str(x) + '%'\n",
    "    except:\n",
    "        return x\n",
    "    \n",
    "department_percentage = pd.DataFrame(department_percentage)\n",
    "department_percentage['Percentage'] = department_percentage['department'].apply(convert_percentage_string)\n",
    "\n",
    "del department_percentage['department']\n",
    "\n",
    "department_percentage"
   ]
  },
  {
   "cell_type": "markdown",
   "id": "05109940",
   "metadata": {},
   "source": [
    "# 34. Pivot - PIVOT() example"
   ]
  },
  {
   "cell_type": "markdown",
   "id": "950f036c",
   "metadata": {},
   "source": [
    "- Here we have a 'pivotalbe' table with shop and items repeating.\n",
    "- We want to group together shops and items to see how each is performing."
   ]
  },
  {
   "cell_type": "code",
   "execution_count": 47,
   "id": "4ba465e7",
   "metadata": {},
   "outputs": [
    {
     "data": {
      "text/html": [
       "<div>\n",
       "<style scoped>\n",
       "    .dataframe tbody tr th:only-of-type {\n",
       "        vertical-align: middle;\n",
       "    }\n",
       "\n",
       "    .dataframe tbody tr th {\n",
       "        vertical-align: top;\n",
       "    }\n",
       "\n",
       "    .dataframe thead th {\n",
       "        text-align: right;\n",
       "    }\n",
       "</style>\n",
       "<table border=\"1\" class=\"dataframe\">\n",
       "  <thead>\n",
       "    <tr style=\"text-align: right;\">\n",
       "      <th></th>\n",
       "      <th>Shop</th>\n",
       "      <th>Item</th>\n",
       "      <th>Sales</th>\n",
       "    </tr>\n",
       "  </thead>\n",
       "  <tbody>\n",
       "    <tr>\n",
       "      <th>0</th>\n",
       "      <td>New York</td>\n",
       "      <td>Shoes</td>\n",
       "      <td>3000</td>\n",
       "    </tr>\n",
       "    <tr>\n",
       "      <th>1</th>\n",
       "      <td>New York</td>\n",
       "      <td>Jackets</td>\n",
       "      <td>4000</td>\n",
       "    </tr>\n",
       "    <tr>\n",
       "      <th>2</th>\n",
       "      <td>London</td>\n",
       "      <td>Shoes</td>\n",
       "      <td>2000</td>\n",
       "    </tr>\n",
       "    <tr>\n",
       "      <th>3</th>\n",
       "      <td>London</td>\n",
       "      <td>Jackets</td>\n",
       "      <td>5000</td>\n",
       "    </tr>\n",
       "  </tbody>\n",
       "</table>\n",
       "</div>"
      ],
      "text/plain": [
       "       Shop     Item  Sales\n",
       "0  New York    Shoes   3000\n",
       "1  New York  Jackets   4000\n",
       "2    London    Shoes   2000\n",
       "3    London  Jackets   5000"
      ]
     },
     "execution_count": 47,
     "metadata": {},
     "output_type": "execute_result"
    }
   ],
   "source": [
    "shop_sales = [[\"New York\",\"Shoes\",3000],[\"New York\",\"Jackets\",4000],[\"London\",\"Shoes\",2000],[\"London\",\"Jackets\",5000]]\n",
    "df_shop = pd.DataFrame(shop_sales, columns=[\"Shop\",\"Item\",\"Sales\"])\n",
    "df_shop"
   ]
  },
  {
   "cell_type": "code",
   "execution_count": 48,
   "id": "361064bd",
   "metadata": {},
   "outputs": [
    {
     "data": {
      "text/html": [
       "<div>\n",
       "<style scoped>\n",
       "    .dataframe tbody tr th:only-of-type {\n",
       "        vertical-align: middle;\n",
       "    }\n",
       "\n",
       "    .dataframe tbody tr th {\n",
       "        vertical-align: top;\n",
       "    }\n",
       "\n",
       "    .dataframe thead th {\n",
       "        text-align: right;\n",
       "    }\n",
       "</style>\n",
       "<table border=\"1\" class=\"dataframe\">\n",
       "  <thead>\n",
       "    <tr style=\"text-align: right;\">\n",
       "      <th>Item</th>\n",
       "      <th>Jackets</th>\n",
       "      <th>Shoes</th>\n",
       "    </tr>\n",
       "    <tr>\n",
       "      <th>Shop</th>\n",
       "      <th></th>\n",
       "      <th></th>\n",
       "    </tr>\n",
       "  </thead>\n",
       "  <tbody>\n",
       "    <tr>\n",
       "      <th>London</th>\n",
       "      <td>5000</td>\n",
       "      <td>2000</td>\n",
       "    </tr>\n",
       "    <tr>\n",
       "      <th>New York</th>\n",
       "      <td>4000</td>\n",
       "      <td>3000</td>\n",
       "    </tr>\n",
       "  </tbody>\n",
       "</table>\n",
       "</div>"
      ],
      "text/plain": [
       "Item      Jackets  Shoes\n",
       "Shop                    \n",
       "London       5000   2000\n",
       "New York     4000   3000"
      ]
     },
     "execution_count": 48,
     "metadata": {},
     "output_type": "execute_result"
    }
   ],
   "source": [
    "# See how many items are sold in each shop\n",
    "df_shop.pivot(index=\"Shop\", columns=\"Item\", values=\"Sales\")"
   ]
  },
  {
   "cell_type": "code",
   "execution_count": 49,
   "id": "76ac3c6d",
   "metadata": {},
   "outputs": [
    {
     "data": {
      "text/html": [
       "<div>\n",
       "<style scoped>\n",
       "    .dataframe tbody tr th:only-of-type {\n",
       "        vertical-align: middle;\n",
       "    }\n",
       "\n",
       "    .dataframe tbody tr th {\n",
       "        vertical-align: top;\n",
       "    }\n",
       "\n",
       "    .dataframe thead th {\n",
       "        text-align: right;\n",
       "    }\n",
       "</style>\n",
       "<table border=\"1\" class=\"dataframe\">\n",
       "  <thead>\n",
       "    <tr style=\"text-align: right;\">\n",
       "      <th>Shop</th>\n",
       "      <th>London</th>\n",
       "      <th>New York</th>\n",
       "    </tr>\n",
       "    <tr>\n",
       "      <th>Item</th>\n",
       "      <th></th>\n",
       "      <th></th>\n",
       "    </tr>\n",
       "  </thead>\n",
       "  <tbody>\n",
       "    <tr>\n",
       "      <th>Jackets</th>\n",
       "      <td>5000</td>\n",
       "      <td>4000</td>\n",
       "    </tr>\n",
       "    <tr>\n",
       "      <th>Shoes</th>\n",
       "      <td>2000</td>\n",
       "      <td>3000</td>\n",
       "    </tr>\n",
       "  </tbody>\n",
       "</table>\n",
       "</div>"
      ],
      "text/plain": [
       "Shop     London  New York\n",
       "Item                     \n",
       "Jackets    5000      4000\n",
       "Shoes      2000      3000"
      ]
     },
     "execution_count": 49,
     "metadata": {},
     "output_type": "execute_result"
    }
   ],
   "source": [
    "# Here we pivot the other way\n",
    "df_shop.pivot(index=\"Item\", columns=\"Shop\", values=\"Sales\")"
   ]
  },
  {
   "cell_type": "markdown",
   "id": "f41cc679",
   "metadata": {},
   "source": [
    "# 35. Pivot 2 - PIVOT() example with grouped dates sales"
   ]
  },
  {
   "cell_type": "markdown",
   "id": "84e276f1",
   "metadata": {},
   "source": [
    "- Here we look at how many sales were performed per salesperson per date"
   ]
  },
  {
   "cell_type": "code",
   "execution_count": 50,
   "id": "6331ed49",
   "metadata": {},
   "outputs": [
    {
     "data": {
      "text/html": [
       "<div>\n",
       "<style scoped>\n",
       "    .dataframe tbody tr th:only-of-type {\n",
       "        vertical-align: middle;\n",
       "    }\n",
       "\n",
       "    .dataframe tbody tr th {\n",
       "        vertical-align: top;\n",
       "    }\n",
       "\n",
       "    .dataframe thead th {\n",
       "        text-align: right;\n",
       "    }\n",
       "</style>\n",
       "<table border=\"1\" class=\"dataframe\">\n",
       "  <thead>\n",
       "    <tr style=\"text-align: right;\">\n",
       "      <th></th>\n",
       "      <th>Salesperson</th>\n",
       "      <th>Date</th>\n",
       "      <th>Sales</th>\n",
       "    </tr>\n",
       "  </thead>\n",
       "  <tbody>\n",
       "    <tr>\n",
       "      <th>0</th>\n",
       "      <td>Dave</td>\n",
       "      <td>2021-11-17</td>\n",
       "      <td>40</td>\n",
       "    </tr>\n",
       "    <tr>\n",
       "      <th>1</th>\n",
       "      <td>Sally</td>\n",
       "      <td>2021-11-17</td>\n",
       "      <td>0</td>\n",
       "    </tr>\n",
       "    <tr>\n",
       "      <th>2</th>\n",
       "      <td>Bob</td>\n",
       "      <td>2021-11-17</td>\n",
       "      <td>200</td>\n",
       "    </tr>\n",
       "    <tr>\n",
       "      <th>3</th>\n",
       "      <td>Dave</td>\n",
       "      <td>2021-11-18</td>\n",
       "      <td>30</td>\n",
       "    </tr>\n",
       "    <tr>\n",
       "      <th>4</th>\n",
       "      <td>Sally</td>\n",
       "      <td>2021-11-18</td>\n",
       "      <td>10</td>\n",
       "    </tr>\n",
       "    <tr>\n",
       "      <th>5</th>\n",
       "      <td>Bob</td>\n",
       "      <td>2021-11-18</td>\n",
       "      <td>210</td>\n",
       "    </tr>\n",
       "    <tr>\n",
       "      <th>6</th>\n",
       "      <td>Dave</td>\n",
       "      <td>2021-11-19</td>\n",
       "      <td>40</td>\n",
       "    </tr>\n",
       "    <tr>\n",
       "      <th>7</th>\n",
       "      <td>Sally</td>\n",
       "      <td>2021-11-19</td>\n",
       "      <td>390</td>\n",
       "    </tr>\n",
       "    <tr>\n",
       "      <th>8</th>\n",
       "      <td>Bob</td>\n",
       "      <td>2021-11-19</td>\n",
       "      <td>140</td>\n",
       "    </tr>\n",
       "  </tbody>\n",
       "</table>\n",
       "</div>"
      ],
      "text/plain": [
       "  Salesperson        Date  Sales\n",
       "0        Dave  2021-11-17     40\n",
       "1       Sally  2021-11-17      0\n",
       "2         Bob  2021-11-17    200\n",
       "3        Dave  2021-11-18     30\n",
       "4       Sally  2021-11-18     10\n",
       "5         Bob  2021-11-18    210\n",
       "6        Dave  2021-11-19     40\n",
       "7       Sally  2021-11-19    390\n",
       "8         Bob  2021-11-19    140"
      ]
     },
     "execution_count": 50,
     "metadata": {},
     "output_type": "execute_result"
    }
   ],
   "source": [
    "df_dates_arr = [\n",
    "    [\"Dave\",'2021-11-17',40],\n",
    "    [\"Sally\",'2021-11-17',0],\n",
    "    [\"Bob\",'2021-11-17',200],\n",
    "    [\"Dave\",'2021-11-18',30],\n",
    "    [\"Sally\",'2021-11-18',10],\n",
    "    [\"Bob\",'2021-11-18',210],\n",
    "    [\"Dave\",'2021-11-19',40],\n",
    "    [\"Sally\",'2021-11-19',390],\n",
    "    [\"Bob\",'2021-11-19',140]\n",
    "]\n",
    "df_dates = pd.DataFrame(df_dates_arr, columns=[\"Salesperson\",\"Date\",\"Sales\"])\n",
    "df_dates"
   ]
  },
  {
   "cell_type": "code",
   "execution_count": 51,
   "id": "e03faa47",
   "metadata": {},
   "outputs": [
    {
     "data": {
      "text/html": [
       "<div>\n",
       "<style scoped>\n",
       "    .dataframe tbody tr th:only-of-type {\n",
       "        vertical-align: middle;\n",
       "    }\n",
       "\n",
       "    .dataframe tbody tr th {\n",
       "        vertical-align: top;\n",
       "    }\n",
       "\n",
       "    .dataframe thead th {\n",
       "        text-align: right;\n",
       "    }\n",
       "</style>\n",
       "<table border=\"1\" class=\"dataframe\">\n",
       "  <thead>\n",
       "    <tr style=\"text-align: right;\">\n",
       "      <th>Salesperson</th>\n",
       "      <th>Bob</th>\n",
       "      <th>Dave</th>\n",
       "      <th>Sally</th>\n",
       "    </tr>\n",
       "    <tr>\n",
       "      <th>Date</th>\n",
       "      <th></th>\n",
       "      <th></th>\n",
       "      <th></th>\n",
       "    </tr>\n",
       "  </thead>\n",
       "  <tbody>\n",
       "    <tr>\n",
       "      <th>2021-11-17</th>\n",
       "      <td>200</td>\n",
       "      <td>40</td>\n",
       "      <td>0</td>\n",
       "    </tr>\n",
       "    <tr>\n",
       "      <th>2021-11-18</th>\n",
       "      <td>210</td>\n",
       "      <td>30</td>\n",
       "      <td>10</td>\n",
       "    </tr>\n",
       "    <tr>\n",
       "      <th>2021-11-19</th>\n",
       "      <td>140</td>\n",
       "      <td>40</td>\n",
       "      <td>390</td>\n",
       "    </tr>\n",
       "  </tbody>\n",
       "</table>\n",
       "</div>"
      ],
      "text/plain": [
       "Salesperson  Bob  Dave  Sally\n",
       "Date                         \n",
       "2021-11-17   200    40      0\n",
       "2021-11-18   210    30     10\n",
       "2021-11-19   140    40    390"
      ]
     },
     "execution_count": 51,
     "metadata": {},
     "output_type": "execute_result"
    }
   ],
   "source": [
    "df_dates.pivot(index=\"Date\", columns=\"Salesperson\", values=\"Sales\")"
   ]
  },
  {
   "cell_type": "code",
   "execution_count": 52,
   "id": "5b146b40",
   "metadata": {},
   "outputs": [
    {
     "data": {
      "text/html": [
       "<div>\n",
       "<style scoped>\n",
       "    .dataframe tbody tr th:only-of-type {\n",
       "        vertical-align: middle;\n",
       "    }\n",
       "\n",
       "    .dataframe tbody tr th {\n",
       "        vertical-align: top;\n",
       "    }\n",
       "\n",
       "    .dataframe thead th {\n",
       "        text-align: right;\n",
       "    }\n",
       "</style>\n",
       "<table border=\"1\" class=\"dataframe\">\n",
       "  <thead>\n",
       "    <tr style=\"text-align: right;\">\n",
       "      <th>Date</th>\n",
       "      <th>2021-11-17</th>\n",
       "      <th>2021-11-18</th>\n",
       "      <th>2021-11-19</th>\n",
       "    </tr>\n",
       "    <tr>\n",
       "      <th>Salesperson</th>\n",
       "      <th></th>\n",
       "      <th></th>\n",
       "      <th></th>\n",
       "    </tr>\n",
       "  </thead>\n",
       "  <tbody>\n",
       "    <tr>\n",
       "      <th>Bob</th>\n",
       "      <td>200</td>\n",
       "      <td>210</td>\n",
       "      <td>140</td>\n",
       "    </tr>\n",
       "    <tr>\n",
       "      <th>Dave</th>\n",
       "      <td>40</td>\n",
       "      <td>30</td>\n",
       "      <td>40</td>\n",
       "    </tr>\n",
       "    <tr>\n",
       "      <th>Sally</th>\n",
       "      <td>0</td>\n",
       "      <td>10</td>\n",
       "      <td>390</td>\n",
       "    </tr>\n",
       "  </tbody>\n",
       "</table>\n",
       "</div>"
      ],
      "text/plain": [
       "Date         2021-11-17  2021-11-18  2021-11-19\n",
       "Salesperson                                    \n",
       "Bob                 200         210         140\n",
       "Dave                 40          30          40\n",
       "Sally                 0          10         390"
      ]
     },
     "execution_count": 52,
     "metadata": {},
     "output_type": "execute_result"
    }
   ],
   "source": [
    "# We can also pivot the other way with salesperson as the index\n",
    "df_dates.pivot(index=\"Salesperson\", columns=\"Date\", values=\"Sales\")"
   ]
  },
  {
   "cell_type": "markdown",
   "id": "b7787d32",
   "metadata": {},
   "source": [
    "# 36. Head and Tail"
   ]
  },
  {
   "cell_type": "markdown",
   "id": "548c2888",
   "metadata": {},
   "source": [
    "- head(n) and tail(n) give you the n highest and n lowest totals"
   ]
  },
  {
   "cell_type": "code",
   "execution_count": 53,
   "id": "6a98781d",
   "metadata": {},
   "outputs": [
    {
     "data": {
      "text/html": [
       "<div>\n",
       "<style scoped>\n",
       "    .dataframe tbody tr th:only-of-type {\n",
       "        vertical-align: middle;\n",
       "    }\n",
       "\n",
       "    .dataframe tbody tr th {\n",
       "        vertical-align: top;\n",
       "    }\n",
       "\n",
       "    .dataframe thead th {\n",
       "        text-align: right;\n",
       "    }\n",
       "</style>\n",
       "<table border=\"1\" class=\"dataframe\">\n",
       "  <thead>\n",
       "    <tr style=\"text-align: right;\">\n",
       "      <th></th>\n",
       "      <th>Payment Type</th>\n",
       "      <th>Membership Level</th>\n",
       "      <th>Department</th>\n",
       "      <th>Sales Total</th>\n",
       "    </tr>\n",
       "  </thead>\n",
       "  <tbody>\n",
       "    <tr>\n",
       "      <th>0</th>\n",
       "      <td>Credit Card</td>\n",
       "      <td>Member</td>\n",
       "      <td>Technology</td>\n",
       "      <td>200</td>\n",
       "    </tr>\n",
       "    <tr>\n",
       "      <th>1</th>\n",
       "      <td>Gift Card</td>\n",
       "      <td>Normal</td>\n",
       "      <td>Health and Beauty</td>\n",
       "      <td>100</td>\n",
       "    </tr>\n",
       "    <tr>\n",
       "      <th>2</th>\n",
       "      <td>Cash</td>\n",
       "      <td>Normal</td>\n",
       "      <td>Technology</td>\n",
       "      <td>120</td>\n",
       "    </tr>\n",
       "    <tr>\n",
       "      <th>3</th>\n",
       "      <td>Credit Card</td>\n",
       "      <td>Normal</td>\n",
       "      <td>Technology</td>\n",
       "      <td>300</td>\n",
       "    </tr>\n",
       "    <tr>\n",
       "      <th>4</th>\n",
       "      <td>Credit Card</td>\n",
       "      <td>Member</td>\n",
       "      <td>Health and Beauty</td>\n",
       "      <td>200</td>\n",
       "    </tr>\n",
       "    <tr>\n",
       "      <th>5</th>\n",
       "      <td>Gift Card</td>\n",
       "      <td>Member</td>\n",
       "      <td>Health and Beauty</td>\n",
       "      <td>100</td>\n",
       "    </tr>\n",
       "    <tr>\n",
       "      <th>6</th>\n",
       "      <td>Credit Card</td>\n",
       "      <td>Normal</td>\n",
       "      <td>Garden</td>\n",
       "      <td>100</td>\n",
       "    </tr>\n",
       "    <tr>\n",
       "      <th>7</th>\n",
       "      <td>Cash</td>\n",
       "      <td>Member</td>\n",
       "      <td>Health and Beauty</td>\n",
       "      <td>50</td>\n",
       "    </tr>\n",
       "    <tr>\n",
       "      <th>8</th>\n",
       "      <td>Credit Card</td>\n",
       "      <td>Normal</td>\n",
       "      <td>Garden</td>\n",
       "      <td>60</td>\n",
       "    </tr>\n",
       "    <tr>\n",
       "      <th>9</th>\n",
       "      <td>Gift Card</td>\n",
       "      <td>Member</td>\n",
       "      <td>Technology</td>\n",
       "      <td>120</td>\n",
       "    </tr>\n",
       "    <tr>\n",
       "      <th>10</th>\n",
       "      <td>Cash</td>\n",
       "      <td>Normal</td>\n",
       "      <td>Technology</td>\n",
       "      <td>30</td>\n",
       "    </tr>\n",
       "    <tr>\n",
       "      <th>11</th>\n",
       "      <td>Gift Card</td>\n",
       "      <td>Deluxe</td>\n",
       "      <td>Health and Beauty</td>\n",
       "      <td>300</td>\n",
       "    </tr>\n",
       "  </tbody>\n",
       "</table>\n",
       "</div>"
      ],
      "text/plain": [
       "   Payment Type Membership Level         Department  Sales Total\n",
       "0   Credit Card           Member         Technology          200\n",
       "1     Gift Card           Normal  Health and Beauty          100\n",
       "2          Cash           Normal         Technology          120\n",
       "3   Credit Card           Normal         Technology          300\n",
       "4   Credit Card           Member  Health and Beauty          200\n",
       "5     Gift Card           Member  Health and Beauty          100\n",
       "6   Credit Card           Normal             Garden          100\n",
       "7          Cash           Member  Health and Beauty           50\n",
       "8   Credit Card           Normal             Garden           60\n",
       "9     Gift Card           Member         Technology          120\n",
       "10         Cash           Normal         Technology           30\n",
       "11    Gift Card           Deluxe  Health and Beauty          300"
      ]
     },
     "execution_count": 53,
     "metadata": {},
     "output_type": "execute_result"
    }
   ],
   "source": [
    "sales_data = [\n",
    "    [\"Credit Card\",\"Member\",\"Technology\",200,],\n",
    "    [\"Gift Card\",\"Normal\",\"Health and Beauty\",100],\n",
    "    [\"Cash\",\"Normal\",\"Technology\",120],\n",
    "    [\"Credit Card\",\"Normal\",\"Technology\",300],\n",
    "    [\"Credit Card\",\"Member\",\"Health and Beauty\",200],\n",
    "    [\"Gift Card\",\"Member\",\"Health and Beauty\",100],\n",
    "    [\"Credit Card\",\"Normal\",\"Garden\",100],\n",
    "    [\"Cash\",\"Member\",\"Health and Beauty\",50],\n",
    "    [\"Credit Card\",\"Normal\",\"Garden\",60],\n",
    "    [\"Gift Card\",\"Member\",\"Technology\",120],\n",
    "    [\"Cash\",\"Normal\",\"Technology\",30],\n",
    "    [\"Gift Card\",\"Deluxe\",\"Health and Beauty\",300]\n",
    "]\n",
    "df_sales_data = pd.DataFrame(sales_data, columns=[\"Payment Type\",\"Membership Level\",\"Department\",\"Sales Total\"])\n",
    "df_sales_data"
   ]
  },
  {
   "cell_type": "code",
   "execution_count": 54,
   "id": "471e02b6",
   "metadata": {},
   "outputs": [
    {
     "data": {
      "text/html": [
       "<div>\n",
       "<style scoped>\n",
       "    .dataframe tbody tr th:only-of-type {\n",
       "        vertical-align: middle;\n",
       "    }\n",
       "\n",
       "    .dataframe tbody tr th {\n",
       "        vertical-align: top;\n",
       "    }\n",
       "\n",
       "    .dataframe thead th {\n",
       "        text-align: right;\n",
       "    }\n",
       "</style>\n",
       "<table border=\"1\" class=\"dataframe\">\n",
       "  <thead>\n",
       "    <tr style=\"text-align: right;\">\n",
       "      <th></th>\n",
       "      <th>Payment Type</th>\n",
       "      <th>Membership Level</th>\n",
       "      <th>Department</th>\n",
       "      <th>Sales Total</th>\n",
       "    </tr>\n",
       "  </thead>\n",
       "  <tbody>\n",
       "    <tr>\n",
       "      <th>3</th>\n",
       "      <td>Credit Card</td>\n",
       "      <td>Normal</td>\n",
       "      <td>Technology</td>\n",
       "      <td>300</td>\n",
       "    </tr>\n",
       "    <tr>\n",
       "      <th>11</th>\n",
       "      <td>Gift Card</td>\n",
       "      <td>Deluxe</td>\n",
       "      <td>Health and Beauty</td>\n",
       "      <td>300</td>\n",
       "    </tr>\n",
       "    <tr>\n",
       "      <th>0</th>\n",
       "      <td>Credit Card</td>\n",
       "      <td>Member</td>\n",
       "      <td>Technology</td>\n",
       "      <td>200</td>\n",
       "    </tr>\n",
       "  </tbody>\n",
       "</table>\n",
       "</div>"
      ],
      "text/plain": [
       "   Payment Type Membership Level         Department  Sales Total\n",
       "3   Credit Card           Normal         Technology          300\n",
       "11    Gift Card           Deluxe  Health and Beauty          300\n",
       "0   Credit Card           Member         Technology          200"
      ]
     },
     "execution_count": 54,
     "metadata": {},
     "output_type": "execute_result"
    }
   ],
   "source": [
    "# Sort data\n",
    "df_sales_data.sort_values(by=\"Sales Total\", ascending=False, inplace=True)\n",
    "# 3 highest transactions\n",
    "df_sales_data.head(3)"
   ]
  },
  {
   "cell_type": "code",
   "execution_count": 55,
   "id": "582405c7",
   "metadata": {},
   "outputs": [
    {
     "data": {
      "text/html": [
       "<div>\n",
       "<style scoped>\n",
       "    .dataframe tbody tr th:only-of-type {\n",
       "        vertical-align: middle;\n",
       "    }\n",
       "\n",
       "    .dataframe tbody tr th {\n",
       "        vertical-align: top;\n",
       "    }\n",
       "\n",
       "    .dataframe thead th {\n",
       "        text-align: right;\n",
       "    }\n",
       "</style>\n",
       "<table border=\"1\" class=\"dataframe\">\n",
       "  <thead>\n",
       "    <tr style=\"text-align: right;\">\n",
       "      <th></th>\n",
       "      <th>Payment Type</th>\n",
       "      <th>Membership Level</th>\n",
       "      <th>Department</th>\n",
       "      <th>Sales Total</th>\n",
       "    </tr>\n",
       "  </thead>\n",
       "  <tbody>\n",
       "    <tr>\n",
       "      <th>8</th>\n",
       "      <td>Credit Card</td>\n",
       "      <td>Normal</td>\n",
       "      <td>Garden</td>\n",
       "      <td>60</td>\n",
       "    </tr>\n",
       "    <tr>\n",
       "      <th>7</th>\n",
       "      <td>Cash</td>\n",
       "      <td>Member</td>\n",
       "      <td>Health and Beauty</td>\n",
       "      <td>50</td>\n",
       "    </tr>\n",
       "    <tr>\n",
       "      <th>10</th>\n",
       "      <td>Cash</td>\n",
       "      <td>Normal</td>\n",
       "      <td>Technology</td>\n",
       "      <td>30</td>\n",
       "    </tr>\n",
       "  </tbody>\n",
       "</table>\n",
       "</div>"
      ],
      "text/plain": [
       "   Payment Type Membership Level         Department  Sales Total\n",
       "8   Credit Card           Normal             Garden           60\n",
       "7          Cash           Member  Health and Beauty           50\n",
       "10         Cash           Normal         Technology           30"
      ]
     },
     "execution_count": 55,
     "metadata": {},
     "output_type": "execute_result"
    }
   ],
   "source": [
    "# 3 lowest transactions\n",
    "df_sales_data.tail(3)"
   ]
  },
  {
   "cell_type": "markdown",
   "id": "071bffef",
   "metadata": {},
   "source": [
    "# 37. Pivot - PIVOT_TABLE() - aggregated functions"
   ]
  },
  {
   "cell_type": "markdown",
   "id": "84d53d13",
   "metadata": {},
   "source": [
    "- You can specify an aggreagate function easily in pandas pivot tables for analysis."
   ]
  },
  {
   "cell_type": "code",
   "execution_count": 56,
   "id": "48139343",
   "metadata": {},
   "outputs": [
    {
     "data": {
      "text/html": [
       "<div>\n",
       "<style scoped>\n",
       "    .dataframe tbody tr th:only-of-type {\n",
       "        vertical-align: middle;\n",
       "    }\n",
       "\n",
       "    .dataframe tbody tr th {\n",
       "        vertical-align: top;\n",
       "    }\n",
       "\n",
       "    .dataframe thead th {\n",
       "        text-align: right;\n",
       "    }\n",
       "</style>\n",
       "<table border=\"1\" class=\"dataframe\">\n",
       "  <thead>\n",
       "    <tr style=\"text-align: right;\">\n",
       "      <th></th>\n",
       "      <th>Sales Total</th>\n",
       "    </tr>\n",
       "    <tr>\n",
       "      <th>Payment Type</th>\n",
       "      <th></th>\n",
       "    </tr>\n",
       "  </thead>\n",
       "  <tbody>\n",
       "    <tr>\n",
       "      <th>Credit Card</th>\n",
       "      <td>860</td>\n",
       "    </tr>\n",
       "    <tr>\n",
       "      <th>Gift Card</th>\n",
       "      <td>620</td>\n",
       "    </tr>\n",
       "    <tr>\n",
       "      <th>Cash</th>\n",
       "      <td>200</td>\n",
       "    </tr>\n",
       "  </tbody>\n",
       "</table>\n",
       "</div>"
      ],
      "text/plain": [
       "              Sales Total\n",
       "Payment Type             \n",
       "Credit Card           860\n",
       "Gift Card             620\n",
       "Cash                  200"
      ]
     },
     "execution_count": 56,
     "metadata": {},
     "output_type": "execute_result"
    }
   ],
   "source": [
    "# Payment type totals sorted\n",
    "df_sales_data.pivot_table(index=[\"Payment Type\"],values=[\"Sales Total\"],aggfunc=\"sum\").sort_values(by=\"Sales Total\", ascending=False)"
   ]
  },
  {
   "cell_type": "code",
   "execution_count": 57,
   "id": "09fd2c98",
   "metadata": {},
   "outputs": [
    {
     "data": {
      "text/html": [
       "<div>\n",
       "<style scoped>\n",
       "    .dataframe tbody tr th:only-of-type {\n",
       "        vertical-align: middle;\n",
       "    }\n",
       "\n",
       "    .dataframe tbody tr th {\n",
       "        vertical-align: top;\n",
       "    }\n",
       "\n",
       "    .dataframe thead th {\n",
       "        text-align: right;\n",
       "    }\n",
       "</style>\n",
       "<table border=\"1\" class=\"dataframe\">\n",
       "  <thead>\n",
       "    <tr style=\"text-align: right;\">\n",
       "      <th></th>\n",
       "      <th>Sales Total</th>\n",
       "    </tr>\n",
       "    <tr>\n",
       "      <th>Department</th>\n",
       "      <th></th>\n",
       "    </tr>\n",
       "  </thead>\n",
       "  <tbody>\n",
       "    <tr>\n",
       "      <th>Technology</th>\n",
       "      <td>770</td>\n",
       "    </tr>\n",
       "  </tbody>\n",
       "</table>\n",
       "</div>"
      ],
      "text/plain": [
       "            Sales Total\n",
       "Department             \n",
       "Technology          770"
      ]
     },
     "execution_count": 57,
     "metadata": {},
     "output_type": "execute_result"
    }
   ],
   "source": [
    "# Departments by sales - get top performing department\n",
    "df_top_dept = df_sales_data.pivot_table(index=[\"Department\"], values=[\"Sales Total\"], aggfunc=\"sum\").sort_values(by=\"Sales Total\",ascending=False)\n",
    "df_top_dept.head(1)"
   ]
  },
  {
   "cell_type": "code",
   "execution_count": 58,
   "id": "ada91a4d",
   "metadata": {},
   "outputs": [
    {
     "data": {
      "text/html": [
       "<div>\n",
       "<style scoped>\n",
       "    .dataframe tbody tr th:only-of-type {\n",
       "        vertical-align: middle;\n",
       "    }\n",
       "\n",
       "    .dataframe tbody tr th {\n",
       "        vertical-align: top;\n",
       "    }\n",
       "\n",
       "    .dataframe thead tr th {\n",
       "        text-align: left;\n",
       "    }\n",
       "\n",
       "    .dataframe thead tr:last-of-type th {\n",
       "        text-align: right;\n",
       "    }\n",
       "</style>\n",
       "<table border=\"1\" class=\"dataframe\">\n",
       "  <thead>\n",
       "    <tr>\n",
       "      <th></th>\n",
       "      <th colspan=\"3\" halign=\"left\">Sales Total</th>\n",
       "    </tr>\n",
       "    <tr>\n",
       "      <th>Payment Type</th>\n",
       "      <th>Cash</th>\n",
       "      <th>Credit Card</th>\n",
       "      <th>Gift Card</th>\n",
       "    </tr>\n",
       "    <tr>\n",
       "      <th>Department</th>\n",
       "      <th></th>\n",
       "      <th></th>\n",
       "      <th></th>\n",
       "    </tr>\n",
       "  </thead>\n",
       "  <tbody>\n",
       "    <tr>\n",
       "      <th>Garden</th>\n",
       "      <td>NaN</td>\n",
       "      <td>160.0</td>\n",
       "      <td>NaN</td>\n",
       "    </tr>\n",
       "    <tr>\n",
       "      <th>Health and Beauty</th>\n",
       "      <td>50.0</td>\n",
       "      <td>200.0</td>\n",
       "      <td>500.0</td>\n",
       "    </tr>\n",
       "    <tr>\n",
       "      <th>Technology</th>\n",
       "      <td>150.0</td>\n",
       "      <td>500.0</td>\n",
       "      <td>120.0</td>\n",
       "    </tr>\n",
       "  </tbody>\n",
       "</table>\n",
       "</div>"
      ],
      "text/plain": [
       "                  Sales Total                      \n",
       "Payment Type             Cash Credit Card Gift Card\n",
       "Department                                         \n",
       "Garden                    NaN       160.0       NaN\n",
       "Health and Beauty        50.0       200.0     500.0\n",
       "Technology              150.0       500.0     120.0"
      ]
     },
     "execution_count": 58,
     "metadata": {},
     "output_type": "execute_result"
    }
   ],
   "source": [
    "# Combining groups of results\n",
    "# Here we get the results based on department and payment type\n",
    "by_dept_payment_type = df_sales_data.pivot_table(index=[\"Department\"],columns=[\"Payment Type\"],values=[\"Sales Total\"],aggfunc=sum)\n",
    "by_dept_payment_type"
   ]
  },
  {
   "cell_type": "markdown",
   "id": "22e3798d",
   "metadata": {},
   "source": [
    "- The above result has NaN where 0 sales were made in a department... so we can use fillna() again to tidy the results.\n",
    "- We also want to return the totals as ints instead of floats..."
   ]
  },
  {
   "cell_type": "code",
   "execution_count": 59,
   "id": "3e826152",
   "metadata": {},
   "outputs": [
    {
     "data": {
      "text/html": [
       "<div>\n",
       "<style scoped>\n",
       "    .dataframe tbody tr th:only-of-type {\n",
       "        vertical-align: middle;\n",
       "    }\n",
       "\n",
       "    .dataframe tbody tr th {\n",
       "        vertical-align: top;\n",
       "    }\n",
       "\n",
       "    .dataframe thead tr th {\n",
       "        text-align: left;\n",
       "    }\n",
       "\n",
       "    .dataframe thead tr:last-of-type th {\n",
       "        text-align: right;\n",
       "    }\n",
       "</style>\n",
       "<table border=\"1\" class=\"dataframe\">\n",
       "  <thead>\n",
       "    <tr>\n",
       "      <th></th>\n",
       "      <th colspan=\"3\" halign=\"left\">Sales Total</th>\n",
       "    </tr>\n",
       "    <tr>\n",
       "      <th>Payment Type</th>\n",
       "      <th>Cash</th>\n",
       "      <th>Credit Card</th>\n",
       "      <th>Gift Card</th>\n",
       "    </tr>\n",
       "    <tr>\n",
       "      <th>Department</th>\n",
       "      <th></th>\n",
       "      <th></th>\n",
       "      <th></th>\n",
       "    </tr>\n",
       "  </thead>\n",
       "  <tbody>\n",
       "    <tr>\n",
       "      <th>Garden</th>\n",
       "      <td>0</td>\n",
       "      <td>160</td>\n",
       "      <td>0</td>\n",
       "    </tr>\n",
       "    <tr>\n",
       "      <th>Health and Beauty</th>\n",
       "      <td>50</td>\n",
       "      <td>200</td>\n",
       "      <td>500</td>\n",
       "    </tr>\n",
       "    <tr>\n",
       "      <th>Technology</th>\n",
       "      <td>150</td>\n",
       "      <td>500</td>\n",
       "      <td>120</td>\n",
       "    </tr>\n",
       "  </tbody>\n",
       "</table>\n",
       "</div>"
      ],
      "text/plain": [
       "                  Sales Total                      \n",
       "Payment Type             Cash Credit Card Gift Card\n",
       "Department                                         \n",
       "Garden                      0         160         0\n",
       "Health and Beauty          50         200       500\n",
       "Technology                150         500       120"
      ]
     },
     "execution_count": 59,
     "metadata": {},
     "output_type": "execute_result"
    }
   ],
   "source": [
    "by_dept_payment_type.fillna(0, inplace=True)\n",
    "by_dept_payment_type[\"Sales Total\"] = by_dept_payment_type[\"Sales Total\"].astype(int)\n",
    "by_dept_payment_type"
   ]
  },
  {
   "cell_type": "markdown",
   "id": "105d06fc",
   "metadata": {},
   "source": [
    "# 38. Pivot table percentages - FLOAT to 2 decimal places"
   ]
  },
  {
   "cell_type": "markdown",
   "id": "9610b50d",
   "metadata": {},
   "source": [
    "- Here we create a pivot table to see how much each payment type accounted for.\n",
    "- Then we create a column calculating percentage of sales and rounding down and converting to a string."
   ]
  },
  {
   "cell_type": "code",
   "execution_count": 60,
   "id": "d98a0ca7",
   "metadata": {},
   "outputs": [
    {
     "data": {
      "text/html": [
       "<div>\n",
       "<style scoped>\n",
       "    .dataframe tbody tr th:only-of-type {\n",
       "        vertical-align: middle;\n",
       "    }\n",
       "\n",
       "    .dataframe tbody tr th {\n",
       "        vertical-align: top;\n",
       "    }\n",
       "\n",
       "    .dataframe thead th {\n",
       "        text-align: right;\n",
       "    }\n",
       "</style>\n",
       "<table border=\"1\" class=\"dataframe\">\n",
       "  <thead>\n",
       "    <tr style=\"text-align: right;\">\n",
       "      <th></th>\n",
       "      <th>Sales Total</th>\n",
       "    </tr>\n",
       "    <tr>\n",
       "      <th>Membership Level</th>\n",
       "      <th></th>\n",
       "    </tr>\n",
       "  </thead>\n",
       "  <tbody>\n",
       "    <tr>\n",
       "      <th>Normal</th>\n",
       "      <td>710</td>\n",
       "    </tr>\n",
       "    <tr>\n",
       "      <th>Member</th>\n",
       "      <td>670</td>\n",
       "    </tr>\n",
       "    <tr>\n",
       "      <th>Deluxe</th>\n",
       "      <td>300</td>\n",
       "    </tr>\n",
       "  </tbody>\n",
       "</table>\n",
       "</div>"
      ],
      "text/plain": [
       "                  Sales Total\n",
       "Membership Level             \n",
       "Normal                    710\n",
       "Member                    670\n",
       "Deluxe                    300"
      ]
     },
     "execution_count": 60,
     "metadata": {},
     "output_type": "execute_result"
    }
   ],
   "source": [
    "df_membership_level = df_sales_data.pivot_table(index=[\"Membership Level\"],values=[\"Sales Total\"],aggfunc=\"sum\").sort_values(by=\"Sales Total\", ascending=False)\n",
    "df_membership_level"
   ]
  },
  {
   "cell_type": "code",
   "execution_count": 61,
   "id": "43aa5e38",
   "metadata": {},
   "outputs": [
    {
     "data": {
      "text/html": [
       "<div>\n",
       "<style scoped>\n",
       "    .dataframe tbody tr th:only-of-type {\n",
       "        vertical-align: middle;\n",
       "    }\n",
       "\n",
       "    .dataframe tbody tr th {\n",
       "        vertical-align: top;\n",
       "    }\n",
       "\n",
       "    .dataframe thead th {\n",
       "        text-align: right;\n",
       "    }\n",
       "</style>\n",
       "<table border=\"1\" class=\"dataframe\">\n",
       "  <thead>\n",
       "    <tr style=\"text-align: right;\">\n",
       "      <th></th>\n",
       "      <th>Sales Total</th>\n",
       "      <th>Percentage of sales</th>\n",
       "    </tr>\n",
       "    <tr>\n",
       "      <th>Membership Level</th>\n",
       "      <th></th>\n",
       "      <th></th>\n",
       "    </tr>\n",
       "  </thead>\n",
       "  <tbody>\n",
       "    <tr>\n",
       "      <th>Normal</th>\n",
       "      <td>710</td>\n",
       "      <td>42.26 %</td>\n",
       "    </tr>\n",
       "    <tr>\n",
       "      <th>Member</th>\n",
       "      <td>670</td>\n",
       "      <td>39.88 %</td>\n",
       "    </tr>\n",
       "    <tr>\n",
       "      <th>Deluxe</th>\n",
       "      <td>300</td>\n",
       "      <td>17.86 %</td>\n",
       "    </tr>\n",
       "  </tbody>\n",
       "</table>\n",
       "</div>"
      ],
      "text/plain": [
       "                  Sales Total Percentage of sales\n",
       "Membership Level                                 \n",
       "Normal                    710             42.26 %\n",
       "Member                    670             39.88 %\n",
       "Deluxe                    300             17.86 %"
      ]
     },
     "execution_count": 61,
     "metadata": {},
     "output_type": "execute_result"
    }
   ],
   "source": [
    "# Create a new column with a percentage of sales \n",
    "df_membership_level['Percentage of sales'] = round((df_membership_level['Sales Total'] / df_membership_level['Sales Total'].sum() * 100),2).astype(str) + \" %\"\n",
    "df_membership_level"
   ]
  },
  {
   "cell_type": "markdown",
   "id": "1c987728",
   "metadata": {},
   "source": [
    "# 39. openpyxl - save dataframes to different Excel workbook sheets"
   ]
  },
  {
   "cell_type": "markdown",
   "id": "b6bced68",
   "metadata": {},
   "source": [
    "- Here we will save 2 dataframes to 2 separate sheets in zan Excel workbook.\n",
    "- With openpyxl you can use the dataframe_to_rows function to copy a dataframe to a new sheet"
   ]
  },
  {
   "cell_type": "code",
   "execution_count": 62,
   "id": "5b6563ae",
   "metadata": {},
   "outputs": [],
   "source": [
    "# Create a workbook\n",
    "wb = Workbook()"
   ]
  },
  {
   "cell_type": "code",
   "execution_count": 63,
   "id": "b5827567",
   "metadata": {},
   "outputs": [],
   "source": [
    "# Create a new sheet\n",
    "department_and_payment_type = wb.create_sheet(title=\"Department and Payment Type\")"
   ]
  },
  {
   "cell_type": "code",
   "execution_count": 64,
   "id": "6d48f120",
   "metadata": {},
   "outputs": [],
   "source": [
    "# Here we append rows from the 'by_dept_payment_type' dataframe to the excel sheet\n",
    "for r in dataframe_to_rows(by_dept_payment_type, index=True, header=False):\n",
    "    department_and_payment_type.append(r)"
   ]
  },
  {
   "cell_type": "code",
   "execution_count": 65,
   "id": "5b29a368",
   "metadata": {},
   "outputs": [],
   "source": [
    "# Create a new sheet\n",
    "membership_level_sales_percentage = wb.create_sheet(title=\"Membership Sales Percentage\")"
   ]
  },
  {
   "cell_type": "code",
   "execution_count": 66,
   "id": "28a7505e",
   "metadata": {},
   "outputs": [],
   "source": [
    "# Here we append rows from the 'by_dept_payment_type' dataframe to the excel sheet\n",
    "for r in dataframe_to_rows(df_membership_level, index=True, header=False):\n",
    "    membership_level_sales_percentage.append(r)"
   ]
  },
  {
   "cell_type": "markdown",
   "id": "b140c664",
   "metadata": {},
   "source": [
    "- Finally, save the workbook as a workbook named 'sales_analysis.xlsx'.  The workbook should have the 2 dataframes above saved into the 2 sheets named above."
   ]
  },
  {
   "cell_type": "code",
   "execution_count": 67,
   "id": "37f12ff4",
   "metadata": {},
   "outputs": [],
   "source": [
    "wb.save(\"sales_analysis.xlsx\")"
   ]
  }
 ],
 "metadata": {
  "kernelspec": {
   "display_name": "Python 3 (ipykernel)",
   "language": "python",
   "name": "python3"
  },
  "language_info": {
   "codemirror_mode": {
    "name": "ipython",
    "version": 3
   },
   "file_extension": ".py",
   "mimetype": "text/x-python",
   "name": "python",
   "nbconvert_exporter": "python",
   "pygments_lexer": "ipython3",
   "version": "3.9.7"
  }
 },
 "nbformat": 4,
 "nbformat_minor": 5
}
