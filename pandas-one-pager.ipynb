{
 "cells": [
  {
   "cell_type": "code",
   "execution_count": 1,
   "id": "dbe847c2",
   "metadata": {},
   "outputs": [],
   "source": [
    "import pandas as pd\n",
    "from datetime import datetime"
   ]
  },
  {
   "cell_type": "markdown",
   "id": "02cd3db1",
   "metadata": {},
   "source": [
    "# Data Frame - Creation with a Dictionary\n",
    "When using a dictionary to create a dataframe, the key becomes a column name. The array assigned to each key is the column data."
   ]
  },
  {
   "cell_type": "code",
   "execution_count": 2,
   "id": "132bb5ae",
   "metadata": {},
   "outputs": [
    {
     "data": {
      "text/html": [
       "<div>\n",
       "<style scoped>\n",
       "    .dataframe tbody tr th:only-of-type {\n",
       "        vertical-align: middle;\n",
       "    }\n",
       "\n",
       "    .dataframe tbody tr th {\n",
       "        vertical-align: top;\n",
       "    }\n",
       "\n",
       "    .dataframe thead th {\n",
       "        text-align: right;\n",
       "    }\n",
       "</style>\n",
       "<table border=\"1\" class=\"dataframe\">\n",
       "  <thead>\n",
       "    <tr style=\"text-align: right;\">\n",
       "      <th></th>\n",
       "      <th>cities</th>\n",
       "      <th>population</th>\n",
       "    </tr>\n",
       "  </thead>\n",
       "  <tbody>\n",
       "    <tr>\n",
       "      <th>0</th>\n",
       "      <td>Istanbul</td>\n",
       "      <td>15000000</td>\n",
       "    </tr>\n",
       "    <tr>\n",
       "      <th>1</th>\n",
       "      <td>Moscow</td>\n",
       "      <td>12000000</td>\n",
       "    </tr>\n",
       "    <tr>\n",
       "      <th>2</th>\n",
       "      <td>Paris</td>\n",
       "      <td>11000000</td>\n",
       "    </tr>\n",
       "    <tr>\n",
       "      <th>3</th>\n",
       "      <td>London</td>\n",
       "      <td>9000000</td>\n",
       "    </tr>\n",
       "    <tr>\n",
       "      <th>4</th>\n",
       "      <td>Madrid</td>\n",
       "      <td>6000000</td>\n",
       "    </tr>\n",
       "  </tbody>\n",
       "</table>\n",
       "</div>"
      ],
      "text/plain": [
       "     cities  population\n",
       "0  Istanbul    15000000\n",
       "1    Moscow    12000000\n",
       "2     Paris    11000000\n",
       "3    London     9000000\n",
       "4    Madrid     6000000"
      ]
     },
     "execution_count": 2,
     "metadata": {},
     "output_type": "execute_result"
    }
   ],
   "source": [
    "european_cities = {\n",
    "    \"cities\":[\"Istanbul\",\"Moscow\",\"Paris\",\"London\",\"Madrid\"],\n",
    "    \"population\":[15000000,12000000,11000000,9000000,6000000]\n",
    "}\n",
    "df = pd.DataFrame(european_cities)\n",
    "df"
   ]
  },
  {
   "cell_type": "markdown",
   "id": "b7f3f7f2",
   "metadata": {},
   "source": [
    "# Date Frame - Creation from a list of lists"
   ]
  },
  {
   "cell_type": "code",
   "execution_count": 3,
   "id": "5ca33fef",
   "metadata": {},
   "outputs": [
    {
     "data": {
      "text/html": [
       "<div>\n",
       "<style scoped>\n",
       "    .dataframe tbody tr th:only-of-type {\n",
       "        vertical-align: middle;\n",
       "    }\n",
       "\n",
       "    .dataframe tbody tr th {\n",
       "        vertical-align: top;\n",
       "    }\n",
       "\n",
       "    .dataframe thead th {\n",
       "        text-align: right;\n",
       "    }\n",
       "</style>\n",
       "<table border=\"1\" class=\"dataframe\">\n",
       "  <thead>\n",
       "    <tr style=\"text-align: right;\">\n",
       "      <th></th>\n",
       "      <th>cities</th>\n",
       "      <th>population</th>\n",
       "    </tr>\n",
       "  </thead>\n",
       "  <tbody>\n",
       "    <tr>\n",
       "      <th>0</th>\n",
       "      <td>Istanbul</td>\n",
       "      <td>15000000</td>\n",
       "    </tr>\n",
       "    <tr>\n",
       "      <th>1</th>\n",
       "      <td>Moscow</td>\n",
       "      <td>12000000</td>\n",
       "    </tr>\n",
       "    <tr>\n",
       "      <th>2</th>\n",
       "      <td>Paris</td>\n",
       "      <td>11000000</td>\n",
       "    </tr>\n",
       "    <tr>\n",
       "      <th>3</th>\n",
       "      <td>London</td>\n",
       "      <td>9000000</td>\n",
       "    </tr>\n",
       "    <tr>\n",
       "      <th>4</th>\n",
       "      <td>Madrid</td>\n",
       "      <td>6000000</td>\n",
       "    </tr>\n",
       "  </tbody>\n",
       "</table>\n",
       "</div>"
      ],
      "text/plain": [
       "     cities  population\n",
       "0  Istanbul    15000000\n",
       "1    Moscow    12000000\n",
       "2     Paris    11000000\n",
       "3    London     9000000\n",
       "4    Madrid     6000000"
      ]
     },
     "execution_count": 3,
     "metadata": {},
     "output_type": "execute_result"
    }
   ],
   "source": [
    "european_cities_list = [\n",
    "    [\"Istanbul\",15000000],\n",
    "    [\"Moscow\",12000000],\n",
    "    [\"Paris\",11000000],\n",
    "    [\"London\",9000000],\n",
    "    [\"Madrid\",6000000]\n",
    "]\n",
    "df = pd.DataFrame(european_cities_list, columns=[\"cities\",\"population\"])\n",
    "df"
   ]
  },
  {
   "cell_type": "markdown",
   "id": "d7d9c47d",
   "metadata": {},
   "source": [
    "# Data Frame - Creation from a list of lists - with unique Index\n",
    "You can setup the dataframe to have a unique index instead of an auto incremented number."
   ]
  },
  {
   "cell_type": "code",
   "execution_count": 4,
   "id": "bebfd061",
   "metadata": {},
   "outputs": [
    {
     "data": {
      "text/html": [
       "<div>\n",
       "<style scoped>\n",
       "    .dataframe tbody tr th:only-of-type {\n",
       "        vertical-align: middle;\n",
       "    }\n",
       "\n",
       "    .dataframe tbody tr th {\n",
       "        vertical-align: top;\n",
       "    }\n",
       "\n",
       "    .dataframe thead th {\n",
       "        text-align: right;\n",
       "    }\n",
       "</style>\n",
       "<table border=\"1\" class=\"dataframe\">\n",
       "  <thead>\n",
       "    <tr style=\"text-align: right;\">\n",
       "      <th></th>\n",
       "      <th>population</th>\n",
       "    </tr>\n",
       "  </thead>\n",
       "  <tbody>\n",
       "    <tr>\n",
       "      <th>Istanbul</th>\n",
       "      <td>15000000</td>\n",
       "    </tr>\n",
       "    <tr>\n",
       "      <th>Moscow</th>\n",
       "      <td>12000000</td>\n",
       "    </tr>\n",
       "    <tr>\n",
       "      <th>Paris</th>\n",
       "      <td>11000000</td>\n",
       "    </tr>\n",
       "  </tbody>\n",
       "</table>\n",
       "</div>"
      ],
      "text/plain": [
       "          population\n",
       "Istanbul    15000000\n",
       "Moscow      12000000\n",
       "Paris       11000000"
      ]
     },
     "execution_count": 4,
     "metadata": {},
     "output_type": "execute_result"
    }
   ],
   "source": [
    "df_unq_index = pd.DataFrame(\n",
    "    [[15000000],[12000000],[11000000]], \n",
    "    index=['Istanbul','Moscow','Paris'], columns=['population'])\n",
    "df_unq_index"
   ]
  },
  {
   "cell_type": "markdown",
   "id": "5271969a",
   "metadata": {},
   "source": [
    "# Data Frame - Creation from a CSV or Excel spreadsheet"
   ]
  },
  {
   "cell_type": "markdown",
   "id": "df170507",
   "metadata": {},
   "source": [
    "- See below for more options working with Excel using openpyxl.\n",
    "- See 'Drop an Index from a dataframe when exporting' to drop an index when exporting to CSV or XLSX files."
   ]
  },
  {
   "cell_type": "code",
   "execution_count": 5,
   "id": "afe07ecb",
   "metadata": {},
   "outputs": [
    {
     "data": {
      "text/html": [
       "<div>\n",
       "<style scoped>\n",
       "    .dataframe tbody tr th:only-of-type {\n",
       "        vertical-align: middle;\n",
       "    }\n",
       "\n",
       "    .dataframe tbody tr th {\n",
       "        vertical-align: top;\n",
       "    }\n",
       "\n",
       "    .dataframe thead th {\n",
       "        text-align: right;\n",
       "    }\n",
       "</style>\n",
       "<table border=\"1\" class=\"dataframe\">\n",
       "  <thead>\n",
       "    <tr style=\"text-align: right;\">\n",
       "      <th></th>\n",
       "      <th>Unnamed: 0</th>\n",
       "      <th>cities</th>\n",
       "      <th>population</th>\n",
       "    </tr>\n",
       "  </thead>\n",
       "  <tbody>\n",
       "    <tr>\n",
       "      <th>0</th>\n",
       "      <td>0</td>\n",
       "      <td>Istanbul</td>\n",
       "      <td>15000000</td>\n",
       "    </tr>\n",
       "    <tr>\n",
       "      <th>1</th>\n",
       "      <td>1</td>\n",
       "      <td>Moscow</td>\n",
       "      <td>12000000</td>\n",
       "    </tr>\n",
       "    <tr>\n",
       "      <th>2</th>\n",
       "      <td>2</td>\n",
       "      <td>Paris</td>\n",
       "      <td>11000000</td>\n",
       "    </tr>\n",
       "    <tr>\n",
       "      <th>3</th>\n",
       "      <td>3</td>\n",
       "      <td>London</td>\n",
       "      <td>9000000</td>\n",
       "    </tr>\n",
       "    <tr>\n",
       "      <th>4</th>\n",
       "      <td>4</td>\n",
       "      <td>Madrid</td>\n",
       "      <td>6000000</td>\n",
       "    </tr>\n",
       "  </tbody>\n",
       "</table>\n",
       "</div>"
      ],
      "text/plain": [
       "   Unnamed: 0    cities  population\n",
       "0           0  Istanbul    15000000\n",
       "1           1    Moscow    12000000\n",
       "2           2     Paris    11000000\n",
       "3           3    London     9000000\n",
       "4           4    Madrid     6000000"
      ]
     },
     "execution_count": 5,
     "metadata": {},
     "output_type": "execute_result"
    }
   ],
   "source": [
    "# Save the population dataframe to a csv\n",
    "df.to_csv('populations.csv')\n",
    "# OPEN from a csv file\n",
    "df = pd.read_csv('populations.csv')\n",
    "df"
   ]
  },
  {
   "cell_type": "markdown",
   "id": "38b09330",
   "metadata": {},
   "source": [
    "# Data Types - exploring column data types"
   ]
  },
  {
   "cell_type": "markdown",
   "id": "06fdeab6",
   "metadata": {},
   "source": [
    "- Strings are classed as 'object'"
   ]
  },
  {
   "cell_type": "code",
   "execution_count": 6,
   "id": "1f7bec5c",
   "metadata": {},
   "outputs": [
    {
     "data": {
      "text/plain": [
       "Product                       object\n",
       "Price                          int64\n",
       "Discount                     float64\n",
       "In stock                        bool\n",
       "Next delivery date    datetime64[ns]\n",
       "dtype: object"
      ]
     },
     "execution_count": 6,
     "metadata": {},
     "output_type": "execute_result"
    }
   ],
   "source": [
    "df_food = pd.DataFrame(\n",
    "    [[\"Chicken\",3,14.5,False,datetime(2022,2,15)],[\"Carrots\",2,23.5,True,datetime(2022,2,15)],[\"Bread\",1,18,True,datetime(2022,2,15)]], \n",
    "    columns=[\"Product\",\"Price\",\"Discount\",\"In stock\",\"Next delivery date\"]\n",
    ")\n",
    "df_food.dtypes"
   ]
  },
  {
   "cell_type": "markdown",
   "id": "6b4f10b9",
   "metadata": {},
   "source": [
    "# Columns - Remove an unnecessary column"
   ]
  },
  {
   "cell_type": "markdown",
   "id": "394a5d8a",
   "metadata": {},
   "source": [
    "- See 'Index' below for how to drop an index when exporting to csv or xlsx files."
   ]
  },
  {
   "cell_type": "code",
   "execution_count": 7,
   "id": "91912c77",
   "metadata": {},
   "outputs": [
    {
     "data": {
      "text/html": [
       "<div>\n",
       "<style scoped>\n",
       "    .dataframe tbody tr th:only-of-type {\n",
       "        vertical-align: middle;\n",
       "    }\n",
       "\n",
       "    .dataframe tbody tr th {\n",
       "        vertical-align: top;\n",
       "    }\n",
       "\n",
       "    .dataframe thead th {\n",
       "        text-align: right;\n",
       "    }\n",
       "</style>\n",
       "<table border=\"1\" class=\"dataframe\">\n",
       "  <thead>\n",
       "    <tr style=\"text-align: right;\">\n",
       "      <th></th>\n",
       "      <th>cities</th>\n",
       "      <th>population</th>\n",
       "    </tr>\n",
       "  </thead>\n",
       "  <tbody>\n",
       "    <tr>\n",
       "      <th>0</th>\n",
       "      <td>Istanbul</td>\n",
       "      <td>15000000</td>\n",
       "    </tr>\n",
       "    <tr>\n",
       "      <th>1</th>\n",
       "      <td>Moscow</td>\n",
       "      <td>12000000</td>\n",
       "    </tr>\n",
       "    <tr>\n",
       "      <th>2</th>\n",
       "      <td>Paris</td>\n",
       "      <td>11000000</td>\n",
       "    </tr>\n",
       "    <tr>\n",
       "      <th>3</th>\n",
       "      <td>London</td>\n",
       "      <td>9000000</td>\n",
       "    </tr>\n",
       "    <tr>\n",
       "      <th>4</th>\n",
       "      <td>Madrid</td>\n",
       "      <td>6000000</td>\n",
       "    </tr>\n",
       "  </tbody>\n",
       "</table>\n",
       "</div>"
      ],
      "text/plain": [
       "     cities  population\n",
       "0  Istanbul    15000000\n",
       "1    Moscow    12000000\n",
       "2     Paris    11000000\n",
       "3    London     9000000\n",
       "4    Madrid     6000000"
      ]
     },
     "execution_count": 7,
     "metadata": {},
     "output_type": "execute_result"
    }
   ],
   "source": [
    "del df['Unnamed: 0']\n",
    "df"
   ]
  },
  {
   "cell_type": "markdown",
   "id": "509bdcbb",
   "metadata": {},
   "source": [
    "# Sort - apply a sort to existing dataframe"
   ]
  },
  {
   "cell_type": "code",
   "execution_count": 8,
   "id": "a0704a9b",
   "metadata": {},
   "outputs": [
    {
     "data": {
      "text/html": [
       "<div>\n",
       "<style scoped>\n",
       "    .dataframe tbody tr th:only-of-type {\n",
       "        vertical-align: middle;\n",
       "    }\n",
       "\n",
       "    .dataframe tbody tr th {\n",
       "        vertical-align: top;\n",
       "    }\n",
       "\n",
       "    .dataframe thead th {\n",
       "        text-align: right;\n",
       "    }\n",
       "</style>\n",
       "<table border=\"1\" class=\"dataframe\">\n",
       "  <thead>\n",
       "    <tr style=\"text-align: right;\">\n",
       "      <th></th>\n",
       "      <th>cities</th>\n",
       "      <th>population</th>\n",
       "    </tr>\n",
       "  </thead>\n",
       "  <tbody>\n",
       "    <tr>\n",
       "      <th>4</th>\n",
       "      <td>Madrid</td>\n",
       "      <td>6000000</td>\n",
       "    </tr>\n",
       "    <tr>\n",
       "      <th>3</th>\n",
       "      <td>London</td>\n",
       "      <td>9000000</td>\n",
       "    </tr>\n",
       "    <tr>\n",
       "      <th>2</th>\n",
       "      <td>Paris</td>\n",
       "      <td>11000000</td>\n",
       "    </tr>\n",
       "    <tr>\n",
       "      <th>1</th>\n",
       "      <td>Moscow</td>\n",
       "      <td>12000000</td>\n",
       "    </tr>\n",
       "    <tr>\n",
       "      <th>0</th>\n",
       "      <td>Istanbul</td>\n",
       "      <td>15000000</td>\n",
       "    </tr>\n",
       "  </tbody>\n",
       "</table>\n",
       "</div>"
      ],
      "text/plain": [
       "     cities  population\n",
       "4    Madrid     6000000\n",
       "3    London     9000000\n",
       "2     Paris    11000000\n",
       "1    Moscow    12000000\n",
       "0  Istanbul    15000000"
      ]
     },
     "execution_count": 8,
     "metadata": {},
     "output_type": "execute_result"
    }
   ],
   "source": [
    "df.sort_values(by=[\"population\"], ascending=True, inplace=True)\n",
    "df"
   ]
  },
  {
   "cell_type": "markdown",
   "id": "28ff6e66",
   "metadata": {},
   "source": [
    "# Index - reset index numbers after a sort (or any function)"
   ]
  },
  {
   "cell_type": "code",
   "execution_count": 9,
   "id": "00f07c9b",
   "metadata": {},
   "outputs": [
    {
     "data": {
      "text/html": [
       "<div>\n",
       "<style scoped>\n",
       "    .dataframe tbody tr th:only-of-type {\n",
       "        vertical-align: middle;\n",
       "    }\n",
       "\n",
       "    .dataframe tbody tr th {\n",
       "        vertical-align: top;\n",
       "    }\n",
       "\n",
       "    .dataframe thead th {\n",
       "        text-align: right;\n",
       "    }\n",
       "</style>\n",
       "<table border=\"1\" class=\"dataframe\">\n",
       "  <thead>\n",
       "    <tr style=\"text-align: right;\">\n",
       "      <th></th>\n",
       "      <th>cities</th>\n",
       "      <th>population</th>\n",
       "    </tr>\n",
       "  </thead>\n",
       "  <tbody>\n",
       "    <tr>\n",
       "      <th>0</th>\n",
       "      <td>Madrid</td>\n",
       "      <td>6000000</td>\n",
       "    </tr>\n",
       "    <tr>\n",
       "      <th>1</th>\n",
       "      <td>London</td>\n",
       "      <td>9000000</td>\n",
       "    </tr>\n",
       "    <tr>\n",
       "      <th>2</th>\n",
       "      <td>Paris</td>\n",
       "      <td>11000000</td>\n",
       "    </tr>\n",
       "    <tr>\n",
       "      <th>3</th>\n",
       "      <td>Moscow</td>\n",
       "      <td>12000000</td>\n",
       "    </tr>\n",
       "    <tr>\n",
       "      <th>4</th>\n",
       "      <td>Istanbul</td>\n",
       "      <td>15000000</td>\n",
       "    </tr>\n",
       "  </tbody>\n",
       "</table>\n",
       "</div>"
      ],
      "text/plain": [
       "     cities  population\n",
       "0    Madrid     6000000\n",
       "1    London     9000000\n",
       "2     Paris    11000000\n",
       "3    Moscow    12000000\n",
       "4  Istanbul    15000000"
      ]
     },
     "execution_count": 9,
     "metadata": {},
     "output_type": "execute_result"
    }
   ],
   "source": [
    "df.reset_index(drop=True, inplace=True)\n",
    "df"
   ]
  },
  {
   "cell_type": "markdown",
   "id": "d1087f15",
   "metadata": {},
   "source": [
    "# Index - Drop an Index from a dataframe when exporting\n",
    "- Before saving a dataframe to another format such as an Excel spreadsheet, you may want to remove the index from the data frame."
   ]
  },
  {
   "cell_type": "code",
   "execution_count": 10,
   "id": "e76f1b5b",
   "metadata": {},
   "outputs": [],
   "source": [
    "df.to_csv('populations2.csv', index=False)"
   ]
  },
  {
   "cell_type": "markdown",
   "id": "a1849adf",
   "metadata": {},
   "source": [
    "# Find a specific row - based on a search string\n",
    "\n",
    "We want to find a row/ rows where the cities column is \"Paris\".\n",
    "- This will return a DataFrame"
   ]
  },
  {
   "cell_type": "code",
   "execution_count": 11,
   "id": "e388de92",
   "metadata": {},
   "outputs": [
    {
     "data": {
      "text/html": [
       "<div>\n",
       "<style scoped>\n",
       "    .dataframe tbody tr th:only-of-type {\n",
       "        vertical-align: middle;\n",
       "    }\n",
       "\n",
       "    .dataframe tbody tr th {\n",
       "        vertical-align: top;\n",
       "    }\n",
       "\n",
       "    .dataframe thead th {\n",
       "        text-align: right;\n",
       "    }\n",
       "</style>\n",
       "<table border=\"1\" class=\"dataframe\">\n",
       "  <thead>\n",
       "    <tr style=\"text-align: right;\">\n",
       "      <th></th>\n",
       "      <th>cities</th>\n",
       "      <th>population</th>\n",
       "    </tr>\n",
       "  </thead>\n",
       "  <tbody>\n",
       "    <tr>\n",
       "      <th>2</th>\n",
       "      <td>Paris</td>\n",
       "      <td>11000000</td>\n",
       "    </tr>\n",
       "  </tbody>\n",
       "</table>\n",
       "</div>"
      ],
      "text/plain": [
       "  cities  population\n",
       "2  Paris    11000000"
      ]
     },
     "execution_count": 11,
     "metadata": {},
     "output_type": "execute_result"
    }
   ],
   "source": [
    "df[df[\"cities\"] == \"Paris\"]"
   ]
  },
  {
   "cell_type": "markdown",
   "id": "d88d74ac",
   "metadata": {},
   "source": [
    "# Find rows based on filtering"
   ]
  },
  {
   "cell_type": "code",
   "execution_count": 56,
   "id": "b1ffef36",
   "metadata": {},
   "outputs": [
    {
     "data": {
      "text/html": [
       "<div>\n",
       "<style scoped>\n",
       "    .dataframe tbody tr th:only-of-type {\n",
       "        vertical-align: middle;\n",
       "    }\n",
       "\n",
       "    .dataframe tbody tr th {\n",
       "        vertical-align: top;\n",
       "    }\n",
       "\n",
       "    .dataframe thead th {\n",
       "        text-align: right;\n",
       "    }\n",
       "</style>\n",
       "<table border=\"1\" class=\"dataframe\">\n",
       "  <thead>\n",
       "    <tr style=\"text-align: right;\">\n",
       "      <th></th>\n",
       "      <th>cities</th>\n",
       "      <th>population</th>\n",
       "    </tr>\n",
       "  </thead>\n",
       "  <tbody>\n",
       "    <tr>\n",
       "      <th>2</th>\n",
       "      <td>Paris</td>\n",
       "      <td>11000000</td>\n",
       "    </tr>\n",
       "    <tr>\n",
       "      <th>3</th>\n",
       "      <td>Moscow</td>\n",
       "      <td>12000000</td>\n",
       "    </tr>\n",
       "    <tr>\n",
       "      <th>4</th>\n",
       "      <td>Istanbul</td>\n",
       "      <td>15000000</td>\n",
       "    </tr>\n",
       "  </tbody>\n",
       "</table>\n",
       "</div>"
      ],
      "text/plain": [
       "     cities  population\n",
       "2     Paris    11000000\n",
       "3    Moscow    12000000\n",
       "4  Istanbul    15000000"
      ]
     },
     "execution_count": 56,
     "metadata": {},
     "output_type": "execute_result"
    }
   ],
   "source": [
    "df[df['population'] > 10000000]"
   ]
  },
  {
   "cell_type": "markdown",
   "id": "c80a15a7",
   "metadata": {},
   "source": [
    "# Find a specific row - based on Index Number"
   ]
  },
  {
   "cell_type": "markdown",
   "id": "16f7e03c",
   "metadata": {},
   "source": [
    "Here you can find row data based on index number."
   ]
  },
  {
   "cell_type": "code",
   "execution_count": 12,
   "id": "1c152669",
   "metadata": {},
   "outputs": [
    {
     "data": {
      "text/plain": [
       "cities           Paris\n",
       "population    11000000\n",
       "Name: 2, dtype: object"
      ]
     },
     "execution_count": 12,
     "metadata": {},
     "output_type": "execute_result"
    }
   ],
   "source": [
    "# Returns a <class 'pandas.core.series.Series'>\n",
    "df.loc[2]"
   ]
  },
  {
   "cell_type": "markdown",
   "id": "7d78f6d1",
   "metadata": {},
   "source": [
    "# Find specific cell data - based on Index Number"
   ]
  },
  {
   "cell_type": "code",
   "execution_count": 13,
   "id": "d0813e89",
   "metadata": {},
   "outputs": [
    {
     "data": {
      "text/plain": [
       "11000000"
      ]
     },
     "execution_count": 13,
     "metadata": {},
     "output_type": "execute_result"
    }
   ],
   "source": [
    "df.loc[2][\"population\"]"
   ]
  },
  {
   "cell_type": "markdown",
   "id": "5ef55cca",
   "metadata": {},
   "source": [
    "# Find specific cell data - based on a search"
   ]
  },
  {
   "cell_type": "markdown",
   "id": "8c7b2c67",
   "metadata": {},
   "source": [
    "- Here we find only the 'Sales Total' results for the 'Salesperson' named 'Paul'.\n",
    "- The steps are broken down to show how the types returned."
   ]
  },
  {
   "cell_type": "code",
   "execution_count": 14,
   "id": "fded1c2f",
   "metadata": {},
   "outputs": [
    {
     "data": {
      "text/html": [
       "<div>\n",
       "<style scoped>\n",
       "    .dataframe tbody tr th:only-of-type {\n",
       "        vertical-align: middle;\n",
       "    }\n",
       "\n",
       "    .dataframe tbody tr th {\n",
       "        vertical-align: top;\n",
       "    }\n",
       "\n",
       "    .dataframe thead th {\n",
       "        text-align: right;\n",
       "    }\n",
       "</style>\n",
       "<table border=\"1\" class=\"dataframe\">\n",
       "  <thead>\n",
       "    <tr style=\"text-align: right;\">\n",
       "      <th></th>\n",
       "      <th>Salesperson</th>\n",
       "      <th>Sales Total</th>\n",
       "    </tr>\n",
       "  </thead>\n",
       "  <tbody>\n",
       "    <tr>\n",
       "      <th>0</th>\n",
       "      <td>Paul</td>\n",
       "      <td>50</td>\n",
       "    </tr>\n",
       "    <tr>\n",
       "      <th>1</th>\n",
       "      <td>Stacy</td>\n",
       "      <td>100</td>\n",
       "    </tr>\n",
       "    <tr>\n",
       "      <th>2</th>\n",
       "      <td>Paul</td>\n",
       "      <td>80</td>\n",
       "    </tr>\n",
       "  </tbody>\n",
       "</table>\n",
       "</div>"
      ],
      "text/plain": [
       "  Salesperson  Sales Total\n",
       "0        Paul           50\n",
       "1       Stacy          100\n",
       "2        Paul           80"
      ]
     },
     "execution_count": 14,
     "metadata": {},
     "output_type": "execute_result"
    }
   ],
   "source": [
    "df_sp = pd.DataFrame([[\"Paul\",50],[\"Stacy\",100],[\"Paul\",80]], columns=[\"Salesperson\",\"Sales Total\"])\n",
    "df_sp"
   ]
  },
  {
   "cell_type": "code",
   "execution_count": 15,
   "id": "b8dd57cd",
   "metadata": {},
   "outputs": [
    {
     "name": "stdout",
     "output_type": "stream",
     "text": [
      "<class 'pandas.core.indexes.numeric.Int64Index'>\n",
      "Int64Index([0, 2], dtype='int64')\n",
      "<class 'pandas.core.series.Series'>\n",
      "0    50\n",
      "2    80\n",
      "Name: Sales Total, dtype: int64\n"
     ]
    },
    {
     "data": {
      "text/html": [
       "<div>\n",
       "<style scoped>\n",
       "    .dataframe tbody tr th:only-of-type {\n",
       "        vertical-align: middle;\n",
       "    }\n",
       "\n",
       "    .dataframe tbody tr th {\n",
       "        vertical-align: top;\n",
       "    }\n",
       "\n",
       "    .dataframe thead th {\n",
       "        text-align: right;\n",
       "    }\n",
       "</style>\n",
       "<table border=\"1\" class=\"dataframe\">\n",
       "  <thead>\n",
       "    <tr style=\"text-align: right;\">\n",
       "      <th></th>\n",
       "      <th>Sales Total</th>\n",
       "    </tr>\n",
       "  </thead>\n",
       "  <tbody>\n",
       "    <tr>\n",
       "      <th>0</th>\n",
       "      <td>50</td>\n",
       "    </tr>\n",
       "    <tr>\n",
       "      <th>2</th>\n",
       "      <td>80</td>\n",
       "    </tr>\n",
       "  </tbody>\n",
       "</table>\n",
       "</div>"
      ],
      "text/plain": [
       "   Sales Total\n",
       "0           50\n",
       "2           80"
      ]
     },
     "execution_count": 15,
     "metadata": {},
     "output_type": "execute_result"
    }
   ],
   "source": [
    "# Get all index numbers where \"Salesperson\" == \"Paul\"\n",
    "paul_rows = df_sp[df_sp[\"Salesperson\"] == \"Paul\"].index\n",
    "print(type(paul_rows))\n",
    "print(paul_rows)\n",
    "\n",
    "# Pass \"paul_rows\" index numbers to 'df.loc[]' to return a series\n",
    "paul_sales_totals = df_sp.loc[paul_rows][\"Sales Total\"]\n",
    "print(type(paul_sales_totals))\n",
    "print(paul_sales_totals)\n",
    "\n",
    "#Convert series to a data frame\n",
    "pd.DataFrame(paul_sales_totals)"
   ]
  },
  {
   "cell_type": "markdown",
   "id": "470b0cab",
   "metadata": {},
   "source": [
    "# Add a row"
   ]
  },
  {
   "cell_type": "code",
   "execution_count": 16,
   "id": "e66dba93",
   "metadata": {},
   "outputs": [
    {
     "name": "stdout",
     "output_type": "stream",
     "text": [
      "5\n"
     ]
    },
    {
     "data": {
      "text/html": [
       "<div>\n",
       "<style scoped>\n",
       "    .dataframe tbody tr th:only-of-type {\n",
       "        vertical-align: middle;\n",
       "    }\n",
       "\n",
       "    .dataframe tbody tr th {\n",
       "        vertical-align: top;\n",
       "    }\n",
       "\n",
       "    .dataframe thead th {\n",
       "        text-align: right;\n",
       "    }\n",
       "</style>\n",
       "<table border=\"1\" class=\"dataframe\">\n",
       "  <thead>\n",
       "    <tr style=\"text-align: right;\">\n",
       "      <th></th>\n",
       "      <th>cities</th>\n",
       "      <th>population</th>\n",
       "    </tr>\n",
       "  </thead>\n",
       "  <tbody>\n",
       "    <tr>\n",
       "      <th>0</th>\n",
       "      <td>Madrid</td>\n",
       "      <td>6000000</td>\n",
       "    </tr>\n",
       "    <tr>\n",
       "      <th>1</th>\n",
       "      <td>London</td>\n",
       "      <td>9000000</td>\n",
       "    </tr>\n",
       "    <tr>\n",
       "      <th>2</th>\n",
       "      <td>Paris</td>\n",
       "      <td>11000000</td>\n",
       "    </tr>\n",
       "    <tr>\n",
       "      <th>3</th>\n",
       "      <td>Moscow</td>\n",
       "      <td>12000000</td>\n",
       "    </tr>\n",
       "    <tr>\n",
       "      <th>4</th>\n",
       "      <td>Istanbul</td>\n",
       "      <td>15000000</td>\n",
       "    </tr>\n",
       "    <tr>\n",
       "      <th>5</th>\n",
       "      <td>Berlin</td>\n",
       "      <td>3700000</td>\n",
       "    </tr>\n",
       "  </tbody>\n",
       "</table>\n",
       "</div>"
      ],
      "text/plain": [
       "     cities  population\n",
       "0    Madrid     6000000\n",
       "1    London     9000000\n",
       "2     Paris    11000000\n",
       "3    Moscow    12000000\n",
       "4  Istanbul    15000000\n",
       "5    Berlin     3700000"
      ]
     },
     "execution_count": 16,
     "metadata": {},
     "output_type": "execute_result"
    }
   ],
   "source": [
    "# First get latest row number\n",
    "next_row = len(df) \n",
    "print(next_row)\n",
    "# Create a new row and add data\n",
    "df.loc[next_row] = ['Berlin',3700000]\n",
    "df"
   ]
  },
  {
   "cell_type": "markdown",
   "id": "df42eb31",
   "metadata": {},
   "source": [
    "# Add a row - based on previous row data"
   ]
  },
  {
   "cell_type": "markdown",
   "id": "03a6b280",
   "metadata": {},
   "source": [
    "- Here we take the previous 'Investment Total' figure.\n",
    "- We round it down to the nearest hundred.\n",
    "- We calculate 2% of the rounded number.\n",
    "- We then add the 2% to the previous 'Investment Total' in a newly created row:"
   ]
  },
  {
   "cell_type": "code",
   "execution_count": 17,
   "id": "6e06f1b6",
   "metadata": {},
   "outputs": [
    {
     "data": {
      "text/plain": [
       "23700"
      ]
     },
     "execution_count": 17,
     "metadata": {},
     "output_type": "execute_result"
    }
   ],
   "source": [
    "import math\n",
    "\n",
    "# Function to round figure down to the nearest hundred\n",
    "def round_down_to_hundred(total):\n",
    "    if total < 100:\n",
    "        return 0\n",
    "    total_reduced = str(math.floor(total/100))\n",
    "    return int(total_reduced + \"00\")\n",
    "\n",
    "#Test function works\n",
    "round_down_to_hundred(23706.0)"
   ]
  },
  {
   "cell_type": "code",
   "execution_count": 18,
   "id": "cdc3bd9c",
   "metadata": {},
   "outputs": [
    {
     "data": {
      "text/html": [
       "<div>\n",
       "<style scoped>\n",
       "    .dataframe tbody tr th:only-of-type {\n",
       "        vertical-align: middle;\n",
       "    }\n",
       "\n",
       "    .dataframe tbody tr th {\n",
       "        vertical-align: top;\n",
       "    }\n",
       "\n",
       "    .dataframe thead th {\n",
       "        text-align: right;\n",
       "    }\n",
       "</style>\n",
       "<table border=\"1\" class=\"dataframe\">\n",
       "  <thead>\n",
       "    <tr style=\"text-align: right;\">\n",
       "      <th></th>\n",
       "      <th>Investment Total</th>\n",
       "    </tr>\n",
       "  </thead>\n",
       "  <tbody>\n",
       "    <tr>\n",
       "      <th>0</th>\n",
       "      <td>45625.0</td>\n",
       "    </tr>\n",
       "    <tr>\n",
       "      <th>1</th>\n",
       "      <td>45735.0</td>\n",
       "    </tr>\n",
       "    <tr>\n",
       "      <th>2</th>\n",
       "      <td>46649.0</td>\n",
       "    </tr>\n",
       "  </tbody>\n",
       "</table>\n",
       "</div>"
      ],
      "text/plain": [
       "   Investment Total\n",
       "0           45625.0\n",
       "1           45735.0\n",
       "2           46649.0"
      ]
     },
     "execution_count": 18,
     "metadata": {},
     "output_type": "execute_result"
    }
   ],
   "source": [
    "# New data frame\n",
    "df_investment = pd.DataFrame([[45625],[45735]], columns=[\"Investment Total\"])\n",
    "\n",
    "# Get 'Investment Total' from most recent row\n",
    "current_total = df_investment.loc[len(df_investment)-1]['Investment Total']\n",
    "\n",
    "# Get next row number\n",
    "next_row = len(df_investment)\n",
    "\n",
    "# Create the next row adding 2% to the current total rounded down to the nearest hundred\n",
    "df_investment.loc[next_row] = [current_total + ((round_down_to_hundred(current_total)) * 0.02)]\n",
    "\n",
    "df_investment"
   ]
  },
  {
   "cell_type": "markdown",
   "id": "559f9d51",
   "metadata": {},
   "source": [
    "# Update a cell - based on Index Number"
   ]
  },
  {
   "cell_type": "code",
   "execution_count": 19,
   "id": "86fc93a2",
   "metadata": {},
   "outputs": [
    {
     "name": "stdout",
     "output_type": "stream",
     "text": [
      "     cities  population\n",
      "0    Madrid     5000000\n",
      "1    London     9000000\n",
      "2     Paris    11000000\n",
      "3    Moscow    12000000\n",
      "4  Istanbul    15000000\n",
      "5    Berlin     3700000\n"
     ]
    },
    {
     "data": {
      "text/html": [
       "<div>\n",
       "<style scoped>\n",
       "    .dataframe tbody tr th:only-of-type {\n",
       "        vertical-align: middle;\n",
       "    }\n",
       "\n",
       "    .dataframe tbody tr th {\n",
       "        vertical-align: top;\n",
       "    }\n",
       "\n",
       "    .dataframe thead th {\n",
       "        text-align: right;\n",
       "    }\n",
       "</style>\n",
       "<table border=\"1\" class=\"dataframe\">\n",
       "  <thead>\n",
       "    <tr style=\"text-align: right;\">\n",
       "      <th></th>\n",
       "      <th>cities</th>\n",
       "      <th>population</th>\n",
       "    </tr>\n",
       "  </thead>\n",
       "  <tbody>\n",
       "    <tr>\n",
       "      <th>0</th>\n",
       "      <td>Madrid</td>\n",
       "      <td>6000000</td>\n",
       "    </tr>\n",
       "    <tr>\n",
       "      <th>1</th>\n",
       "      <td>London</td>\n",
       "      <td>9000000</td>\n",
       "    </tr>\n",
       "    <tr>\n",
       "      <th>2</th>\n",
       "      <td>Paris</td>\n",
       "      <td>11000000</td>\n",
       "    </tr>\n",
       "    <tr>\n",
       "      <th>3</th>\n",
       "      <td>Moscow</td>\n",
       "      <td>12000000</td>\n",
       "    </tr>\n",
       "    <tr>\n",
       "      <th>4</th>\n",
       "      <td>Istanbul</td>\n",
       "      <td>15000000</td>\n",
       "    </tr>\n",
       "    <tr>\n",
       "      <th>5</th>\n",
       "      <td>Berlin</td>\n",
       "      <td>3700000</td>\n",
       "    </tr>\n",
       "  </tbody>\n",
       "</table>\n",
       "</div>"
      ],
      "text/plain": [
       "     cities  population\n",
       "0    Madrid     6000000\n",
       "1    London     9000000\n",
       "2     Paris    11000000\n",
       "3    Moscow    12000000\n",
       "4  Istanbul    15000000\n",
       "5    Berlin     3700000"
      ]
     },
     "execution_count": 19,
     "metadata": {},
     "output_type": "execute_result"
    }
   ],
   "source": [
    "# Update Madrid population and change it back.\n",
    "df.at[0,'population'] = 5000000\n",
    "print(df)\n",
    "df.at[0,'population'] = 6000000\n",
    "df"
   ]
  },
  {
   "cell_type": "markdown",
   "id": "ba7d8ea4",
   "metadata": {},
   "source": [
    "# Columns - adding a new Column"
   ]
  },
  {
   "cell_type": "code",
   "execution_count": 20,
   "id": "e1edfb41",
   "metadata": {},
   "outputs": [
    {
     "data": {
      "text/html": [
       "<div>\n",
       "<style scoped>\n",
       "    .dataframe tbody tr th:only-of-type {\n",
       "        vertical-align: middle;\n",
       "    }\n",
       "\n",
       "    .dataframe tbody tr th {\n",
       "        vertical-align: top;\n",
       "    }\n",
       "\n",
       "    .dataframe thead th {\n",
       "        text-align: right;\n",
       "    }\n",
       "</style>\n",
       "<table border=\"1\" class=\"dataframe\">\n",
       "  <thead>\n",
       "    <tr style=\"text-align: right;\">\n",
       "      <th></th>\n",
       "      <th>Salesperson</th>\n",
       "      <th>Sales Total</th>\n",
       "      <th>Example Column</th>\n",
       "    </tr>\n",
       "  </thead>\n",
       "  <tbody>\n",
       "    <tr>\n",
       "      <th>0</th>\n",
       "      <td>Paul</td>\n",
       "      <td>50</td>\n",
       "      <td>10</td>\n",
       "    </tr>\n",
       "    <tr>\n",
       "      <th>1</th>\n",
       "      <td>Stacy</td>\n",
       "      <td>100</td>\n",
       "      <td>10</td>\n",
       "    </tr>\n",
       "    <tr>\n",
       "      <th>2</th>\n",
       "      <td>Paul</td>\n",
       "      <td>80</td>\n",
       "      <td>10</td>\n",
       "    </tr>\n",
       "  </tbody>\n",
       "</table>\n",
       "</div>"
      ],
      "text/plain": [
       "  Salesperson  Sales Total  Example Column\n",
       "0        Paul           50              10\n",
       "1       Stacy          100              10\n",
       "2        Paul           80              10"
      ]
     },
     "execution_count": 20,
     "metadata": {},
     "output_type": "execute_result"
    }
   ],
   "source": [
    "# Using df_sp (Salesperson sales totals from above)\n",
    "# All columns will have the same data\n",
    "df_sp['Example Column'] = 10\n",
    "df_sp"
   ]
  },
  {
   "cell_type": "markdown",
   "id": "c6288aed",
   "metadata": {},
   "source": [
    "# Columns - Deleting a column"
   ]
  },
  {
   "cell_type": "code",
   "execution_count": 21,
   "id": "1d207eeb",
   "metadata": {},
   "outputs": [
    {
     "data": {
      "text/html": [
       "<div>\n",
       "<style scoped>\n",
       "    .dataframe tbody tr th:only-of-type {\n",
       "        vertical-align: middle;\n",
       "    }\n",
       "\n",
       "    .dataframe tbody tr th {\n",
       "        vertical-align: top;\n",
       "    }\n",
       "\n",
       "    .dataframe thead th {\n",
       "        text-align: right;\n",
       "    }\n",
       "</style>\n",
       "<table border=\"1\" class=\"dataframe\">\n",
       "  <thead>\n",
       "    <tr style=\"text-align: right;\">\n",
       "      <th></th>\n",
       "      <th>Salesperson</th>\n",
       "      <th>Sales Total</th>\n",
       "    </tr>\n",
       "  </thead>\n",
       "  <tbody>\n",
       "    <tr>\n",
       "      <th>0</th>\n",
       "      <td>Paul</td>\n",
       "      <td>50</td>\n",
       "    </tr>\n",
       "    <tr>\n",
       "      <th>1</th>\n",
       "      <td>Stacy</td>\n",
       "      <td>100</td>\n",
       "    </tr>\n",
       "    <tr>\n",
       "      <th>2</th>\n",
       "      <td>Paul</td>\n",
       "      <td>80</td>\n",
       "    </tr>\n",
       "  </tbody>\n",
       "</table>\n",
       "</div>"
      ],
      "text/plain": [
       "  Salesperson  Sales Total\n",
       "0        Paul           50\n",
       "1       Stacy          100\n",
       "2        Paul           80"
      ]
     },
     "execution_count": 21,
     "metadata": {},
     "output_type": "execute_result"
    }
   ],
   "source": [
    "del df_sp['Example Column']\n",
    "df_sp"
   ]
  },
  {
   "cell_type": "markdown",
   "id": "83fc02be",
   "metadata": {},
   "source": [
    "# Columns - create a new column from a sum"
   ]
  },
  {
   "cell_type": "markdown",
   "id": "8479d0e5",
   "metadata": {},
   "source": [
    "- Here we are going to create a 'Sales Quantity' column based on an assumption that the items being sold are valued at 5 each."
   ]
  },
  {
   "cell_type": "code",
   "execution_count": 22,
   "id": "7fb4979c",
   "metadata": {},
   "outputs": [
    {
     "data": {
      "text/html": [
       "<div>\n",
       "<style scoped>\n",
       "    .dataframe tbody tr th:only-of-type {\n",
       "        vertical-align: middle;\n",
       "    }\n",
       "\n",
       "    .dataframe tbody tr th {\n",
       "        vertical-align: top;\n",
       "    }\n",
       "\n",
       "    .dataframe thead th {\n",
       "        text-align: right;\n",
       "    }\n",
       "</style>\n",
       "<table border=\"1\" class=\"dataframe\">\n",
       "  <thead>\n",
       "    <tr style=\"text-align: right;\">\n",
       "      <th></th>\n",
       "      <th>Salesperson</th>\n",
       "      <th>Sales Total</th>\n",
       "      <th>Sales Quantity</th>\n",
       "    </tr>\n",
       "  </thead>\n",
       "  <tbody>\n",
       "    <tr>\n",
       "      <th>0</th>\n",
       "      <td>Paul</td>\n",
       "      <td>50</td>\n",
       "      <td>10.0</td>\n",
       "    </tr>\n",
       "    <tr>\n",
       "      <th>1</th>\n",
       "      <td>Stacy</td>\n",
       "      <td>100</td>\n",
       "      <td>20.0</td>\n",
       "    </tr>\n",
       "    <tr>\n",
       "      <th>2</th>\n",
       "      <td>Paul</td>\n",
       "      <td>80</td>\n",
       "      <td>16.0</td>\n",
       "    </tr>\n",
       "  </tbody>\n",
       "</table>\n",
       "</div>"
      ],
      "text/plain": [
       "  Salesperson  Sales Total  Sales Quantity\n",
       "0        Paul           50            10.0\n",
       "1       Stacy          100            20.0\n",
       "2        Paul           80            16.0"
      ]
     },
     "execution_count": 22,
     "metadata": {},
     "output_type": "execute_result"
    }
   ],
   "source": [
    "df_sp['Sales Quantity'] = df_sp['Sales Total'] / 5\n",
    "df_sp"
   ]
  },
  {
   "cell_type": "markdown",
   "id": "3210801f",
   "metadata": {},
   "source": [
    "# Columns - create a new column with the APPLY() method"
   ]
  },
  {
   "cell_type": "markdown",
   "id": "5addf366",
   "metadata": {},
   "source": [
    "- Here we create a new column based on applying a function to existing column data."
   ]
  },
  {
   "cell_type": "code",
   "execution_count": 23,
   "id": "14466e9a",
   "metadata": {},
   "outputs": [
    {
     "data": {
      "text/html": [
       "<div>\n",
       "<style scoped>\n",
       "    .dataframe tbody tr th:only-of-type {\n",
       "        vertical-align: middle;\n",
       "    }\n",
       "\n",
       "    .dataframe tbody tr th {\n",
       "        vertical-align: top;\n",
       "    }\n",
       "\n",
       "    .dataframe thead th {\n",
       "        text-align: right;\n",
       "    }\n",
       "</style>\n",
       "<table border=\"1\" class=\"dataframe\">\n",
       "  <thead>\n",
       "    <tr style=\"text-align: right;\">\n",
       "      <th></th>\n",
       "      <th>Salesperson</th>\n",
       "      <th>Sales Total</th>\n",
       "      <th>Sales Quantity</th>\n",
       "      <th>New Sales Quantity</th>\n",
       "    </tr>\n",
       "  </thead>\n",
       "  <tbody>\n",
       "    <tr>\n",
       "      <th>0</th>\n",
       "      <td>Paul</td>\n",
       "      <td>50</td>\n",
       "      <td>10.0</td>\n",
       "      <td>5.0</td>\n",
       "    </tr>\n",
       "    <tr>\n",
       "      <th>1</th>\n",
       "      <td>Stacy</td>\n",
       "      <td>100</td>\n",
       "      <td>20.0</td>\n",
       "      <td>10.0</td>\n",
       "    </tr>\n",
       "    <tr>\n",
       "      <th>2</th>\n",
       "      <td>Paul</td>\n",
       "      <td>80</td>\n",
       "      <td>16.0</td>\n",
       "      <td>8.0</td>\n",
       "    </tr>\n",
       "  </tbody>\n",
       "</table>\n",
       "</div>"
      ],
      "text/plain": [
       "  Salesperson  Sales Total  Sales Quantity  New Sales Quantity\n",
       "0        Paul           50            10.0                 5.0\n",
       "1       Stacy          100            20.0                10.0\n",
       "2        Paul           80            16.0                 8.0"
      ]
     },
     "execution_count": 23,
     "metadata": {},
     "output_type": "execute_result"
    }
   ],
   "source": [
    "def divide_by_10(sales_total):\n",
    "    return sales_total / 10\n",
    "df_sp['New Sales Quantity'] = df_sp['Sales Total'].apply(divide_by_10)\n",
    "df_sp"
   ]
  },
  {
   "cell_type": "markdown",
   "id": "2afc5309",
   "metadata": {},
   "source": [
    "# Columns - change data type - float to integer"
   ]
  },
  {
   "cell_type": "markdown",
   "id": "2070444e",
   "metadata": {},
   "source": [
    "- We have some columns containing floats and some containing ints after previous column creation with calculations."
   ]
  },
  {
   "cell_type": "code",
   "execution_count": 24,
   "id": "e3dda139",
   "metadata": {},
   "outputs": [
    {
     "data": {
      "text/plain": [
       "Salesperson            object\n",
       "Sales Total             int64\n",
       "Sales Quantity        float64\n",
       "New Sales Quantity    float64\n",
       "dtype: object"
      ]
     },
     "execution_count": 24,
     "metadata": {},
     "output_type": "execute_result"
    }
   ],
   "source": [
    "df_sp.dtypes"
   ]
  },
  {
   "cell_type": "markdown",
   "id": "355acf35",
   "metadata": {},
   "source": [
    "- We can change the type of columns."
   ]
  },
  {
   "cell_type": "code",
   "execution_count": 28,
   "id": "a69949ee",
   "metadata": {},
   "outputs": [
    {
     "data": {
      "text/html": [
       "<div>\n",
       "<style scoped>\n",
       "    .dataframe tbody tr th:only-of-type {\n",
       "        vertical-align: middle;\n",
       "    }\n",
       "\n",
       "    .dataframe tbody tr th {\n",
       "        vertical-align: top;\n",
       "    }\n",
       "\n",
       "    .dataframe thead th {\n",
       "        text-align: right;\n",
       "    }\n",
       "</style>\n",
       "<table border=\"1\" class=\"dataframe\">\n",
       "  <thead>\n",
       "    <tr style=\"text-align: right;\">\n",
       "      <th></th>\n",
       "      <th>Salesperson</th>\n",
       "      <th>Sales Total</th>\n",
       "      <th>Sales Quantity</th>\n",
       "      <th>New Sales Quantity</th>\n",
       "    </tr>\n",
       "  </thead>\n",
       "  <tbody>\n",
       "    <tr>\n",
       "      <th>0</th>\n",
       "      <td>Paul</td>\n",
       "      <td>50</td>\n",
       "      <td>10</td>\n",
       "      <td>5</td>\n",
       "    </tr>\n",
       "    <tr>\n",
       "      <th>1</th>\n",
       "      <td>Stacy</td>\n",
       "      <td>100</td>\n",
       "      <td>20</td>\n",
       "      <td>10</td>\n",
       "    </tr>\n",
       "    <tr>\n",
       "      <th>2</th>\n",
       "      <td>Paul</td>\n",
       "      <td>80</td>\n",
       "      <td>16</td>\n",
       "      <td>8</td>\n",
       "    </tr>\n",
       "  </tbody>\n",
       "</table>\n",
       "</div>"
      ],
      "text/plain": [
       "  Salesperson  Sales Total  Sales Quantity  New Sales Quantity\n",
       "0        Paul           50              10                   5\n",
       "1       Stacy          100              20                  10\n",
       "2        Paul           80              16                   8"
      ]
     },
     "execution_count": 28,
     "metadata": {},
     "output_type": "execute_result"
    }
   ],
   "source": [
    "df_sp['Sales Quantity'] = df_sp['Sales Quantity'].astype(int)\n",
    "df_sp['New Sales Quantity'] = df_sp['New Sales Quantity'].astype(int)\n",
    "df_sp"
   ]
  },
  {
   "cell_type": "markdown",
   "id": "75c26217",
   "metadata": {},
   "source": [
    "# Columns - create a new string column based on logic in APPLY() method"
   ]
  },
  {
   "cell_type": "markdown",
   "id": "1879851d",
   "metadata": {},
   "source": [
    "- Here we create a new string column based on sales performance."
   ]
  },
  {
   "cell_type": "code",
   "execution_count": 35,
   "id": "b9299d9a",
   "metadata": {},
   "outputs": [
    {
     "data": {
      "text/html": [
       "<div>\n",
       "<style scoped>\n",
       "    .dataframe tbody tr th:only-of-type {\n",
       "        vertical-align: middle;\n",
       "    }\n",
       "\n",
       "    .dataframe tbody tr th {\n",
       "        vertical-align: top;\n",
       "    }\n",
       "\n",
       "    .dataframe thead th {\n",
       "        text-align: right;\n",
       "    }\n",
       "</style>\n",
       "<table border=\"1\" class=\"dataframe\">\n",
       "  <thead>\n",
       "    <tr style=\"text-align: right;\">\n",
       "      <th></th>\n",
       "      <th>Salesperson</th>\n",
       "      <th>Sales Total</th>\n",
       "      <th>Sales Quantity</th>\n",
       "      <th>New Sales Quantity</th>\n",
       "      <th>Performance</th>\n",
       "    </tr>\n",
       "  </thead>\n",
       "  <tbody>\n",
       "    <tr>\n",
       "      <th>0</th>\n",
       "      <td>Paul</td>\n",
       "      <td>50</td>\n",
       "      <td>10</td>\n",
       "      <td>5</td>\n",
       "      <td>Bad</td>\n",
       "    </tr>\n",
       "    <tr>\n",
       "      <th>1</th>\n",
       "      <td>Stacy</td>\n",
       "      <td>100</td>\n",
       "      <td>20</td>\n",
       "      <td>10</td>\n",
       "      <td>Good</td>\n",
       "    </tr>\n",
       "    <tr>\n",
       "      <th>2</th>\n",
       "      <td>Paul</td>\n",
       "      <td>80</td>\n",
       "      <td>16</td>\n",
       "      <td>8</td>\n",
       "      <td>Good</td>\n",
       "    </tr>\n",
       "  </tbody>\n",
       "</table>\n",
       "</div>"
      ],
      "text/plain": [
       "  Salesperson  Sales Total  Sales Quantity  New Sales Quantity Performance\n",
       "0        Paul           50              10                   5         Bad\n",
       "1       Stacy          100              20                  10        Good\n",
       "2        Paul           80              16                   8        Good"
      ]
     },
     "execution_count": 35,
     "metadata": {},
     "output_type": "execute_result"
    }
   ],
   "source": [
    "def good_bad(sales_total):\n",
    "    try:\n",
    "        if sales_total > 60:\n",
    "            return 'Good'\n",
    "        else:\n",
    "            return 'Bad'\n",
    "    except:\n",
    "        return 'N/A'\n",
    "    \n",
    "df_sp['Performance'] = df_sp['Sales Total'].apply(good_bad)\n",
    "df_sp"
   ]
  },
  {
   "cell_type": "markdown",
   "id": "6122ddef",
   "metadata": {},
   "source": [
    "# Columns and Dates - create a year and month column from a date"
   ]
  },
  {
   "cell_type": "code",
   "execution_count": 44,
   "id": "81101ce7",
   "metadata": {},
   "outputs": [
    {
     "data": {
      "text/html": [
       "<div>\n",
       "<style scoped>\n",
       "    .dataframe tbody tr th:only-of-type {\n",
       "        vertical-align: middle;\n",
       "    }\n",
       "\n",
       "    .dataframe tbody tr th {\n",
       "        vertical-align: top;\n",
       "    }\n",
       "\n",
       "    .dataframe thead th {\n",
       "        text-align: right;\n",
       "    }\n",
       "</style>\n",
       "<table border=\"1\" class=\"dataframe\">\n",
       "  <thead>\n",
       "    <tr style=\"text-align: right;\">\n",
       "      <th></th>\n",
       "      <th>Salesperson</th>\n",
       "      <th>Sales Total</th>\n",
       "      <th>Sales Quantity</th>\n",
       "      <th>New Sales Quantity</th>\n",
       "      <th>Performance</th>\n",
       "      <th>Date</th>\n",
       "    </tr>\n",
       "  </thead>\n",
       "  <tbody>\n",
       "    <tr>\n",
       "      <th>0</th>\n",
       "      <td>Paul</td>\n",
       "      <td>50</td>\n",
       "      <td>10</td>\n",
       "      <td>5</td>\n",
       "      <td>Bad</td>\n",
       "      <td>2022-01-07</td>\n",
       "    </tr>\n",
       "    <tr>\n",
       "      <th>1</th>\n",
       "      <td>Stacy</td>\n",
       "      <td>100</td>\n",
       "      <td>20</td>\n",
       "      <td>10</td>\n",
       "      <td>Good</td>\n",
       "      <td>2022-01-07</td>\n",
       "    </tr>\n",
       "    <tr>\n",
       "      <th>2</th>\n",
       "      <td>Paul</td>\n",
       "      <td>80</td>\n",
       "      <td>16</td>\n",
       "      <td>8</td>\n",
       "      <td>Good</td>\n",
       "      <td>2022-01-07</td>\n",
       "    </tr>\n",
       "  </tbody>\n",
       "</table>\n",
       "</div>"
      ],
      "text/plain": [
       "  Salesperson  Sales Total  Sales Quantity  New Sales Quantity Performance  \\\n",
       "0        Paul           50              10                   5         Bad   \n",
       "1       Stacy          100              20                  10        Good   \n",
       "2        Paul           80              16                   8        Good   \n",
       "\n",
       "        Date  \n",
       "0 2022-01-07  \n",
       "1 2022-01-07  \n",
       "2 2022-01-07  "
      ]
     },
     "execution_count": 44,
     "metadata": {},
     "output_type": "execute_result"
    }
   ],
   "source": [
    "df_sp['Date'] = datetime(2022,1,7)\n",
    "df_sp"
   ]
  },
  {
   "cell_type": "code",
   "execution_count": 54,
   "id": "81229fec",
   "metadata": {},
   "outputs": [
    {
     "data": {
      "text/html": [
       "<div>\n",
       "<style scoped>\n",
       "    .dataframe tbody tr th:only-of-type {\n",
       "        vertical-align: middle;\n",
       "    }\n",
       "\n",
       "    .dataframe tbody tr th {\n",
       "        vertical-align: top;\n",
       "    }\n",
       "\n",
       "    .dataframe thead th {\n",
       "        text-align: right;\n",
       "    }\n",
       "</style>\n",
       "<table border=\"1\" class=\"dataframe\">\n",
       "  <thead>\n",
       "    <tr style=\"text-align: right;\">\n",
       "      <th></th>\n",
       "      <th>Salesperson</th>\n",
       "      <th>Sales Total</th>\n",
       "      <th>Sales Quantity</th>\n",
       "      <th>New Sales Quantity</th>\n",
       "      <th>Performance</th>\n",
       "      <th>Date</th>\n",
       "      <th>Year</th>\n",
       "      <th>Month</th>\n",
       "    </tr>\n",
       "  </thead>\n",
       "  <tbody>\n",
       "    <tr>\n",
       "      <th>0</th>\n",
       "      <td>Paul</td>\n",
       "      <td>50</td>\n",
       "      <td>10</td>\n",
       "      <td>5</td>\n",
       "      <td>Bad</td>\n",
       "      <td>2022-01-07</td>\n",
       "      <td>2022</td>\n",
       "      <td>January</td>\n",
       "    </tr>\n",
       "    <tr>\n",
       "      <th>1</th>\n",
       "      <td>Stacy</td>\n",
       "      <td>100</td>\n",
       "      <td>20</td>\n",
       "      <td>10</td>\n",
       "      <td>Good</td>\n",
       "      <td>2022-01-07</td>\n",
       "      <td>2022</td>\n",
       "      <td>January</td>\n",
       "    </tr>\n",
       "    <tr>\n",
       "      <th>2</th>\n",
       "      <td>Paul</td>\n",
       "      <td>80</td>\n",
       "      <td>16</td>\n",
       "      <td>8</td>\n",
       "      <td>Good</td>\n",
       "      <td>2022-01-07</td>\n",
       "      <td>2022</td>\n",
       "      <td>January</td>\n",
       "    </tr>\n",
       "  </tbody>\n",
       "</table>\n",
       "</div>"
      ],
      "text/plain": [
       "  Salesperson  Sales Total  Sales Quantity  New Sales Quantity Performance  \\\n",
       "0        Paul           50              10                   5         Bad   \n",
       "1       Stacy          100              20                  10        Good   \n",
       "2        Paul           80              16                   8        Good   \n",
       "\n",
       "        Date  Year    Month  \n",
       "0 2022-01-07  2022  January  \n",
       "1 2022-01-07  2022  January  \n",
       "2 2022-01-07  2022  January  "
      ]
     },
     "execution_count": 54,
     "metadata": {},
     "output_type": "execute_result"
    }
   ],
   "source": [
    "def return_month(x):\n",
    "    try:\n",
    "        return x.month_name()\n",
    "    except:\n",
    "        return x\n",
    "    \n",
    "def return_year(x):\n",
    "    try:\n",
    "        return x.year\n",
    "    except:\n",
    "        return x\n",
    "\n",
    "df_sp['Month'] = df_sp['Date'].apply(return_month)\n",
    "df_sp['Year'] = df_sp['Date'].apply(return_year)\n",
    "df_sp"
   ]
  },
  {
   "cell_type": "markdown",
   "id": "ba7a4e4e",
   "metadata": {},
   "source": [
    "# Data Frame - use the APPLY() method on an entire dataframe"
   ]
  },
  {
   "cell_type": "markdown",
   "id": "c157d8c8",
   "metadata": {},
   "source": [
    "- It's more common to use the apply method on individual columns but you can apply functions to an entire dataframe.\n",
    "- NOTE! This doesn't affect the existing dataframe - so you must ASSIGN to a dataframe."
   ]
  },
  {
   "cell_type": "code",
   "execution_count": 40,
   "id": "0652ef12",
   "metadata": {},
   "outputs": [
    {
     "name": "stdout",
     "output_type": "stream",
     "text": [
      "   A  B\n",
      "0  1  2\n",
      "1  3  4\n"
     ]
    },
    {
     "data": {
      "text/html": [
       "<div>\n",
       "<style scoped>\n",
       "    .dataframe tbody tr th:only-of-type {\n",
       "        vertical-align: middle;\n",
       "    }\n",
       "\n",
       "    .dataframe tbody tr th {\n",
       "        vertical-align: top;\n",
       "    }\n",
       "\n",
       "    .dataframe thead th {\n",
       "        text-align: right;\n",
       "    }\n",
       "</style>\n",
       "<table border=\"1\" class=\"dataframe\">\n",
       "  <thead>\n",
       "    <tr style=\"text-align: right;\">\n",
       "      <th></th>\n",
       "      <th>A</th>\n",
       "      <th>B</th>\n",
       "    </tr>\n",
       "  </thead>\n",
       "  <tbody>\n",
       "    <tr>\n",
       "      <th>0</th>\n",
       "      <td>6</td>\n",
       "      <td>7</td>\n",
       "    </tr>\n",
       "    <tr>\n",
       "      <th>1</th>\n",
       "      <td>8</td>\n",
       "      <td>9</td>\n",
       "    </tr>\n",
       "  </tbody>\n",
       "</table>\n",
       "</div>"
      ],
      "text/plain": [
       "   A  B\n",
       "0  6  7\n",
       "1  8  9"
      ]
     },
     "execution_count": 40,
     "metadata": {},
     "output_type": "execute_result"
    }
   ],
   "source": [
    "df_nums = pd.DataFrame([[1,2],[3,4]], columns=['A','B'])\n",
    "print(df_nums)\n",
    "df_nums = df_nums.apply(lambda x: x + 5)\n",
    "df_nums"
   ]
  },
  {
   "cell_type": "markdown",
   "id": "bc48187a",
   "metadata": {},
   "source": [
    "# NaN - convert missing numerical data to 0\n",
    "- NaN means missing data\n",
    "- Any blank cells from a spreadsheet will be returned as NaN"
   ]
  },
  {
   "cell_type": "code",
   "execution_count": 29,
   "id": "a2140376",
   "metadata": {},
   "outputs": [
    {
     "data": {
      "text/html": [
       "<div>\n",
       "<style scoped>\n",
       "    .dataframe tbody tr th:only-of-type {\n",
       "        vertical-align: middle;\n",
       "    }\n",
       "\n",
       "    .dataframe tbody tr th {\n",
       "        vertical-align: top;\n",
       "    }\n",
       "\n",
       "    .dataframe thead th {\n",
       "        text-align: right;\n",
       "    }\n",
       "</style>\n",
       "<table border=\"1\" class=\"dataframe\">\n",
       "  <thead>\n",
       "    <tr style=\"text-align: right;\">\n",
       "      <th></th>\n",
       "      <th>Salesperson</th>\n",
       "      <th>Sales Total</th>\n",
       "      <th>Sales Quantity</th>\n",
       "      <th>New Sales Quantity</th>\n",
       "    </tr>\n",
       "  </thead>\n",
       "  <tbody>\n",
       "    <tr>\n",
       "      <th>0</th>\n",
       "      <td>Paul</td>\n",
       "      <td>50</td>\n",
       "      <td>10</td>\n",
       "      <td>5</td>\n",
       "    </tr>\n",
       "    <tr>\n",
       "      <th>1</th>\n",
       "      <td>Stacy</td>\n",
       "      <td>100</td>\n",
       "      <td>20</td>\n",
       "      <td>10</td>\n",
       "    </tr>\n",
       "    <tr>\n",
       "      <th>2</th>\n",
       "      <td>Paul</td>\n",
       "      <td>80</td>\n",
       "      <td>16</td>\n",
       "      <td>8</td>\n",
       "    </tr>\n",
       "  </tbody>\n",
       "</table>\n",
       "</div>"
      ],
      "text/plain": [
       "  Salesperson  Sales Total  Sales Quantity  New Sales Quantity\n",
       "0        Paul           50              10                   5\n",
       "1       Stacy          100              20                  10\n",
       "2        Paul           80              16                   8"
      ]
     },
     "execution_count": 29,
     "metadata": {},
     "output_type": "execute_result"
    }
   ],
   "source": [
    "# Using df_sp from above (Salesperson and Sales Total columns)\n",
    "df_sp"
   ]
  }
 ],
 "metadata": {
  "kernelspec": {
   "display_name": "Python 3 (ipykernel)",
   "language": "python",
   "name": "python3"
  },
  "language_info": {
   "codemirror_mode": {
    "name": "ipython",
    "version": 3
   },
   "file_extension": ".py",
   "mimetype": "text/x-python",
   "name": "python",
   "nbconvert_exporter": "python",
   "pygments_lexer": "ipython3",
   "version": "3.9.7"
  }
 },
 "nbformat": 4,
 "nbformat_minor": 5
}
